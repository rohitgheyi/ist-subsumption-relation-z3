{
  "nbformat": 4,
  "nbformat_minor": 0,
  "metadata": {
    "colab": {
      "name": "subsumption-relations-final.ipynb",
      "provenance": [],
      "collapsed_sections": []
    },
    "kernelspec": {
      "name": "python3",
      "display_name": "Python 3"
    }
  },
  "cells": [
    {
      "cell_type": "markdown",
      "metadata": {
        "id": "PHncwB-qClIU"
      },
      "source": [
        "# **Identifying Method-Level Mutant Subsumption Relations in Z3**"
      ]
    },
    {
      "cell_type": "markdown",
      "metadata": {
        "id": "MrqeMMOJUE5m"
      },
      "source": [
        "### **Importing Libraries**"
      ]
    },
    {
      "cell_type": "code",
      "metadata": {
        "id": "7uXQRP_kwgN8",
        "colab": {
          "base_uri": "https://localhost:8080/"
        },
        "outputId": "dc562ff9-bb1f-4cc2-e06f-6525e11d8a3f"
      },
      "source": [
        "try:\n",
        "  import z3\n",
        "except:\n",
        "  !pip install z3-solver\n",
        "  import z3\n",
        "\n",
        "from z3 import *\n",
        "from graphviz import Digraph\n",
        "\n",
        "import math\n",
        "import pandas\n",
        "import random as rd\n",
        "import matplotlib.pyplot as plt"
      ],
      "execution_count": null,
      "outputs": [
        {
          "output_type": "stream",
          "text": [
            "Collecting z3-solver\n",
            "\u001b[?25l  Downloading https://files.pythonhosted.org/packages/6d/51/86d4d708593b77dd43e1154f25b107d9d9a3300da49759c88254192a0a04/z3_solver-4.8.9.0-py2.py3-none-manylinux1_x86_64.whl (30.5MB)\n",
            "\u001b[K     |████████████████████████████████| 30.5MB 146kB/s \n",
            "\u001b[?25hInstalling collected packages: z3-solver\n",
            "Successfully installed z3-solver-4.8.9.0\n"
          ],
          "name": "stdout"
        }
      ]
    },
    {
      "cell_type": "markdown",
      "metadata": {
        "id": "AWle2sLbSL5K"
      },
      "source": [
        "### **Declaring Z3 Utility Functions**"
      ]
    },
    {
      "cell_type": "code",
      "metadata": {
        "id": "k8xeBdcN471q"
      },
      "source": [
        "def check(f):\n",
        "  s = Solver()\n",
        "  s.add(f)\n",
        "  r = s.check()\n",
        "# all your queries are in a decidable fragment\n",
        "  if r == unknown:\n",
        "    print(\"unexpected unknown result for \", f)\n",
        "  return r\n",
        "\n",
        "def is_sat(f):\n",
        "  return check(f) == sat\n",
        "\n",
        "def is_unsat(f):\n",
        "  return check(f) == unsat\n",
        "\n",
        "def kills(p, m):\n",
        "  return p != m\n",
        "\n",
        "#This function proves a theorem using the Z3 Python API.\n",
        "def prove(theorem):\n",
        "    s = Solver()\n",
        "    s.add(Not(theorem))\n",
        "    if s.check() == unsat:\n",
        "      return 1 # The theorem was proved\n",
        "    else:\n",
        "      if s.check() == unknown:\n",
        "        print(\"unexpected unknown result for \", theorem)\n",
        "        return 2 # Z3 does not know how to prove the theorem\n",
        "      else:\n",
        "        return 0 # It is not a valid theorem"
      ],
      "execution_count": null,
      "outputs": []
    },
    {
      "cell_type": "markdown",
      "metadata": {
        "id": "NYmpYbVLSZv_"
      },
      "source": [
        "### **Identifying Equivalent Mutants**"
      ]
    },
    {
      "cell_type": "code",
      "metadata": {
        "id": "AFiKjV048ARl"
      },
      "source": [
        "# keeping the non equivalent mutants\n",
        "def keepNonEquivalentMutants(p, muts):\n",
        "  return [m for m in muts if prove(p==m)!=1]"
      ],
      "execution_count": null,
      "outputs": []
    },
    {
      "cell_type": "markdown",
      "metadata": {
        "id": "d8wY8jfHS-6n"
      },
      "source": [
        "### **Identifying Redundant Mutants**"
      ]
    },
    {
      "cell_type": "code",
      "metadata": {
        "id": "U5Qk9ZT-S-DP"
      },
      "source": [
        "# keeping the non redundant mutants\n",
        "def redundantMutants(m1,m2):\n",
        "  if prove(m1==m2) == 1:\n",
        "    print(str(m1)+\" is duplicate to \"+str(m2))  \n",
        "    return True\n",
        "  else:\n",
        "    return False\n",
        "\n",
        "def keepNonRedundantMutants(muts):\n",
        "  non_redundant = []\n",
        "  for m1 in muts:\n",
        "    if not any(redundantMutants(m1, m2) for m2 in non_redundant):\n",
        "      non_redundant.append(m1)\n",
        "  return non_redundant"
      ],
      "execution_count": null,
      "outputs": []
    },
    {
      "cell_type": "markdown",
      "metadata": {
        "id": "D2NlOrKXTEoa"
      },
      "source": [
        "### **Identifying Subsumption Relations**"
      ]
    },
    {
      "cell_type": "code",
      "metadata": {
        "id": "sEc47OMJTLh2"
      },
      "source": [
        "# condition 1\n",
        "def is_non_empty(p, cond, m):\n",
        "  return is_sat(And(cond, kills(p, m)))\n",
        "\n",
        "# condition 2\n",
        "def is_subset(p, cond, m1, m2):\n",
        "  return is_unsat(And(cond, kills(p, m2), Not(kills(p, m1))))\n",
        "\n",
        "# condition 3\n",
        "def is_strict(p, cond, m1, m2):\n",
        "  return is_sat(And(cond, kills(p, m1), Not(kills(p, m2))))\n",
        "\n",
        "def subsumption(p,m1,m2,conds):\n",
        "  t1 = is_non_empty(p, conds, m2)\n",
        "  t2 = is_subset(p, conds, m1, m2)\n",
        "  if t1 == 1 and t2 == 1:\n",
        "    print(str(m2)+\" subsumes \"+str(m1))\n",
        "    return (m2,m1)\n",
        "  else:\n",
        "    return None\n",
        "\n",
        "def identifySubsumptions(p, muts, conds):\n",
        "  result = []\n",
        "  for i in range(len(muts)):\n",
        "    for j in range(len(muts)):\n",
        "      if i != j:\n",
        "        s = subsumption(p,muts[i], muts[j], conds)\n",
        "        if (s is not None):\n",
        "          result.append(s)\n",
        "  return result"
      ],
      "execution_count": null,
      "outputs": []
    },
    {
      "cell_type": "markdown",
      "metadata": {
        "id": "-eJ-4mJKTMra"
      },
      "source": [
        "#### **Creating a Subsumption Relation Graph**"
      ]
    },
    {
      "cell_type": "code",
      "metadata": {
        "id": "wquBXTKdTPB8"
      },
      "source": [
        "def createSubsumptionRelationGraph(subsumptions, mutations, mutationNames):\n",
        "  graph = Digraph('G')\n",
        "  for m in mutations:\n",
        "      graph.node(mutationNames[str(m)])\n",
        "  for s in subsumptions:\n",
        "    x = mutationNames[str(s[0])]\n",
        "    y = mutationNames[str(s[1])]\n",
        "    graph.edge(x,y)\n",
        "  return graph"
      ],
      "execution_count": null,
      "outputs": []
    },
    {
      "cell_type": "markdown",
      "metadata": {
        "id": "Zr98LChuwAyL"
      },
      "source": [
        "**Declaring common functions**"
      ]
    },
    {
      "cell_type": "code",
      "metadata": {
        "id": "_Q-RvrQbwLIj"
      },
      "source": [
        "def xor(a,b):\n",
        "    return Or(And(a,Not(b)),And(Not(a),b))"
      ],
      "execution_count": null,
      "outputs": []
    },
    {
      "cell_type": "markdown",
      "metadata": {
        "id": "3Z9x5Mv5GoYX"
      },
      "source": [
        "### **Using our approach to prove subsumption relations for 37 mutation targets**"
      ]
    },
    {
      "cell_type": "markdown",
      "metadata": {
        "id": "TABi27L2Q6U4"
      },
      "source": [
        "**A.1 Arithmetic expressions with integers:**"
      ]
    },
    {
      "cell_type": "code",
      "metadata": {
        "id": "U1xdoUCYQ9bP"
      },
      "source": [
        "# 1) Declare variables and conditions\n",
        "x = Int('x')\n",
        "y = Int('y')\n",
        "conditions = And(x>0,y>0)"
      ],
      "execution_count": null,
      "outputs": []
    },
    {
      "cell_type": "code",
      "metadata": {
        "id": "OLv4IV_7RDKI",
        "colab": {
          "base_uri": "https://localhost:8080/",
          "height": 572
        },
        "outputId": "329a7614-c454-4ea4-b961-454a655a60df"
      },
      "source": [
        "msg = \"A.1.1 lexp + rexp\"\n",
        "print(msg)\n",
        "print('============================================')\n",
        "# 2) Specify a program\n",
        "program = x+y\n",
        "# 3) Specify a list of mutants and mutation names\n",
        "mutations = [x*y, x-y, x, y]\n",
        "mutationNames =\t{\n",
        "  \"x*y\": \"AORB *\",\n",
        "  \"x - y\": \"AORB -\",\n",
        "  \"x\": \"CDL/VDL/ODL y\",\n",
        "  \"y\": \"CDL/VDL/ODL x\",\n",
        "}\n",
        "# 4) Keep non equivalent mutants\n",
        "mutations = keepNonEquivalentMutants(program, mutations)\n",
        "# 5) Keep non redundant mutants\n",
        "mutations = keepNonRedundantMutants(mutations)\n",
        "# 6) Identify subsumption relations\n",
        "subsumptions = identifySubsumptions(program, mutations, conditions)\n",
        "print('============================================')\n",
        "# 7) Draw the subsumption relation graph\n",
        "createSubsumptionRelationGraph(subsumptions, mutations, mutationNames)"
      ],
      "execution_count": null,
      "outputs": [
        {
          "output_type": "stream",
          "text": [
            "A.1.1 lexp + rexp\n",
            "============================================\n",
            "x*y subsumes x - y\n",
            "x subsumes x - y\n",
            "y subsumes x - y\n",
            "x*y subsumes x\n",
            "x - y subsumes x\n",
            "y subsumes x\n",
            "x*y subsumes y\n",
            "x - y subsumes y\n",
            "x subsumes y\n",
            "============================================\n"
          ],
          "name": "stdout"
        },
        {
          "output_type": "execute_result",
          "data": {
            "text/plain": [
              "<graphviz.dot.Digraph at 0x7f25b944afd0>"
            ],
            "image/svg+xml": "<?xml version=\"1.0\" encoding=\"UTF-8\" standalone=\"no\"?>\n<!DOCTYPE svg PUBLIC \"-//W3C//DTD SVG 1.1//EN\"\n \"http://www.w3.org/Graphics/SVG/1.1/DTD/svg11.dtd\">\n<!-- Generated by graphviz version 2.40.1 (20161225.0304)\n -->\n<!-- Title: G Pages: 1 -->\n<svg width=\"287pt\" height=\"260pt\"\n viewBox=\"0.00 0.00 287.19 260.00\" xmlns=\"http://www.w3.org/2000/svg\" xmlns:xlink=\"http://www.w3.org/1999/xlink\">\n<g id=\"graph0\" class=\"graph\" transform=\"scale(1 1) rotate(0) translate(4 256)\">\n<title>G</title>\n<polygon fill=\"#ffffff\" stroke=\"transparent\" points=\"-4,4 -4,-256 283.1857,-256 283.1857,4 -4,4\"/>\n<!-- AORB * -->\n<g id=\"node1\" class=\"node\">\n<title>AORB *</title>\n<ellipse fill=\"none\" stroke=\"#000000\" cx=\"169.5928\" cy=\"-234\" rx=\"44.393\" ry=\"18\"/>\n<text text-anchor=\"middle\" x=\"169.5928\" y=\"-230.3\" font-family=\"Times,serif\" font-size=\"14.00\" fill=\"#000000\">AORB *</text>\n</g>\n<!-- AORB &#45; -->\n<g id=\"node2\" class=\"node\">\n<title>AORB &#45;</title>\n<ellipse fill=\"none\" stroke=\"#000000\" cx=\"169.5928\" cy=\"-162\" rx=\"42.4939\" ry=\"18\"/>\n<text text-anchor=\"middle\" x=\"169.5928\" y=\"-158.3\" font-family=\"Times,serif\" font-size=\"14.00\" fill=\"#000000\">AORB &#45;</text>\n</g>\n<!-- AORB *&#45;&gt;AORB &#45; -->\n<g id=\"edge1\" class=\"edge\">\n<title>AORB *&#45;&gt;AORB &#45;</title>\n<path fill=\"none\" stroke=\"#000000\" d=\"M169.5928,-215.8314C169.5928,-208.131 169.5928,-198.9743 169.5928,-190.4166\"/>\n<polygon fill=\"#000000\" stroke=\"#000000\" points=\"173.0929,-190.4132 169.5928,-180.4133 166.0929,-190.4133 173.0929,-190.4132\"/>\n</g>\n<!-- CDL/VDL/ODL y -->\n<g id=\"node3\" class=\"node\">\n<title>CDL/VDL/ODL y</title>\n<ellipse fill=\"none\" stroke=\"#000000\" cx=\"80.5928\" cy=\"-90\" rx=\"80.6858\" ry=\"18\"/>\n<text text-anchor=\"middle\" x=\"80.5928\" y=\"-86.3\" font-family=\"Times,serif\" font-size=\"14.00\" fill=\"#000000\">CDL/VDL/ODL y</text>\n</g>\n<!-- AORB *&#45;&gt;CDL/VDL/ODL y -->\n<g id=\"edge4\" class=\"edge\">\n<title>AORB *&#45;&gt;CDL/VDL/ODL y</title>\n<path fill=\"none\" stroke=\"#000000\" d=\"M150.8582,-217.3673C140.3633,-207.323 127.6133,-193.823 118.5928,-180 105.9234,-160.585 95.9499,-136.2449 89.4054,-117.774\"/>\n<polygon fill=\"#000000\" stroke=\"#000000\" points=\"92.6739,-116.5148 86.127,-108.1848 86.0503,-118.7793 92.6739,-116.5148\"/>\n</g>\n<!-- CDL/VDL/ODL x -->\n<g id=\"node4\" class=\"node\">\n<title>CDL/VDL/ODL x</title>\n<ellipse fill=\"none\" stroke=\"#000000\" cx=\"198.5928\" cy=\"-18\" rx=\"80.6858\" ry=\"18\"/>\n<text text-anchor=\"middle\" x=\"198.5928\" y=\"-14.3\" font-family=\"Times,serif\" font-size=\"14.00\" fill=\"#000000\">CDL/VDL/ODL x</text>\n</g>\n<!-- AORB *&#45;&gt;CDL/VDL/ODL x -->\n<g id=\"edge7\" class=\"edge\">\n<title>AORB *&#45;&gt;CDL/VDL/ODL x</title>\n<path fill=\"none\" stroke=\"#000000\" d=\"M191.0466,-218.0477C202.1416,-208.4158 214.59,-195.0985 220.5928,-180 238.3636,-135.3025 222.9653,-78.7906 210.5254,-45.6938\"/>\n<polygon fill=\"#000000\" stroke=\"#000000\" points=\"213.7147,-44.2402 206.7996,-36.2132 207.1997,-46.8005 213.7147,-44.2402\"/>\n</g>\n<!-- AORB &#45;&#45;&gt;CDL/VDL/ODL y -->\n<g id=\"edge5\" class=\"edge\">\n<title>AORB &#45;&#45;&gt;CDL/VDL/ODL y</title>\n<path fill=\"none\" stroke=\"#000000\" d=\"M145.5593,-147.0816C132.7746,-137.6883 117.2279,-125.3385 104.4782,-114.5294\"/>\n<polygon fill=\"#000000\" stroke=\"#000000\" points=\"106.4178,-111.5801 96.5608,-107.6953 101.8438,-116.879 106.4178,-111.5801\"/>\n</g>\n<!-- AORB &#45;&#45;&gt;CDL/VDL/ODL x -->\n<g id=\"edge8\" class=\"edge\">\n<title>AORB &#45;&#45;&gt;CDL/VDL/ODL x</title>\n<path fill=\"none\" stroke=\"#000000\" d=\"M168.5925,-143.7623C171.0901,-119.0928 179.7318,-74.8598 187.4873,-45.9731\"/>\n<polygon fill=\"#000000\" stroke=\"#000000\" points=\"190.929,-46.6653 190.2915,-36.0896 184.1948,-44.7545 190.929,-46.6653\"/>\n</g>\n<!-- CDL/VDL/ODL y&#45;&gt;AORB &#45; -->\n<g id=\"edge2\" class=\"edge\">\n<title>CDL/VDL/ODL y&#45;&gt;AORB &#45;</title>\n<path fill=\"none\" stroke=\"#000000\" d=\"M107.695,-107.19C120.1399,-116.4691 134.6556,-128.0666 146.5676,-138.2011\"/>\n<polygon fill=\"#000000\" stroke=\"#000000\" points=\"144.4915,-141.0333 154.341,-144.937 149.0757,-135.7431 144.4915,-141.0333\"/>\n</g>\n<!-- CDL/VDL/ODL y&#45;&gt;CDL/VDL/ODL x -->\n<g id=\"edge9\" class=\"edge\">\n<title>CDL/VDL/ODL y&#45;&gt;CDL/VDL/ODL x</title>\n<path fill=\"none\" stroke=\"#000000\" d=\"M103.2791,-72.5708C118.4098,-62.7183 138.6176,-50.3103 156.5774,-39.8163\"/>\n<polygon fill=\"#000000\" stroke=\"#000000\" points=\"158.8205,-42.5623 165.7255,-34.5267 155.3165,-36.5024 158.8205,-42.5623\"/>\n</g>\n<!-- CDL/VDL/ODL x&#45;&gt;AORB &#45; -->\n<g id=\"edge3\" class=\"edge\">\n<title>CDL/VDL/ODL x&#45;&gt;AORB &#45;</title>\n<path fill=\"none\" stroke=\"#000000\" d=\"M199.5997,-36.1727C197.1068,-60.8697 188.4324,-105.2595 180.6604,-134.1684\"/>\n<polygon fill=\"#000000\" stroke=\"#000000\" points=\"177.2182,-133.4775 177.8509,-144.0535 183.9515,-135.3913 177.2182,-133.4775\"/>\n</g>\n<!-- CDL/VDL/ODL x&#45;&gt;CDL/VDL/ODL y -->\n<g id=\"edge6\" class=\"edge\">\n<title>CDL/VDL/ODL x&#45;&gt;CDL/VDL/ODL y</title>\n<path fill=\"none\" stroke=\"#000000\" d=\"M175.8812,-35.4457C160.7483,-45.2988 140.5447,-57.7038 122.5904,-68.1941\"/>\n<polygon fill=\"#000000\" stroke=\"#000000\" points=\"120.3505,-65.4463 113.4453,-73.4817 123.8544,-71.5062 120.3505,-65.4463\"/>\n</g>\n</g>\n</svg>\n"
          },
          "metadata": {
            "tags": []
          },
          "execution_count": 9
        }
      ]
    },
    {
      "cell_type": "code",
      "metadata": {
        "id": "e4HQhpR7YS9j",
        "colab": {
          "base_uri": "https://localhost:8080/",
          "height": 572
        },
        "outputId": "361368d8-22a8-4928-a53b-a28e1f5a8c56"
      },
      "source": [
        "msg = \"A.1.2 lexp - rexp\"\n",
        "print(msg)\n",
        "print('============================================')\n",
        "# 2) Specify a program\n",
        "program = x-y\n",
        "# 3) Specify a list of mutants and mutation names\n",
        "mutations = [x*y, x+y, x, y]\n",
        "mutationNames = {\n",
        "  \"x*y\": \"AORB *\",\n",
        "  \"x + y\": \"AORB +\",\n",
        "  \"x\": \"CDL/VDL/ODL y\",\n",
        "  \"y\": \"CDL/VDL/ODL x\", \n",
        "}\n",
        "# 4) Keep non equivalent mutants\n",
        "mutations = keepNonEquivalentMutants(program, mutations)\n",
        "# 5) Keep non redundant mutants\n",
        "mutations = keepNonRedundantMutants(mutations)\n",
        "# 6) Identify subsumption relations\n",
        "subsumptions = identifySubsumptions(program, mutations, conditions)\n",
        "print('============================================')\n",
        "# 7) Draw the subsumption relation graph\n",
        "createSubsumptionRelationGraph(subsumptions, mutations, mutationNames)"
      ],
      "execution_count": null,
      "outputs": [
        {
          "output_type": "stream",
          "text": [
            "A.1.2 lexp - rexp\n",
            "============================================\n",
            "x + y subsumes x*y\n",
            "x subsumes x*y\n",
            "y subsumes x*y\n",
            "x*y subsumes x + y\n",
            "x subsumes x + y\n",
            "y subsumes x + y\n",
            "x*y subsumes x\n",
            "x + y subsumes x\n",
            "y subsumes x\n",
            "============================================\n"
          ],
          "name": "stdout"
        },
        {
          "output_type": "execute_result",
          "data": {
            "text/plain": [
              "<graphviz.dot.Digraph at 0x7f25b944add8>"
            ],
            "image/svg+xml": "<?xml version=\"1.0\" encoding=\"UTF-8\" standalone=\"no\"?>\n<!DOCTYPE svg PUBLIC \"-//W3C//DTD SVG 1.1//EN\"\n \"http://www.w3.org/Graphics/SVG/1.1/DTD/svg11.dtd\">\n<!-- Generated by graphviz version 2.40.1 (20161225.0304)\n -->\n<!-- Title: G Pages: 1 -->\n<svg width=\"215pt\" height=\"260pt\"\n viewBox=\"0.00 0.00 215.44 260.00\" xmlns=\"http://www.w3.org/2000/svg\" xmlns:xlink=\"http://www.w3.org/1999/xlink\">\n<g id=\"graph0\" class=\"graph\" transform=\"scale(1 1) rotate(0) translate(4 256)\">\n<title>G</title>\n<polygon fill=\"#ffffff\" stroke=\"transparent\" points=\"-4,4 -4,-256 211.4389,-256 211.4389,4 -4,4\"/>\n<!-- AORB * -->\n<g id=\"node1\" class=\"node\">\n<title>AORB *</title>\n<ellipse fill=\"none\" stroke=\"#000000\" cx=\"108.846\" cy=\"-162\" rx=\"44.393\" ry=\"18\"/>\n<text text-anchor=\"middle\" x=\"108.846\" y=\"-158.3\" font-family=\"Times,serif\" font-size=\"14.00\" fill=\"#000000\">AORB *</text>\n</g>\n<!-- AORB + -->\n<g id=\"node2\" class=\"node\">\n<title>AORB +</title>\n<ellipse fill=\"none\" stroke=\"#000000\" cx=\"44.846\" cy=\"-90\" rx=\"44.6926\" ry=\"18\"/>\n<text text-anchor=\"middle\" x=\"44.846\" y=\"-86.3\" font-family=\"Times,serif\" font-size=\"14.00\" fill=\"#000000\">AORB +</text>\n</g>\n<!-- AORB *&#45;&gt;AORB + -->\n<g id=\"edge4\" class=\"edge\">\n<title>AORB *&#45;&gt;AORB +</title>\n<path fill=\"none\" stroke=\"#000000\" d=\"M88.5626,-145.6621C79.7369,-136.8454 69.6348,-125.759 61.281,-115.8058\"/>\n<polygon fill=\"#000000\" stroke=\"#000000\" points=\"63.7736,-113.3242 54.7414,-107.7862 58.3487,-117.7481 63.7736,-113.3242\"/>\n</g>\n<!-- CDL/VDL/ODL y -->\n<g id=\"node3\" class=\"node\">\n<title>CDL/VDL/ODL y</title>\n<ellipse fill=\"none\" stroke=\"#000000\" cx=\"126.846\" cy=\"-18\" rx=\"80.6858\" ry=\"18\"/>\n<text text-anchor=\"middle\" x=\"126.846\" y=\"-14.3\" font-family=\"Times,serif\" font-size=\"14.00\" fill=\"#000000\">CDL/VDL/ODL y</text>\n</g>\n<!-- AORB *&#45;&gt;CDL/VDL/ODL y -->\n<g id=\"edge7\" class=\"edge\">\n<title>AORB *&#45;&gt;CDL/VDL/ODL y</title>\n<path fill=\"none\" stroke=\"#000000\" d=\"M106.4526,-143.7623C107.0656,-119.0928 112.3284,-74.8598 117.8773,-45.9731\"/>\n<polygon fill=\"#000000\" stroke=\"#000000\" points=\"121.3234,-46.592 119.9265,-36.0896 114.4692,-45.1708 121.3234,-46.592\"/>\n</g>\n<!-- AORB +&#45;&gt;AORB * -->\n<g id=\"edge1\" class=\"edge\">\n<title>AORB +&#45;&gt;AORB *</title>\n<path fill=\"none\" stroke=\"#000000\" d=\"M64.9101,-106.119C73.8571,-115.0401 84.1482,-126.3342 92.6091,-136.4303\"/>\n<polygon fill=\"#000000\" stroke=\"#000000\" points=\"89.9115,-138.6606 98.9415,-144.2022 95.3382,-134.2389 89.9115,-138.6606\"/>\n</g>\n<!-- AORB +&#45;&gt;CDL/VDL/ODL y -->\n<g id=\"edge8\" class=\"edge\">\n<title>AORB +&#45;&gt;CDL/VDL/ODL y</title>\n<path fill=\"none\" stroke=\"#000000\" d=\"M58.8177,-72.5708C68.4355,-63.2847 81.4284,-51.7285 93.5344,-41.6442\"/>\n<polygon fill=\"#000000\" stroke=\"#000000\" points=\"95.7994,-44.3132 101.3173,-35.2687 91.3635,-38.8981 95.7994,-44.3132\"/>\n</g>\n<!-- CDL/VDL/ODL y&#45;&gt;AORB * -->\n<g id=\"edge2\" class=\"edge\">\n<title>CDL/VDL/ODL y&#45;&gt;AORB *</title>\n<path fill=\"none\" stroke=\"#000000\" d=\"M129.2411,-36.1727C128.6347,-60.8697 123.3513,-105.2595 117.7875,-134.1684\"/>\n<polygon fill=\"#000000\" stroke=\"#000000\" points=\"114.3412,-133.5505 115.7332,-144.0535 121.1948,-134.9748 114.3412,-133.5505\"/>\n</g>\n<!-- CDL/VDL/ODL y&#45;&gt;AORB + -->\n<g id=\"edge5\" class=\"edge\">\n<title>CDL/VDL/ODL y&#45;&gt;AORB +</title>\n<path fill=\"none\" stroke=\"#000000\" d=\"M112.4125,-35.8744C102.3353,-45.5714 88.7065,-57.6425 76.269,-67.9229\"/>\n<polygon fill=\"#000000\" stroke=\"#000000\" points=\"73.8759,-65.3575 68.3172,-74.3771 78.2873,-70.7926 73.8759,-65.3575\"/>\n</g>\n<!-- CDL/VDL/ODL x -->\n<g id=\"node4\" class=\"node\">\n<title>CDL/VDL/ODL x</title>\n<ellipse fill=\"none\" stroke=\"#000000\" cx=\"108.846\" cy=\"-234\" rx=\"80.6858\" ry=\"18\"/>\n<text text-anchor=\"middle\" x=\"108.846\" y=\"-230.3\" font-family=\"Times,serif\" font-size=\"14.00\" fill=\"#000000\">CDL/VDL/ODL x</text>\n</g>\n<!-- CDL/VDL/ODL x&#45;&gt;AORB * -->\n<g id=\"edge3\" class=\"edge\">\n<title>CDL/VDL/ODL x&#45;&gt;AORB *</title>\n<path fill=\"none\" stroke=\"#000000\" d=\"M108.846,-215.8314C108.846,-208.131 108.846,-198.9743 108.846,-190.4166\"/>\n<polygon fill=\"#000000\" stroke=\"#000000\" points=\"112.3461,-190.4132 108.846,-180.4133 105.3461,-190.4133 112.3461,-190.4132\"/>\n</g>\n<!-- CDL/VDL/ODL x&#45;&gt;AORB + -->\n<g id=\"edge6\" class=\"edge\">\n<title>CDL/VDL/ODL x&#45;&gt;AORB +</title>\n<path fill=\"none\" stroke=\"#000000\" d=\"M85.9283,-216.7344C74.9606,-207.1673 62.743,-194.3203 55.846,-180 46.5962,-160.7943 44.0543,-136.723 43.712,-118.3082\"/>\n<polygon fill=\"#000000\" stroke=\"#000000\" points=\"47.2121,-118.2055 43.7305,-108.199 40.2121,-118.1926 47.2121,-118.2055\"/>\n</g>\n<!-- CDL/VDL/ODL x&#45;&gt;CDL/VDL/ODL y -->\n<g id=\"edge9\" class=\"edge\">\n<title>CDL/VDL/ODL x&#45;&gt;CDL/VDL/ODL y</title>\n<path fill=\"none\" stroke=\"#000000\" d=\"M133.0547,-216.5892C144.0634,-207.1555 155.9315,-194.4698 161.846,-180 180.3755,-134.6678 158.7962,-78.0068 142.2498,-45.1182\"/>\n<polygon fill=\"#000000\" stroke=\"#000000\" points=\"145.2742,-43.3487 137.5403,-36.1073 139.0704,-46.5911 145.2742,-43.3487\"/>\n</g>\n</g>\n</svg>\n"
          },
          "metadata": {
            "tags": []
          },
          "execution_count": 10
        }
      ]
    },
    {
      "cell_type": "code",
      "metadata": {
        "id": "f2ZOjU9MaADf",
        "colab": {
          "base_uri": "https://localhost:8080/",
          "height": 278
        },
        "outputId": "4d939ced-8b9b-4dfe-c054-ecabbcb3303b"
      },
      "source": [
        "msg = \"A.1.3 lexp * rexp\"\n",
        "print(msg)\n",
        "print('============================================')\n",
        "# 2) Specify a program\n",
        "program = x*y\n",
        "# 3) Specify a list of mutants and mutation names\n",
        "mutations = [x-y, x+y, x, y]\n",
        "mutationNames = {\n",
        "  \"x - y\": \"AORB -\",\n",
        "  \"x + y\": \"AORB +\",\n",
        "  \"x\": \"CDL/VDL/ODL y\",\n",
        "  \"y\": \"CDL/VDL/ODL x\", \n",
        "}\n",
        "# 4) Keep non equivalent mutants\n",
        "mutations = keepNonEquivalentMutants(program, mutations)\n",
        "# 5) Keep non redundant mutants\n",
        "mutations = keepNonRedundantMutants(mutations)\n",
        "# 6) Identify subsumption relations\n",
        "subsumptions = identifySubsumptions(program, mutations, conditions)\n",
        "print('============================================')\n",
        "# 7) Draw the subsumption relation graph\n",
        "createSubsumptionRelationGraph(subsumptions, mutations, mutationNames)"
      ],
      "execution_count": null,
      "outputs": [
        {
          "output_type": "stream",
          "text": [
            "A.1.3 lexp * rexp\n",
            "============================================\n",
            "x + y subsumes x - y\n",
            "x subsumes x - y\n",
            "y subsumes x - y\n",
            "============================================\n"
          ],
          "name": "stdout"
        },
        {
          "output_type": "execute_result",
          "data": {
            "text/plain": [
              "<graphviz.dot.Digraph at 0x7f25be0f9630>"
            ],
            "image/svg+xml": "<?xml version=\"1.0\" encoding=\"UTF-8\" standalone=\"no\"?>\n<!DOCTYPE svg PUBLIC \"-//W3C//DTD SVG 1.1//EN\"\n \"http://www.w3.org/Graphics/SVG/1.1/DTD/svg11.dtd\">\n<!-- Generated by graphviz version 2.40.1 (20161225.0304)\n -->\n<!-- Title: G Pages: 1 -->\n<svg width=\"455pt\" height=\"116pt\"\n viewBox=\"0.00 0.00 455.44 116.00\" xmlns=\"http://www.w3.org/2000/svg\" xmlns:xlink=\"http://www.w3.org/1999/xlink\">\n<g id=\"graph0\" class=\"graph\" transform=\"scale(1 1) rotate(0) translate(4 112)\">\n<title>G</title>\n<polygon fill=\"#ffffff\" stroke=\"transparent\" points=\"-4,4 -4,-112 451.4389,-112 451.4389,4 -4,4\"/>\n<!-- AORB &#45; -->\n<g id=\"node1\" class=\"node\">\n<title>AORB &#45;</title>\n<ellipse fill=\"none\" stroke=\"#000000\" cx=\"187.846\" cy=\"-18\" rx=\"42.4939\" ry=\"18\"/>\n<text text-anchor=\"middle\" x=\"187.846\" y=\"-14.3\" font-family=\"Times,serif\" font-size=\"14.00\" fill=\"#000000\">AORB &#45;</text>\n</g>\n<!-- AORB + -->\n<g id=\"node2\" class=\"node\">\n<title>AORB +</title>\n<ellipse fill=\"none\" stroke=\"#000000\" cx=\"44.846\" cy=\"-90\" rx=\"44.6926\" ry=\"18\"/>\n<text text-anchor=\"middle\" x=\"44.846\" y=\"-86.3\" font-family=\"Times,serif\" font-size=\"14.00\" fill=\"#000000\">AORB +</text>\n</g>\n<!-- AORB +&#45;&gt;AORB &#45; -->\n<g id=\"edge1\" class=\"edge\">\n<title>AORB +&#45;&gt;AORB &#45;</title>\n<path fill=\"none\" stroke=\"#000000\" d=\"M73.0982,-75.7751C95.4725,-64.5098 126.8971,-48.6876 151.205,-36.4486\"/>\n<polygon fill=\"#000000\" stroke=\"#000000\" points=\"152.7813,-39.5736 160.1391,-31.9503 149.6333,-33.3214 152.7813,-39.5736\"/>\n</g>\n<!-- CDL/VDL/ODL y -->\n<g id=\"node3\" class=\"node\">\n<title>CDL/VDL/ODL y</title>\n<ellipse fill=\"none\" stroke=\"#000000\" cx=\"187.846\" cy=\"-90\" rx=\"80.6858\" ry=\"18\"/>\n<text text-anchor=\"middle\" x=\"187.846\" y=\"-86.3\" font-family=\"Times,serif\" font-size=\"14.00\" fill=\"#000000\">CDL/VDL/ODL y</text>\n</g>\n<!-- CDL/VDL/ODL y&#45;&gt;AORB &#45; -->\n<g id=\"edge2\" class=\"edge\">\n<title>CDL/VDL/ODL y&#45;&gt;AORB &#45;</title>\n<path fill=\"none\" stroke=\"#000000\" d=\"M187.846,-71.8314C187.846,-64.131 187.846,-54.9743 187.846,-46.4166\"/>\n<polygon fill=\"#000000\" stroke=\"#000000\" points=\"191.3461,-46.4132 187.846,-36.4133 184.3461,-46.4133 191.3461,-46.4132\"/>\n</g>\n<!-- CDL/VDL/ODL x -->\n<g id=\"node4\" class=\"node\">\n<title>CDL/VDL/ODL x</title>\n<ellipse fill=\"none\" stroke=\"#000000\" cx=\"366.846\" cy=\"-90\" rx=\"80.6858\" ry=\"18\"/>\n<text text-anchor=\"middle\" x=\"366.846\" y=\"-86.3\" font-family=\"Times,serif\" font-size=\"14.00\" fill=\"#000000\">CDL/VDL/ODL x</text>\n</g>\n<!-- CDL/VDL/ODL x&#45;&gt;AORB &#45; -->\n<g id=\"edge3\" class=\"edge\">\n<title>CDL/VDL/ODL x&#45;&gt;AORB &#45;</title>\n<path fill=\"none\" stroke=\"#000000\" d=\"M327.5637,-74.1993C298.1611,-62.3725 258.0674,-46.2455 228.3695,-34.2999\"/>\n<polygon fill=\"#000000\" stroke=\"#000000\" points=\"229.3108,-30.9061 218.7271,-30.4214 226.6985,-37.4004 229.3108,-30.9061\"/>\n</g>\n</g>\n</svg>\n"
          },
          "metadata": {
            "tags": []
          },
          "execution_count": 11
        }
      ]
    },
    {
      "cell_type": "markdown",
      "metadata": {
        "id": "sx1vFVszbksd"
      },
      "source": [
        "**A.2 Logic expressions with booleans:**"
      ]
    },
    {
      "cell_type": "code",
      "metadata": {
        "id": "g1dRr4kMbwnm"
      },
      "source": [
        "# 1) Declare variables and conditions\n",
        "x = Bool('x')\n",
        "y = Bool('y')\n",
        "conditions = True"
      ],
      "execution_count": null,
      "outputs": []
    },
    {
      "cell_type": "code",
      "metadata": {
        "id": "9sx8smLOnUMb",
        "colab": {
          "base_uri": "https://localhost:8080/",
          "height": 691
        },
        "outputId": "5756cd36-0418-4801-d7d1-072ec52a5b74"
      },
      "source": [
        "msg = \"A.2.1 lexp ^ rexp\"\n",
        "print(msg)\n",
        "print('============================================')\n",
        "# 2) Specify a program\n",
        "program = xor(x,y)\n",
        "# 3) Specify a list of mutants and mutation names\n",
        "mutations = [True, False, Or(x,y), x, y, Not(program), x==y, \n",
        "             x!=y,And(x,y), xor(Not(x),y), xor(x,Not(y))]\n",
        "mutationNames = {\n",
        "    \"True\": \"COR true\",\n",
        "    \"False\": \"COR false\",\n",
        "    \"Or(x, y)\": \"COR ||\",\n",
        "    \"y\": \"CDL/VDL/ODL x\", \n",
        "    \"x\": \"CDL/VDL/ODL y\",\n",
        "    \"Not(Or(And(x, Not(y)), And(Not(x), y)))\": \"COI !()\",\n",
        "    \"x == y\": \"ROR ==\",\n",
        "    \"x != y\": \"ROR !=\",\n",
        "    \"And(x, y)\": \"COR &&\",\n",
        "    \"Not(x)^y\": \"COI !x ^ y\",\n",
        "    \"x^Not(y)\": \"COI x ^ !y\"\n",
        "}\n",
        "# 4) Keep non equivalent mutants\n",
        "mutations = keepNonEquivalentMutants(program, mutations)\n",
        "# 5) Keep non redundant mutants\n",
        "mutations = keepNonRedundantMutants(mutations)\n",
        "# 6) Identify subsumption relations\n",
        "subsumptions = identifySubsumptions(program, mutations, conditions)\n",
        "print('============================================')\n",
        "# 7) Draw the subsumption relation graph\n",
        "createSubsumptionRelationGraph(subsumptions, mutations, mutationNames)"
      ],
      "execution_count": null,
      "outputs": [
        {
          "output_type": "stream",
          "text": [
            "A.2.1 lexp ^ rexp\n",
            "============================================\n",
            "x == y is duplicate to Not(Or(And(x, Not(y)), And(Not(x), y)))\n",
            "Or(And(Not(x), Not(y)), And(Not(Not(x)), y)) is duplicate to Not(Or(And(x, Not(y)), And(Not(x), y)))\n",
            "Or(And(x, Not(Not(y))), And(Not(x), Not(y))) is duplicate to Not(Or(And(x, Not(y)), And(Not(x), y)))\n",
            "Or(x, y) subsumes True\n",
            "Or(x, y) subsumes x\n",
            "Or(x, y) subsumes y\n",
            "True subsumes Not(Or(And(x, Not(y)), And(Not(x), y)))\n",
            "False subsumes Not(Or(And(x, Not(y)), And(Not(x), y)))\n",
            "Or(x, y) subsumes Not(Or(And(x, Not(y)), And(Not(x), y)))\n",
            "x subsumes Not(Or(And(x, Not(y)), And(Not(x), y)))\n",
            "y subsumes Not(Or(And(x, Not(y)), And(Not(x), y)))\n",
            "And(x, y) subsumes Not(Or(And(x, Not(y)), And(Not(x), y)))\n",
            "False subsumes And(x, y)\n",
            "Or(x, y) subsumes And(x, y)\n",
            "x subsumes And(x, y)\n",
            "y subsumes And(x, y)\n",
            "============================================\n"
          ],
          "name": "stdout"
        },
        {
          "output_type": "execute_result",
          "data": {
            "text/plain": [
              "<graphviz.dot.Digraph at 0x7f25b9444400>"
            ],
            "image/svg+xml": "<?xml version=\"1.0\" encoding=\"UTF-8\" standalone=\"no\"?>\n<!DOCTYPE svg PUBLIC \"-//W3C//DTD SVG 1.1//EN\"\n \"http://www.w3.org/Graphics/SVG/1.1/DTD/svg11.dtd\">\n<!-- Generated by graphviz version 2.40.1 (20161225.0304)\n -->\n<!-- Title: G Pages: 1 -->\n<svg width=\"559pt\" height=\"260pt\"\n viewBox=\"0.00 0.00 558.60 260.00\" xmlns=\"http://www.w3.org/2000/svg\" xmlns:xlink=\"http://www.w3.org/1999/xlink\">\n<g id=\"graph0\" class=\"graph\" transform=\"scale(1 1) rotate(0) translate(4 256)\">\n<title>G</title>\n<polygon fill=\"#ffffff\" stroke=\"transparent\" points=\"-4,4 -4,-256 554.5957,-256 554.5957,4 -4,4\"/>\n<!-- COR true -->\n<g id=\"node1\" class=\"node\">\n<title>COR true</title>\n<ellipse fill=\"none\" stroke=\"#000000\" cx=\"478.3956\" cy=\"-90\" rx=\"46.5926\" ry=\"18\"/>\n<text text-anchor=\"middle\" x=\"478.3956\" y=\"-86.3\" font-family=\"Times,serif\" font-size=\"14.00\" fill=\"#000000\">COR true</text>\n</g>\n<!-- COI !() -->\n<g id=\"node6\" class=\"node\">\n<title>COI !()</title>\n<ellipse fill=\"none\" stroke=\"#000000\" cx=\"364.3956\" cy=\"-18\" rx=\"38.1938\" ry=\"18\"/>\n<text text-anchor=\"middle\" x=\"364.3956\" y=\"-14.3\" font-family=\"Times,serif\" font-size=\"14.00\" fill=\"#000000\">COI !()</text>\n</g>\n<!-- COR true&#45;&gt;COI !() -->\n<g id=\"edge4\" class=\"edge\">\n<title>COR true&#45;&gt;COI !()</title>\n<path fill=\"none\" stroke=\"#000000\" d=\"M453.9398,-74.5542C437.0727,-63.9013 414.488,-49.6373 396.2204,-38.0999\"/>\n<polygon fill=\"#000000\" stroke=\"#000000\" points=\"397.9674,-35.0636 387.6435,-32.6829 394.2294,-40.982 397.9674,-35.0636\"/>\n</g>\n<!-- COR false -->\n<g id=\"node2\" class=\"node\">\n<title>COR false</title>\n<ellipse fill=\"none\" stroke=\"#000000\" cx=\"49.3956\" cy=\"-162\" rx=\"49.2915\" ry=\"18\"/>\n<text text-anchor=\"middle\" x=\"49.3956\" y=\"-158.3\" font-family=\"Times,serif\" font-size=\"14.00\" fill=\"#000000\">COR false</text>\n</g>\n<!-- COR false&#45;&gt;COI !() -->\n<g id=\"edge5\" class=\"edge\">\n<title>COR false&#45;&gt;COI !()</title>\n<path fill=\"none\" stroke=\"#000000\" d=\"M69.2895,-145.1512C93.7654,-125.178 137.2702,-92.078 179.3956,-72 224.7268,-50.394 280.4936,-35.5612 318.878,-26.9862\"/>\n<polygon fill=\"#000000\" stroke=\"#000000\" points=\"319.7077,-30.3876 328.7321,-24.8369 318.2159,-23.5484 319.7077,-30.3876\"/>\n</g>\n<!-- COR &amp;&amp; -->\n<g id=\"node7\" class=\"node\">\n<title>COR &amp;&amp;</title>\n<ellipse fill=\"none\" stroke=\"#000000\" cx=\"235.3956\" cy=\"-90\" rx=\"47.3916\" ry=\"18\"/>\n<text text-anchor=\"middle\" x=\"235.3956\" y=\"-86.3\" font-family=\"Times,serif\" font-size=\"14.00\" fill=\"#000000\">COR &amp;&amp;</text>\n</g>\n<!-- COR false&#45;&gt;COR &amp;&amp; -->\n<g id=\"edge10\" class=\"edge\">\n<title>COR false&#45;&gt;COR &amp;&amp;</title>\n<path fill=\"none\" stroke=\"#000000\" d=\"M83.5109,-148.7941C114.247,-136.8962 159.5605,-119.3555 192.6926,-106.5302\"/>\n<polygon fill=\"#000000\" stroke=\"#000000\" points=\"194.0602,-109.7539 202.1224,-102.8799 191.5332,-103.226 194.0602,-109.7539\"/>\n</g>\n<!-- COR || -->\n<g id=\"node3\" class=\"node\">\n<title>COR ||</title>\n<ellipse fill=\"none\" stroke=\"#000000\" cx=\"414.3956\" cy=\"-234\" rx=\"36.2938\" ry=\"18\"/>\n<text text-anchor=\"middle\" x=\"414.3956\" y=\"-230.3\" font-family=\"Times,serif\" font-size=\"14.00\" fill=\"#000000\">COR ||</text>\n</g>\n<!-- COR ||&#45;&gt;COR true -->\n<g id=\"edge1\" class=\"edge\">\n<title>COR ||&#45;&gt;COR true</title>\n<path fill=\"none\" stroke=\"#000000\" d=\"M445.344,-224.4597C466.0885,-216.2679 491.8267,-202.1992 504.3956,-180 515.6893,-160.0533 506.6674,-134.7912 496.2759,-116.112\"/>\n<polygon fill=\"#000000\" stroke=\"#000000\" points=\"499.2793,-114.3148 491.1476,-107.5232 493.2691,-117.9034 499.2793,-114.3148\"/>\n</g>\n<!-- CDL/VDL/ODL y -->\n<g id=\"node4\" class=\"node\">\n<title>CDL/VDL/ODL y</title>\n<ellipse fill=\"none\" stroke=\"#000000\" cx=\"414.3956\" cy=\"-162\" rx=\"80.6858\" ry=\"18\"/>\n<text text-anchor=\"middle\" x=\"414.3956\" y=\"-158.3\" font-family=\"Times,serif\" font-size=\"14.00\" fill=\"#000000\">CDL/VDL/ODL y</text>\n</g>\n<!-- COR ||&#45;&gt;CDL/VDL/ODL y -->\n<g id=\"edge2\" class=\"edge\">\n<title>COR ||&#45;&gt;CDL/VDL/ODL y</title>\n<path fill=\"none\" stroke=\"#000000\" d=\"M414.3956,-215.8314C414.3956,-208.131 414.3956,-198.9743 414.3956,-190.4166\"/>\n<polygon fill=\"#000000\" stroke=\"#000000\" points=\"417.8957,-190.4132 414.3956,-180.4133 410.8957,-190.4133 417.8957,-190.4132\"/>\n</g>\n<!-- CDL/VDL/ODL x -->\n<g id=\"node5\" class=\"node\">\n<title>CDL/VDL/ODL x</title>\n<ellipse fill=\"none\" stroke=\"#000000\" cx=\"235.3956\" cy=\"-162\" rx=\"80.6858\" ry=\"18\"/>\n<text text-anchor=\"middle\" x=\"235.3956\" y=\"-158.3\" font-family=\"Times,serif\" font-size=\"14.00\" fill=\"#000000\">CDL/VDL/ODL x</text>\n</g>\n<!-- COR ||&#45;&gt;CDL/VDL/ODL x -->\n<g id=\"edge3\" class=\"edge\">\n<title>COR ||&#45;&gt;CDL/VDL/ODL x</title>\n<path fill=\"none\" stroke=\"#000000\" d=\"M386.0325,-222.5914C358.6669,-211.584 316.694,-194.701 283.998,-181.5496\"/>\n<polygon fill=\"#000000\" stroke=\"#000000\" points=\"285.1934,-178.2579 274.6096,-177.7732 282.5811,-184.7522 285.1934,-178.2579\"/>\n</g>\n<!-- COR ||&#45;&gt;COI !() -->\n<g id=\"edge6\" class=\"edge\">\n<title>COR ||&#45;&gt;COI !()</title>\n<path fill=\"none\" stroke=\"#000000\" d=\"M447.1236,-225.9862C471.4215,-218.2944 503.3525,-204.182 521.3956,-180 550.3076,-141.2511 562.9417,-111.0193 534.3956,-72 519.6066,-51.7851 455.6279,-35.5558 410.5303,-26.3468\"/>\n<polygon fill=\"#000000\" stroke=\"#000000\" points=\"411.1426,-22.9001 400.6515,-24.3792 409.7752,-29.7653 411.1426,-22.9001\"/>\n</g>\n<!-- COR ||&#45;&gt;COR &amp;&amp; -->\n<g id=\"edge11\" class=\"edge\">\n<title>COR ||&#45;&gt;COR &amp;&amp;</title>\n<path fill=\"none\" stroke=\"#000000\" d=\"M378.0576,-232.2111C311.5537,-228.0948 174.4116,-215.4196 145.3956,-180 135.2562,-167.6229 137.5124,-157.9232 145.3956,-144 155.0917,-126.8749 172.6247,-114.5883 189.6567,-106.1056\"/>\n<polygon fill=\"#000000\" stroke=\"#000000\" points=\"191.4072,-109.1522 199.0143,-101.7777 188.4688,-102.7988 191.4072,-109.1522\"/>\n</g>\n<!-- CDL/VDL/ODL y&#45;&gt;COI !() -->\n<g id=\"edge7\" class=\"edge\">\n<title>CDL/VDL/ODL y&#45;&gt;COI !()</title>\n<path fill=\"none\" stroke=\"#000000\" d=\"M408.1642,-144.0535C399.5934,-119.3696 384.087,-74.7111 374.0195,-45.7167\"/>\n<polygon fill=\"#000000\" stroke=\"#000000\" points=\"377.2921,-44.4714 370.7056,-36.1727 370.6794,-46.7675 377.2921,-44.4714\"/>\n</g>\n<!-- CDL/VDL/ODL y&#45;&gt;COR &amp;&amp; -->\n<g id=\"edge12\" class=\"edge\">\n<title>CDL/VDL/ODL y&#45;&gt;COR &amp;&amp;</title>\n<path fill=\"none\" stroke=\"#000000\" d=\"M375.1133,-146.1993C346.2654,-134.5957 307.1261,-118.8525 277.6111,-106.9805\"/>\n<polygon fill=\"#000000\" stroke=\"#000000\" points=\"278.5831,-103.599 267.9993,-103.1144 275.9708,-110.0933 278.5831,-103.599\"/>\n</g>\n<!-- CDL/VDL/ODL x&#45;&gt;COI !() -->\n<g id=\"edge8\" class=\"edge\">\n<title>CDL/VDL/ODL x&#45;&gt;COI !()</title>\n<path fill=\"none\" stroke=\"#000000\" d=\"M254.8889,-144.3103C265.9251,-134.026 279.7978,-120.6374 291.3956,-108 310.7421,-86.9194 331.1227,-61.4847 345.4177,-43.0397\"/>\n<polygon fill=\"#000000\" stroke=\"#000000\" points=\"348.2051,-45.1566 351.5319,-35.0976 342.6583,-40.8865 348.2051,-45.1566\"/>\n</g>\n<!-- CDL/VDL/ODL x&#45;&gt;COR &amp;&amp; -->\n<g id=\"edge13\" class=\"edge\">\n<title>CDL/VDL/ODL x&#45;&gt;COR &amp;&amp;</title>\n<path fill=\"none\" stroke=\"#000000\" d=\"M235.3956,-143.8314C235.3956,-136.131 235.3956,-126.9743 235.3956,-118.4166\"/>\n<polygon fill=\"#000000\" stroke=\"#000000\" points=\"238.8957,-118.4132 235.3956,-108.4133 231.8957,-118.4133 238.8957,-118.4132\"/>\n</g>\n<!-- COR &amp;&amp;&#45;&gt;COI !() -->\n<g id=\"edge9\" class=\"edge\">\n<title>COR &amp;&amp;&#45;&gt;COI !()</title>\n<path fill=\"none\" stroke=\"#000000\" d=\"M262.1245,-75.0816C282.0132,-63.9809 309.2999,-48.7511 330.686,-36.8147\"/>\n<polygon fill=\"#000000\" stroke=\"#000000\" points=\"332.4253,-39.8522 339.4515,-31.9223 329.0137,-33.7398 332.4253,-39.8522\"/>\n</g>\n</g>\n</svg>\n"
          },
          "metadata": {
            "tags": []
          },
          "execution_count": 13
        }
      ]
    },
    {
      "cell_type": "code",
      "metadata": {
        "id": "hct4ldaMztgR",
        "colab": {
          "base_uri": "https://localhost:8080/",
          "height": 861
        },
        "outputId": "d6956229-17ab-42ea-f348-b004f2d705d5"
      },
      "source": [
        "msg = \"A.2.2 lexp && rexp\"\n",
        "print(msg)\n",
        "print('============================================')\n",
        "# 2) Specify a program\n",
        "program = And(x,y)\n",
        "# 3) Specify a list of mutants and mutation names\n",
        "mutations = [True, False, Or(x,y), x, y, Not(program), x==y, \n",
        "             x!=y,xor(x,y), And(Not(x),y), And(x, Not(y))]\n",
        "mutationNames = {\n",
        "    \"True\": \"COR true\",\n",
        "    \"False\": \"COR false\",\n",
        "    \"Or(x, y)\": \"COR ||\",\n",
        "    \"y\": \"CDL/VDL/ODL x\", \n",
        "    \"x\": \"CDL/VDL/ODL y\",\n",
        "    \"Not(And(x, y))\": \"COI !()\",\n",
        "    \"x == y\": \"ROR ==\",\n",
        "    \"x != y\": \"ROR !=\",\n",
        "    \"Or(And(x, Not(y)), And(Not(x), y))\": \"COR ^\",\n",
        "    \"And(Not(x), y)\": \"COR !x && y\",\n",
        "    \"And(x, Not(y))\": \"COR x && !y\"\n",
        "}\n",
        "# 4) Keep non equivalent mutants\n",
        "mutations = keepNonEquivalentMutants(program, mutations)\n",
        "# 5) Keep non redundant mutants\n",
        "mutations = keepNonRedundantMutants(mutations)\n",
        "# 6) Identify subsumption relations\n",
        "subsumptions = identifySubsumptions(program, mutations, conditions)\n",
        "print('============================================')\n",
        "# 7) Draw the subsumption relation graph\n",
        "createSubsumptionRelationGraph(subsumptions, mutations, mutationNames)"
      ],
      "execution_count": null,
      "outputs": [
        {
          "output_type": "stream",
          "text": [
            "A.2.2 lexp && rexp\n",
            "============================================\n",
            "Or(And(x, Not(y)), And(Not(x), y)) is duplicate to x != y\n",
            "Or(x, y) subsumes True\n",
            "x subsumes True\n",
            "y subsumes True\n",
            "x == y subsumes True\n",
            "x subsumes Or(x, y)\n",
            "y subsumes Or(x, y)\n",
            "True subsumes Not(And(x, y))\n",
            "False subsumes Not(And(x, y))\n",
            "Or(x, y) subsumes Not(And(x, y))\n",
            "x subsumes Not(And(x, y))\n",
            "y subsumes Not(And(x, y))\n",
            "x == y subsumes Not(And(x, y))\n",
            "x != y subsumes Not(And(x, y))\n",
            "And(Not(x), y) subsumes Not(And(x, y))\n",
            "And(x, Not(y)) subsumes Not(And(x, y))\n",
            "False subsumes x != y\n",
            "Or(x, y) subsumes x != y\n",
            "x subsumes x != y\n",
            "y subsumes x != y\n",
            "And(Not(x), y) subsumes x != y\n",
            "And(x, Not(y)) subsumes x != y\n",
            "False subsumes And(Not(x), y)\n",
            "y subsumes And(Not(x), y)\n",
            "False subsumes And(x, Not(y))\n",
            "x subsumes And(x, Not(y))\n",
            "============================================\n"
          ],
          "name": "stdout"
        },
        {
          "output_type": "execute_result",
          "data": {
            "text/plain": [
              "<graphviz.dot.Digraph at 0x7f25b9442e80>"
            ],
            "image/svg+xml": "<?xml version=\"1.0\" encoding=\"UTF-8\" standalone=\"no\"?>\n<!DOCTYPE svg PUBLIC \"-//W3C//DTD SVG 1.1//EN\"\n \"http://www.w3.org/Graphics/SVG/1.1/DTD/svg11.dtd\">\n<!-- Generated by graphviz version 2.40.1 (20161225.0304)\n -->\n<!-- Title: G Pages: 1 -->\n<svg width=\"719pt\" height=\"260pt\"\n viewBox=\"0.00 0.00 718.64 260.00\" xmlns=\"http://www.w3.org/2000/svg\" xmlns:xlink=\"http://www.w3.org/1999/xlink\">\n<g id=\"graph0\" class=\"graph\" transform=\"scale(1 1) rotate(0) translate(4 256)\">\n<title>G</title>\n<polygon fill=\"#ffffff\" stroke=\"transparent\" points=\"-4,4 -4,-256 714.6398,-256 714.6398,4 -4,4\"/>\n<!-- COR true -->\n<g id=\"node1\" class=\"node\">\n<title>COR true</title>\n<ellipse fill=\"none\" stroke=\"#000000\" cx=\"169.106\" cy=\"-90\" rx=\"46.5926\" ry=\"18\"/>\n<text text-anchor=\"middle\" x=\"169.106\" y=\"-86.3\" font-family=\"Times,serif\" font-size=\"14.00\" fill=\"#000000\">COR true</text>\n</g>\n<!-- COI !() -->\n<g id=\"node6\" class=\"node\">\n<title>COI !()</title>\n<ellipse fill=\"none\" stroke=\"#000000\" cx=\"297.106\" cy=\"-18\" rx=\"38.1938\" ry=\"18\"/>\n<text text-anchor=\"middle\" x=\"297.106\" y=\"-14.3\" font-family=\"Times,serif\" font-size=\"14.00\" fill=\"#000000\">COI !()</text>\n</g>\n<!-- COR true&#45;&gt;COI !() -->\n<g id=\"edge7\" class=\"edge\">\n<title>COR true&#45;&gt;COI !()</title>\n<path fill=\"none\" stroke=\"#000000\" d=\"M195.6277,-75.0816C215.2741,-64.0304 242.1957,-48.887 263.3731,-36.9747\"/>\n<polygon fill=\"#000000\" stroke=\"#000000\" points=\"265.3553,-39.8755 272.3552,-31.9223 261.9235,-33.7745 265.3553,-39.8755\"/>\n</g>\n<!-- COR false -->\n<g id=\"node2\" class=\"node\">\n<title>COR false</title>\n<ellipse fill=\"none\" stroke=\"#000000\" cx=\"660.106\" cy=\"-234\" rx=\"49.2915\" ry=\"18\"/>\n<text text-anchor=\"middle\" x=\"660.106\" y=\"-230.3\" font-family=\"Times,serif\" font-size=\"14.00\" fill=\"#000000\">COR false</text>\n</g>\n<!-- COR false&#45;&gt;COI !() -->\n<g id=\"edge8\" class=\"edge\">\n<title>COR false&#45;&gt;COI !()</title>\n<path fill=\"none\" stroke=\"#000000\" d=\"M678.9258,-217.3427C697.648,-198.7049 721.4092,-167.9822 705.106,-144 663.7957,-83.2321 441.8163,-41.0233 343.7422,-25.0689\"/>\n<polygon fill=\"#000000\" stroke=\"#000000\" points=\"344.2373,-21.6036 333.8089,-23.474 343.1276,-28.5151 344.2373,-21.6036\"/>\n</g>\n<!-- ROR != -->\n<g id=\"node8\" class=\"node\">\n<title>ROR !=</title>\n<ellipse fill=\"none\" stroke=\"#000000\" cx=\"428.106\" cy=\"-90\" rx=\"40.8928\" ry=\"18\"/>\n<text text-anchor=\"middle\" x=\"428.106\" y=\"-86.3\" font-family=\"Times,serif\" font-size=\"14.00\" fill=\"#000000\">ROR !=</text>\n</g>\n<!-- COR false&#45;&gt;ROR != -->\n<g id=\"edge16\" class=\"edge\">\n<title>COR false&#45;&gt;ROR !=</title>\n<path fill=\"none\" stroke=\"#000000\" d=\"M674.1592,-216.616C688.1826,-197.0384 705.3531,-165.1973 688.106,-144 662.2638,-112.2391 547.1046,-98.5555 479.0196,-93.154\"/>\n<polygon fill=\"#000000\" stroke=\"#000000\" points=\"479.1615,-89.6548 468.9249,-92.3863 478.6306,-96.6346 479.1615,-89.6548\"/>\n</g>\n<!-- COR !x &amp;&amp; y -->\n<g id=\"node9\" class=\"node\">\n<title>COR !x &amp;&amp; y</title>\n<ellipse fill=\"none\" stroke=\"#000000\" cx=\"614.106\" cy=\"-162\" rx=\"64.9885\" ry=\"18\"/>\n<text text-anchor=\"middle\" x=\"614.106\" y=\"-158.3\" font-family=\"Times,serif\" font-size=\"14.00\" fill=\"#000000\">COR !x &amp;&amp; y</text>\n</g>\n<!-- COR false&#45;&gt;COR !x &amp;&amp; y -->\n<g id=\"edge22\" class=\"edge\">\n<title>COR false&#45;&gt;COR !x &amp;&amp; y</title>\n<path fill=\"none\" stroke=\"#000000\" d=\"M648.7352,-216.2022C643.3721,-207.8079 636.8643,-197.6218 630.9444,-188.3558\"/>\n<polygon fill=\"#000000\" stroke=\"#000000\" points=\"633.8388,-186.3851 625.5054,-179.8425 627.9399,-190.1539 633.8388,-186.3851\"/>\n</g>\n<!-- COR x &amp;&amp; !y -->\n<g id=\"node10\" class=\"node\">\n<title>COR x &amp;&amp; !y</title>\n<ellipse fill=\"none\" stroke=\"#000000\" cx=\"428.106\" cy=\"-162\" rx=\"64.9885\" ry=\"18\"/>\n<text text-anchor=\"middle\" x=\"428.106\" y=\"-158.3\" font-family=\"Times,serif\" font-size=\"14.00\" fill=\"#000000\">COR x &amp;&amp; !y</text>\n</g>\n<!-- COR false&#45;&gt;COR x &amp;&amp; !y -->\n<g id=\"edge24\" class=\"edge\">\n<title>COR false&#45;&gt;COR x &amp;&amp; !y</title>\n<path fill=\"none\" stroke=\"#000000\" d=\"M622.3148,-222.2717C583.9583,-210.368 524.2474,-191.837 481.1584,-178.4645\"/>\n<polygon fill=\"#000000\" stroke=\"#000000\" points=\"481.9977,-175.0604 471.4097,-175.4391 479.9229,-181.7459 481.9977,-175.0604\"/>\n</g>\n<!-- COR || -->\n<g id=\"node3\" class=\"node\">\n<title>COR ||</title>\n<ellipse fill=\"none\" stroke=\"#000000\" cx=\"233.106\" cy=\"-162\" rx=\"36.2938\" ry=\"18\"/>\n<text text-anchor=\"middle\" x=\"233.106\" y=\"-158.3\" font-family=\"Times,serif\" font-size=\"14.00\" fill=\"#000000\">COR ||</text>\n</g>\n<!-- COR ||&#45;&gt;COR true -->\n<g id=\"edge1\" class=\"edge\">\n<title>COR ||&#45;&gt;COR true</title>\n<path fill=\"none\" stroke=\"#000000\" d=\"M218.2622,-145.3008C210.2204,-136.2537 200.1261,-124.8977 191.1805,-114.8338\"/>\n<polygon fill=\"#000000\" stroke=\"#000000\" points=\"193.5733,-112.2575 184.3136,-107.1086 188.3414,-116.908 193.5733,-112.2575\"/>\n</g>\n<!-- COR ||&#45;&gt;COI !() -->\n<g id=\"edge9\" class=\"edge\">\n<title>COR ||&#45;&gt;COI !()</title>\n<path fill=\"none\" stroke=\"#000000\" d=\"M240.9536,-144.3428C251.9894,-119.5122 272.1877,-74.066 285.1132,-44.9836\"/>\n<polygon fill=\"#000000\" stroke=\"#000000\" points=\"288.331,-46.3613 289.1941,-35.8017 281.9343,-43.5183 288.331,-46.3613\"/>\n</g>\n<!-- COR ||&#45;&gt;ROR != -->\n<g id=\"edge17\" class=\"edge\">\n<title>COR ||&#45;&gt;ROR !=</title>\n<path fill=\"none\" stroke=\"#000000\" d=\"M262.2994,-151.2209C295.3626,-139.0129 349.486,-119.0289 386.8549,-105.2312\"/>\n<polygon fill=\"#000000\" stroke=\"#000000\" points=\"388.276,-108.4375 396.4446,-101.6903 385.8513,-101.8708 388.276,-108.4375\"/>\n</g>\n<!-- CDL/VDL/ODL y -->\n<g id=\"node4\" class=\"node\">\n<title>CDL/VDL/ODL y</title>\n<ellipse fill=\"none\" stroke=\"#000000\" cx=\"182.106\" cy=\"-234\" rx=\"80.6858\" ry=\"18\"/>\n<text text-anchor=\"middle\" x=\"182.106\" y=\"-230.3\" font-family=\"Times,serif\" font-size=\"14.00\" fill=\"#000000\">CDL/VDL/ODL y</text>\n</g>\n<!-- CDL/VDL/ODL y&#45;&gt;COR true -->\n<g id=\"edge2\" class=\"edge\">\n<title>CDL/VDL/ODL y&#45;&gt;COR true</title>\n<path fill=\"none\" stroke=\"#000000\" d=\"M170.3551,-215.8241C164.5201,-205.7142 158.0921,-192.6495 155.106,-180 150.2467,-159.416 154.2866,-135.7738 159.253,-117.8877\"/>\n<polygon fill=\"#000000\" stroke=\"#000000\" points=\"162.6719,-118.6737 162.224,-108.0884 155.973,-116.6427 162.6719,-118.6737\"/>\n</g>\n<!-- CDL/VDL/ODL y&#45;&gt;COR || -->\n<g id=\"edge5\" class=\"edge\">\n<title>CDL/VDL/ODL y&#45;&gt;COR ||</title>\n<path fill=\"none\" stroke=\"#000000\" d=\"M194.7127,-216.2022C200.8555,-207.5301 208.3529,-196.9455 215.0867,-187.4389\"/>\n<polygon fill=\"#000000\" stroke=\"#000000\" points=\"218.0713,-189.2806 220.9954,-179.0972 212.3591,-185.2344 218.0713,-189.2806\"/>\n</g>\n<!-- CDL/VDL/ODL y&#45;&gt;COI !() -->\n<g id=\"edge10\" class=\"edge\">\n<title>CDL/VDL/ODL y&#45;&gt;COI !()</title>\n<path fill=\"none\" stroke=\"#000000\" d=\"M118.8391,-222.7598C74.1379,-213.3807 19.8325,-198.5696 6.106,-180 -3.4048,-167.1336 -.1181,-158.7398 6.106,-144 23.9564,-101.7266 40.0085,-94.313 80.106,-72 133.5639,-42.2523 203.4322,-28.6662 249.2523,-22.6167\"/>\n<polygon fill=\"#000000\" stroke=\"#000000\" points=\"249.7303,-26.0843 259.2183,-21.3697 248.8611,-19.1385 249.7303,-26.0843\"/>\n</g>\n<!-- CDL/VDL/ODL y&#45;&gt;ROR != -->\n<g id=\"edge18\" class=\"edge\">\n<title>CDL/VDL/ODL y&#45;&gt;ROR !=</title>\n<path fill=\"none\" stroke=\"#000000\" d=\"M212.4954,-217.1916C231.4401,-206.6427 256.2816,-192.6821 278.106,-180 318.6788,-156.4232 364.9197,-128.5198 395.2056,-110.1018\"/>\n<polygon fill=\"#000000\" stroke=\"#000000\" points=\"397.3472,-112.8956 404.0685,-104.7057 393.7069,-106.9166 397.3472,-112.8956\"/>\n</g>\n<!-- CDL/VDL/ODL y&#45;&gt;COR x &amp;&amp; !y -->\n<g id=\"edge25\" class=\"edge\">\n<title>CDL/VDL/ODL y&#45;&gt;COR x &amp;&amp; !y</title>\n<path fill=\"none\" stroke=\"#000000\" d=\"M231.0018,-219.689C272.0797,-207.6662 330.7379,-190.498 373.3763,-178.0184\"/>\n<polygon fill=\"#000000\" stroke=\"#000000\" points=\"374.4185,-181.3603 383.0328,-175.1922 372.4522,-174.6421 374.4185,-181.3603\"/>\n</g>\n<!-- CDL/VDL/ODL x -->\n<g id=\"node5\" class=\"node\">\n<title>CDL/VDL/ODL x</title>\n<ellipse fill=\"none\" stroke=\"#000000\" cx=\"361.106\" cy=\"-234\" rx=\"80.6858\" ry=\"18\"/>\n<text text-anchor=\"middle\" x=\"361.106\" y=\"-230.3\" font-family=\"Times,serif\" font-size=\"14.00\" fill=\"#000000\">CDL/VDL/ODL x</text>\n</g>\n<!-- CDL/VDL/ODL x&#45;&gt;COR true -->\n<g id=\"edge3\" class=\"edge\">\n<title>CDL/VDL/ODL x&#45;&gt;COR true</title>\n<path fill=\"none\" stroke=\"#000000\" d=\"M300.8441,-221.9666C257.2878,-212.0609 203.5091,-196.9321 188.106,-180 173.0547,-163.4547 168.7857,-138.0733 168.006,-118.4774\"/>\n<polygon fill=\"#000000\" stroke=\"#000000\" points=\"171.5035,-118.2367 167.8855,-108.2788 164.5039,-118.3194 171.5035,-118.2367\"/>\n</g>\n<!-- CDL/VDL/ODL x&#45;&gt;COR || -->\n<g id=\"edge6\" class=\"edge\">\n<title>CDL/VDL/ODL x&#45;&gt;COR ||</title>\n<path fill=\"none\" stroke=\"#000000\" d=\"M331.0957,-217.1192C311.6158,-206.1618 286.2175,-191.8752 266.1599,-180.5928\"/>\n<polygon fill=\"#000000\" stroke=\"#000000\" points=\"267.7922,-177.4953 257.3605,-175.6432 264.3604,-183.5964 267.7922,-177.4953\"/>\n</g>\n<!-- CDL/VDL/ODL x&#45;&gt;COI !() -->\n<g id=\"edge11\" class=\"edge\">\n<title>CDL/VDL/ODL x&#45;&gt;COI !()</title>\n<path fill=\"none\" stroke=\"#000000\" d=\"M355.7594,-215.9555C344.5551,-178.1409 318.5527,-90.3825 305.2554,-45.5042\"/>\n<polygon fill=\"#000000\" stroke=\"#000000\" points=\"308.589,-44.4349 302.3923,-35.8413 301.8774,-46.4236 308.589,-44.4349\"/>\n</g>\n<!-- CDL/VDL/ODL x&#45;&gt;ROR != -->\n<g id=\"edge19\" class=\"edge\">\n<title>CDL/VDL/ODL x&#45;&gt;ROR !=</title>\n<path fill=\"none\" stroke=\"#000000\" d=\"M414.1864,-220.4257C449.6265,-210.1662 491.5957,-195.2799 502.106,-180 511.1736,-166.8175 509.355,-158.2637 502.106,-144 494.2891,-128.6189 479.8084,-116.5765 465.7156,-107.8054\"/>\n<polygon fill=\"#000000\" stroke=\"#000000\" points=\"467.4576,-104.7696 457.0539,-102.7662 463.9375,-110.8202 467.4576,-104.7696\"/>\n</g>\n<!-- CDL/VDL/ODL x&#45;&gt;COR !x &amp;&amp; y -->\n<g id=\"edge23\" class=\"edge\">\n<title>CDL/VDL/ODL x&#45;&gt;COR !x &amp;&amp; y</title>\n<path fill=\"none\" stroke=\"#000000\" d=\"M411.0906,-219.7751C453.6652,-207.659 514.7615,-190.2719 558.7947,-177.7407\"/>\n<polygon fill=\"#000000\" stroke=\"#000000\" points=\"559.8172,-181.0888 568.4773,-174.9852 557.9011,-174.3561 559.8172,-181.0888\"/>\n</g>\n<!-- ROR == -->\n<g id=\"node7\" class=\"node\">\n<title>ROR ==</title>\n<ellipse fill=\"none\" stroke=\"#000000\" cx=\"59.106\" cy=\"-162\" rx=\"43.5923\" ry=\"18\"/>\n<text text-anchor=\"middle\" x=\"59.106\" y=\"-158.3\" font-family=\"Times,serif\" font-size=\"14.00\" fill=\"#000000\">ROR ==</text>\n</g>\n<!-- ROR ==&#45;&gt;COR true -->\n<g id=\"edge4\" class=\"edge\">\n<title>ROR ==&#45;&gt;COR true</title>\n<path fill=\"none\" stroke=\"#000000\" d=\"M82.4341,-146.7307C98.1158,-136.4663 119.0082,-122.7912 136.3515,-111.4393\"/>\n<polygon fill=\"#000000\" stroke=\"#000000\" points=\"138.6008,-114.1502 145.051,-105.7451 134.7671,-108.2933 138.6008,-114.1502\"/>\n</g>\n<!-- ROR ==&#45;&gt;COI !() -->\n<g id=\"edge12\" class=\"edge\">\n<title>ROR ==&#45;&gt;COI !()</title>\n<path fill=\"none\" stroke=\"#000000\" d=\"M65.275,-144.0427C73.1971,-123.6289 88.8833,-90.7187 113.106,-72 152.7271,-41.3817 209.3061,-28.1014 249.2396,-22.3551\"/>\n<polygon fill=\"#000000\" stroke=\"#000000\" points=\"249.8173,-25.8091 259.2675,-21.0192 248.8929,-18.8704 249.8173,-25.8091\"/>\n</g>\n<!-- ROR !=&#45;&gt;COI !() -->\n<g id=\"edge13\" class=\"edge\">\n<title>ROR !=&#45;&gt;COI !()</title>\n<path fill=\"none\" stroke=\"#000000\" d=\"M402.2246,-75.7751C381.7774,-64.537 353.0793,-48.764 330.8337,-36.5374\"/>\n<polygon fill=\"#000000\" stroke=\"#000000\" points=\"332.4942,-33.4562 322.0448,-31.7068 329.1225,-39.5907 332.4942,-33.4562\"/>\n</g>\n<!-- COR !x &amp;&amp; y&#45;&gt;COI !() -->\n<g id=\"edge14\" class=\"edge\">\n<title>COR !x &amp;&amp; y&#45;&gt;COI !()</title>\n<path fill=\"none\" stroke=\"#000000\" d=\"M592.6794,-144.9022C566.838,-124.9947 521.4529,-92.2624 478.106,-72 433.845,-51.3103 379.7947,-36.4123 342.3421,-27.5726\"/>\n<polygon fill=\"#000000\" stroke=\"#000000\" points=\"342.7717,-24.0797 332.2406,-25.2402 341.1968,-30.9003 342.7717,-24.0797\"/>\n</g>\n<!-- COR !x &amp;&amp; y&#45;&gt;ROR != -->\n<g id=\"edge20\" class=\"edge\">\n<title>COR !x &amp;&amp; y&#45;&gt;ROR !=</title>\n<path fill=\"none\" stroke=\"#000000\" d=\"M576.0173,-147.256C544.7137,-135.1385 500.4785,-118.0152 468.5486,-105.6552\"/>\n<polygon fill=\"#000000\" stroke=\"#000000\" points=\"469.6516,-102.3291 459.0624,-101.9831 467.1246,-108.8571 469.6516,-102.3291\"/>\n</g>\n<!-- COR x &amp;&amp; !y&#45;&gt;COI !() -->\n<g id=\"edge15\" class=\"edge\">\n<title>COR x &amp;&amp; !y&#45;&gt;COI !()</title>\n<path fill=\"none\" stroke=\"#000000\" d=\"M411.8302,-144.5477C402.0229,-134.0005 389.3042,-120.267 378.106,-108 357.9498,-85.9203 335.1901,-60.5966 318.9403,-42.4476\"/>\n<polygon fill=\"#000000\" stroke=\"#000000\" points=\"321.2412,-39.7701 311.965,-34.6512 316.0243,-44.4375 321.2412,-39.7701\"/>\n</g>\n<!-- COR x &amp;&amp; !y&#45;&gt;ROR != -->\n<g id=\"edge21\" class=\"edge\">\n<title>COR x &amp;&amp; !y&#45;&gt;ROR !=</title>\n<path fill=\"none\" stroke=\"#000000\" d=\"M428.106,-143.8314C428.106,-136.131 428.106,-126.9743 428.106,-118.4166\"/>\n<polygon fill=\"#000000\" stroke=\"#000000\" points=\"431.6061,-118.4132 428.106,-108.4133 424.6061,-118.4133 431.6061,-118.4132\"/>\n</g>\n</g>\n</svg>\n"
          },
          "metadata": {
            "tags": []
          },
          "execution_count": 14
        }
      ]
    },
    {
      "cell_type": "code",
      "metadata": {
        "id": "Nnsik_yd76UQ",
        "colab": {
          "base_uri": "https://localhost:8080/",
          "height": 861
        },
        "outputId": "52ae3bb5-738a-462e-b572-2dac6f3d39c3"
      },
      "source": [
        "msg = \"A.2.3 lexp || rexp\"\n",
        "print(msg)\n",
        "print('============================================')\n",
        "# 2) Specify a program\n",
        "program = Or(x,y)\n",
        "# 3) Specify a list of mutants and mutation names\n",
        "mutations = [True, False, And(x,y), x, y, Not(program), x==y, \n",
        "             x!=y,xor(x,y), Or(Not(x),y), Or(x, Not(y))]\n",
        "mutationNames = {\n",
        "    \"True\": \"COR true\",\n",
        "    \"False\": \"COR false\",\n",
        "    \"And(x, y)\": \"COR &&\",\n",
        "    \"y\": \"CDL/VDL/ODL x\", \n",
        "    \"x\": \"CDL/VDL/ODL y\",\n",
        "    \"Not(Or(x, y))\": \"COI !()\",\n",
        "    \"x == y\": \"ROR ==\",\n",
        "    \"x != y\": \"ROR !=\",\n",
        "    \"Or(And(x, Not(y)), And(Not(x), y))\": \"COR ^\",\n",
        "    \"Or(Not(x), y)\": \"COI !x || y\",\n",
        "    \"Or(x, Not(y))\": \"COI x || !y\"\n",
        "}\n",
        "# 4) Keep non equivalent mutants\n",
        "mutations = keepNonEquivalentMutants(program, mutations)\n",
        "# 5) Keep non redundant mutants\n",
        "mutations = keepNonRedundantMutants(mutations)\n",
        "# 6) Identify subsumption relations\n",
        "subsumptions = identifySubsumptions(program, mutations, conditions)\n",
        "print('============================================')\n",
        "# 7) Draw the subsumption relation graph\n",
        "createSubsumptionRelationGraph(subsumptions, mutations, mutationNames)"
      ],
      "execution_count": null,
      "outputs": [
        {
          "output_type": "stream",
          "text": [
            "A.2.3 lexp || rexp\n",
            "============================================\n",
            "Or(And(x, Not(y)), And(Not(x), y)) is duplicate to x != y\n",
            "And(x, y) subsumes False\n",
            "x subsumes False\n",
            "y subsumes False\n",
            "x != y subsumes False\n",
            "x subsumes And(x, y)\n",
            "y subsumes And(x, y)\n",
            "True subsumes Not(Or(x, y))\n",
            "False subsumes Not(Or(x, y))\n",
            "And(x, y) subsumes Not(Or(x, y))\n",
            "x subsumes Not(Or(x, y))\n",
            "y subsumes Not(Or(x, y))\n",
            "x == y subsumes Not(Or(x, y))\n",
            "x != y subsumes Not(Or(x, y))\n",
            "Or(Not(x), y) subsumes Not(Or(x, y))\n",
            "Or(x, Not(y)) subsumes Not(Or(x, y))\n",
            "True subsumes x == y\n",
            "And(x, y) subsumes x == y\n",
            "x subsumes x == y\n",
            "y subsumes x == y\n",
            "Or(Not(x), y) subsumes x == y\n",
            "Or(x, Not(y)) subsumes x == y\n",
            "True subsumes Or(Not(x), y)\n",
            "y subsumes Or(Not(x), y)\n",
            "True subsumes Or(x, Not(y))\n",
            "x subsumes Or(x, Not(y))\n",
            "============================================\n"
          ],
          "name": "stdout"
        },
        {
          "output_type": "execute_result",
          "data": {
            "text/plain": [
              "<graphviz.dot.Digraph at 0x7f25b94446d8>"
            ],
            "image/svg+xml": "<?xml version=\"1.0\" encoding=\"UTF-8\" standalone=\"no\"?>\n<!DOCTYPE svg PUBLIC \"-//W3C//DTD SVG 1.1//EN\"\n \"http://www.w3.org/Graphics/SVG/1.1/DTD/svg11.dtd\">\n<!-- Generated by graphviz version 2.40.1 (20161225.0304)\n -->\n<!-- Title: G Pages: 1 -->\n<svg width=\"682pt\" height=\"260pt\"\n viewBox=\"0.00 0.00 681.82 260.00\" xmlns=\"http://www.w3.org/2000/svg\" xmlns:xlink=\"http://www.w3.org/1999/xlink\">\n<g id=\"graph0\" class=\"graph\" transform=\"scale(1 1) rotate(0) translate(4 256)\">\n<title>G</title>\n<polygon fill=\"#ffffff\" stroke=\"transparent\" points=\"-4,4 -4,-256 677.8216,-256 677.8216,4 -4,4\"/>\n<!-- COR true -->\n<g id=\"node1\" class=\"node\">\n<title>COR true</title>\n<ellipse fill=\"none\" stroke=\"#000000\" cx=\"627.0258\" cy=\"-234\" rx=\"46.5926\" ry=\"18\"/>\n<text text-anchor=\"middle\" x=\"627.0258\" y=\"-230.3\" font-family=\"Times,serif\" font-size=\"14.00\" fill=\"#000000\">COR true</text>\n</g>\n<!-- COI !() -->\n<g id=\"node6\" class=\"node\">\n<title>COI !()</title>\n<ellipse fill=\"none\" stroke=\"#000000\" cx=\"313.0258\" cy=\"-18\" rx=\"38.1938\" ry=\"18\"/>\n<text text-anchor=\"middle\" x=\"313.0258\" y=\"-14.3\" font-family=\"Times,serif\" font-size=\"14.00\" fill=\"#000000\">COI !()</text>\n</g>\n<!-- COR true&#45;&gt;COI !() -->\n<g id=\"edge7\" class=\"edge\">\n<title>COR true&#45;&gt;COI !()</title>\n<path fill=\"none\" stroke=\"#000000\" d=\"M643.5941,-216.9923C659.6995,-198.3121 679.7384,-167.8055 665.0258,-144 631.8318,-90.2911 445.8011,-45.4464 358.4003,-27.0113\"/>\n<polygon fill=\"#000000\" stroke=\"#000000\" points=\"359.0021,-23.5616 348.4982,-24.9468 357.5733,-30.4142 359.0021,-23.5616\"/>\n</g>\n<!-- ROR == -->\n<g id=\"node7\" class=\"node\">\n<title>ROR ==</title>\n<ellipse fill=\"none\" stroke=\"#000000\" cx=\"430.0258\" cy=\"-90\" rx=\"43.5923\" ry=\"18\"/>\n<text text-anchor=\"middle\" x=\"430.0258\" y=\"-86.3\" font-family=\"Times,serif\" font-size=\"14.00\" fill=\"#000000\">ROR ==</text>\n</g>\n<!-- COR true&#45;&gt;ROR == -->\n<g id=\"edge16\" class=\"edge\">\n<title>COR true&#45;&gt;ROR ==</title>\n<path fill=\"none\" stroke=\"#000000\" d=\"M638.8628,-216.5814C650.5706,-196.9721 664.5383,-165.1019 648.0258,-144 627.8515,-118.2187 540.3499,-103.0257 482.5248,-95.6228\"/>\n<polygon fill=\"#000000\" stroke=\"#000000\" points=\"482.8059,-92.131 472.4511,-94.3731 481.944,-99.0777 482.8059,-92.131\"/>\n</g>\n<!-- COI !x || y -->\n<g id=\"node9\" class=\"node\">\n<title>COI !x || y</title>\n<ellipse fill=\"none\" stroke=\"#000000\" cx=\"588.0258\" cy=\"-162\" rx=\"50.8918\" ry=\"18\"/>\n<text text-anchor=\"middle\" x=\"588.0258\" y=\"-158.3\" font-family=\"Times,serif\" font-size=\"14.00\" fill=\"#000000\">COI !x || y</text>\n</g>\n<!-- COR true&#45;&gt;COI !x || y -->\n<g id=\"edge22\" class=\"edge\">\n<title>COR true&#45;&gt;COI !x || y</title>\n<path fill=\"none\" stroke=\"#000000\" d=\"M617.3853,-216.2022C612.8853,-207.8944 607.4345,-197.8316 602.4572,-188.6427\"/>\n<polygon fill=\"#000000\" stroke=\"#000000\" points=\"605.5309,-186.9685 597.6905,-179.8425 599.3758,-190.3025 605.5309,-186.9685\"/>\n</g>\n<!-- COI x || !y -->\n<g id=\"node10\" class=\"node\">\n<title>COI x || !y</title>\n<ellipse fill=\"none\" stroke=\"#000000\" cx=\"430.0258\" cy=\"-162\" rx=\"50.8918\" ry=\"18\"/>\n<text text-anchor=\"middle\" x=\"430.0258\" y=\"-158.3\" font-family=\"Times,serif\" font-size=\"14.00\" fill=\"#000000\">COI x || !y</text>\n</g>\n<!-- COR true&#45;&gt;COI x || !y -->\n<g id=\"edge24\" class=\"edge\">\n<title>COR true&#45;&gt;COI x || !y</title>\n<path fill=\"none\" stroke=\"#000000\" d=\"M592.711,-221.4586C560.1641,-209.5632 511.0572,-191.6156 475.3113,-178.5511\"/>\n<polygon fill=\"#000000\" stroke=\"#000000\" points=\"476.2021,-175.1503 465.6083,-175.0048 473.7992,-181.7249 476.2021,-175.1503\"/>\n</g>\n<!-- COR false -->\n<g id=\"node2\" class=\"node\">\n<title>COR false</title>\n<ellipse fill=\"none\" stroke=\"#000000\" cx=\"163.0258\" cy=\"-90\" rx=\"49.2915\" ry=\"18\"/>\n<text text-anchor=\"middle\" x=\"163.0258\" y=\"-86.3\" font-family=\"Times,serif\" font-size=\"14.00\" fill=\"#000000\">COR false</text>\n</g>\n<!-- COR false&#45;&gt;COI !() -->\n<g id=\"edge8\" class=\"edge\">\n<title>COR false&#45;&gt;COI !()</title>\n<path fill=\"none\" stroke=\"#000000\" d=\"M193.02,-75.6028C217.234,-63.9801 251.3798,-47.5901 277.0604,-35.2634\"/>\n<polygon fill=\"#000000\" stroke=\"#000000\" points=\"278.6039,-38.4049 286.1046,-30.9222 275.5748,-32.0942 278.6039,-38.4049\"/>\n</g>\n<!-- COR &amp;&amp; -->\n<g id=\"node3\" class=\"node\">\n<title>COR &amp;&amp;</title>\n<ellipse fill=\"none\" stroke=\"#000000\" cx=\"238.0258\" cy=\"-162\" rx=\"47.3916\" ry=\"18\"/>\n<text text-anchor=\"middle\" x=\"238.0258\" y=\"-158.3\" font-family=\"Times,serif\" font-size=\"14.00\" fill=\"#000000\">COR &amp;&amp;</text>\n</g>\n<!-- COR &amp;&amp;&#45;&gt;COR false -->\n<g id=\"edge1\" class=\"edge\">\n<title>COR &amp;&amp;&#45;&gt;COR false</title>\n<path fill=\"none\" stroke=\"#000000\" d=\"M220.2518,-144.937C210.6313,-135.7013 198.5893,-124.141 188.0368,-114.0106\"/>\n<polygon fill=\"#000000\" stroke=\"#000000\" points=\"190.3099,-111.341 180.6721,-106.9405 185.4622,-116.3907 190.3099,-111.341\"/>\n</g>\n<!-- COR &amp;&amp;&#45;&gt;COI !() -->\n<g id=\"edge9\" class=\"edge\">\n<title>COR &amp;&amp;&#45;&gt;COI !()</title>\n<path fill=\"none\" stroke=\"#000000\" d=\"M247.3729,-144.0535C260.3558,-119.1263 283.9482,-73.8289 299.0341,-44.8641\"/>\n<polygon fill=\"#000000\" stroke=\"#000000\" points=\"302.2812,-46.2063 303.7964,-35.7204 296.0728,-42.9727 302.2812,-46.2063\"/>\n</g>\n<!-- COR &amp;&amp;&#45;&gt;ROR == -->\n<g id=\"edge17\" class=\"edge\">\n<title>COR &amp;&amp;&#45;&gt;ROR ==</title>\n<path fill=\"none\" stroke=\"#000000\" d=\"M271.9095,-149.2936C304.3827,-137.1162 353.4735,-118.7071 388.3306,-105.6357\"/>\n<polygon fill=\"#000000\" stroke=\"#000000\" points=\"389.6247,-108.8885 397.7591,-102.1 387.1668,-102.3342 389.6247,-108.8885\"/>\n</g>\n<!-- CDL/VDL/ODL y -->\n<g id=\"node4\" class=\"node\">\n<title>CDL/VDL/ODL y</title>\n<ellipse fill=\"none\" stroke=\"#000000\" cx=\"186.0258\" cy=\"-234\" rx=\"80.6858\" ry=\"18\"/>\n<text text-anchor=\"middle\" x=\"186.0258\" y=\"-230.3\" font-family=\"Times,serif\" font-size=\"14.00\" fill=\"#000000\">CDL/VDL/ODL y</text>\n</g>\n<!-- CDL/VDL/ODL y&#45;&gt;COR false -->\n<g id=\"edge2\" class=\"edge\">\n<title>CDL/VDL/ODL y&#45;&gt;COR false</title>\n<path fill=\"none\" stroke=\"#000000\" d=\"M169.5977,-215.989C161.7232,-206.1289 153.1278,-193.2441 149.0258,-180 142.6998,-159.5758 146.9621,-135.6191 152.3923,-117.5594\"/>\n<polygon fill=\"#000000\" stroke=\"#000000\" points=\"155.7577,-118.5293 155.561,-107.9363 149.1089,-116.3399 155.7577,-118.5293\"/>\n</g>\n<!-- CDL/VDL/ODL y&#45;&gt;COR &amp;&amp; -->\n<g id=\"edge5\" class=\"edge\">\n<title>CDL/VDL/ODL y&#45;&gt;COR &amp;&amp;</title>\n<path fill=\"none\" stroke=\"#000000\" d=\"M198.8797,-216.2022C205.0508,-207.6576 212.5628,-197.2564 219.3498,-187.859\"/>\n<polygon fill=\"#000000\" stroke=\"#000000\" points=\"222.3021,-189.7491 225.3197,-179.593 216.6274,-185.6506 222.3021,-189.7491\"/>\n</g>\n<!-- CDL/VDL/ODL y&#45;&gt;COI !() -->\n<g id=\"edge10\" class=\"edge\">\n<title>CDL/VDL/ODL y&#45;&gt;COI !()</title>\n<path fill=\"none\" stroke=\"#000000\" d=\"M121.8137,-223.0507C76.0171,-213.7809 20.1455,-198.9773 6.0258,-180 -3.5251,-167.1633 .1146,-158.868 6.0258,-144 22.2874,-103.0984 35.7863,-93.7974 74.0258,-72 134.0126,-37.8061 214.0132,-25.2644 264.532,-20.6644\"/>\n<polygon fill=\"#000000\" stroke=\"#000000\" points=\"264.866,-24.1488 274.5372,-19.8223 264.2789,-17.1734 264.866,-24.1488\"/>\n</g>\n<!-- CDL/VDL/ODL y&#45;&gt;ROR == -->\n<g id=\"edge18\" class=\"edge\">\n<title>CDL/VDL/ODL y&#45;&gt;ROR ==</title>\n<path fill=\"none\" stroke=\"#000000\" d=\"M221.1222,-217.7791C242.5272,-207.5615 270.2504,-193.7434 294.0258,-180 331.4061,-158.3922 372.5112,-130.5915 399.6393,-111.6433\"/>\n<polygon fill=\"#000000\" stroke=\"#000000\" points=\"401.7594,-114.4313 407.9335,-105.8214 397.7378,-108.7019 401.7594,-114.4313\"/>\n</g>\n<!-- CDL/VDL/ODL y&#45;&gt;COI x || !y -->\n<g id=\"edge25\" class=\"edge\">\n<title>CDL/VDL/ODL y&#45;&gt;COI x || !y</title>\n<path fill=\"none\" stroke=\"#000000\" d=\"M234.8164,-219.6028C277.3043,-207.0654 338.5908,-188.9808 381.1143,-176.4329\"/>\n<polygon fill=\"#000000\" stroke=\"#000000\" points=\"382.3598,-179.7146 390.9604,-173.5275 380.3787,-173.0008 382.3598,-179.7146\"/>\n</g>\n<!-- CDL/VDL/ODL x -->\n<g id=\"node5\" class=\"node\">\n<title>CDL/VDL/ODL x</title>\n<ellipse fill=\"none\" stroke=\"#000000\" cx=\"365.0258\" cy=\"-234\" rx=\"80.6858\" ry=\"18\"/>\n<text text-anchor=\"middle\" x=\"365.0258\" y=\"-230.3\" font-family=\"Times,serif\" font-size=\"14.00\" fill=\"#000000\">CDL/VDL/ODL x</text>\n</g>\n<!-- CDL/VDL/ODL x&#45;&gt;COR false -->\n<g id=\"edge3\" class=\"edge\">\n<title>CDL/VDL/ODL x&#45;&gt;COR false</title>\n<path fill=\"none\" stroke=\"#000000\" d=\"M309.965,-220.782C259.3914,-208.1594 190.962,-189.6705 182.0258,-180 166.8458,-163.5727 162.5888,-138.1802 161.8465,-118.55\"/>\n<polygon fill=\"#000000\" stroke=\"#000000\" points=\"165.3444,-118.2966 161.7487,-108.3306 158.3447,-118.3637 165.3444,-118.2966\"/>\n</g>\n<!-- CDL/VDL/ODL x&#45;&gt;COR &amp;&amp; -->\n<g id=\"edge6\" class=\"edge\">\n<title>CDL/VDL/ODL x&#45;&gt;COR &amp;&amp;</title>\n<path fill=\"none\" stroke=\"#000000\" d=\"M335.2499,-217.1192C316.7688,-206.6417 292.9186,-193.1204 273.466,-182.0921\"/>\n<polygon fill=\"#000000\" stroke=\"#000000\" points=\"275.019,-178.9492 264.5935,-177.062 271.5666,-185.0387 275.019,-178.9492\"/>\n</g>\n<!-- CDL/VDL/ODL x&#45;&gt;COI !() -->\n<g id=\"edge11\" class=\"edge\">\n<title>CDL/VDL/ODL x&#45;&gt;COI !()</title>\n<path fill=\"none\" stroke=\"#000000\" d=\"M360.6817,-215.9555C351.62,-178.3144 330.6448,-91.1867 319.7965,-46.1246\"/>\n<polygon fill=\"#000000\" stroke=\"#000000\" points=\"323.1374,-45.0481 317.394,-36.1451 316.3319,-46.6865 323.1374,-45.0481\"/>\n</g>\n<!-- CDL/VDL/ODL x&#45;&gt;ROR == -->\n<g id=\"edge19\" class=\"edge\">\n<title>CDL/VDL/ODL x&#45;&gt;ROR ==</title>\n<path fill=\"none\" stroke=\"#000000\" d=\"M427.012,-222.4389C450.8826,-214.637 475.8072,-201.631 490.0258,-180 498.8143,-166.6298 496.5352,-158.616 490.0258,-144 484.2557,-131.044 473.6708,-119.8925 462.9797,-111.1435\"/>\n<polygon fill=\"#000000\" stroke=\"#000000\" points=\"464.9301,-108.2288 454.8614,-104.9313 460.6761,-113.7879 464.9301,-108.2288\"/>\n</g>\n<!-- CDL/VDL/ODL x&#45;&gt;COI !x || y -->\n<g id=\"edge23\" class=\"edge\">\n<title>CDL/VDL/ODL x&#45;&gt;COI !x || y</title>\n<path fill=\"none\" stroke=\"#000000\" d=\"M410.9611,-219.1689C448.7655,-206.9629 502.1659,-189.7216 540.4203,-177.3704\"/>\n<polygon fill=\"#000000\" stroke=\"#000000\" points=\"541.8501,-180.5867 550.291,-174.1834 539.6993,-173.9253 541.8501,-180.5867\"/>\n</g>\n<!-- ROR ==&#45;&gt;COI !() -->\n<g id=\"edge12\" class=\"edge\">\n<title>ROR ==&#45;&gt;COI !()</title>\n<path fill=\"none\" stroke=\"#000000\" d=\"M405.4987,-74.9064C387.9133,-64.0846 364.06,-49.4057 344.9845,-37.6669\"/>\n<polygon fill=\"#000000\" stroke=\"#000000\" points=\"346.6758,-34.5981 336.3249,-32.3379 343.0071,-40.5597 346.6758,-34.5981\"/>\n</g>\n<!-- ROR != -->\n<g id=\"node8\" class=\"node\">\n<title>ROR !=</title>\n<ellipse fill=\"none\" stroke=\"#000000\" cx=\"56.0258\" cy=\"-162\" rx=\"40.8928\" ry=\"18\"/>\n<text text-anchor=\"middle\" x=\"56.0258\" y=\"-158.3\" font-family=\"Times,serif\" font-size=\"14.00\" fill=\"#000000\">ROR !=</text>\n</g>\n<!-- ROR !=&#45;&gt;COR false -->\n<g id=\"edge4\" class=\"edge\">\n<title>ROR !=&#45;&gt;COR false</title>\n<path fill=\"none\" stroke=\"#000000\" d=\"M78.4565,-146.9064C93.59,-136.7231 113.7992,-123.1244 130.6671,-111.7741\"/>\n<polygon fill=\"#000000\" stroke=\"#000000\" points=\"132.7962,-114.5601 139.1388,-106.0735 128.8882,-108.7525 132.7962,-114.5601\"/>\n</g>\n<!-- ROR !=&#45;&gt;COI !() -->\n<g id=\"edge13\" class=\"edge\">\n<title>ROR !=&#45;&gt;COI !()</title>\n<path fill=\"none\" stroke=\"#000000\" d=\"M61.0654,-143.9293C67.7296,-123.4088 81.4714,-90.3986 105.0258,-72 129.9542,-52.5281 213.1197,-35.1592 266.4336,-25.6507\"/>\n<polygon fill=\"#000000\" stroke=\"#000000\" points=\"267.1013,-29.0871 276.3461,-23.9118 265.8917,-22.1924 267.1013,-29.0871\"/>\n</g>\n<!-- COI !x || y&#45;&gt;COI !() -->\n<g id=\"edge14\" class=\"edge\">\n<title>COI !x || y&#45;&gt;COI !()</title>\n<path fill=\"none\" stroke=\"#000000\" d=\"M572.1704,-144.7214C552.8802,-124.64 518.4755,-91.7406 483.0258,-72 443.6268,-50.0602 394.042,-35.6075 358.6087,-27.2233\"/>\n<polygon fill=\"#000000\" stroke=\"#000000\" points=\"359.0821,-23.741 348.5527,-24.9164 357.5169,-30.5638 359.0821,-23.741\"/>\n</g>\n<!-- COI !x || y&#45;&gt;ROR == -->\n<g id=\"edge20\" class=\"edge\">\n<title>COI !x || y&#45;&gt;ROR ==</title>\n<path fill=\"none\" stroke=\"#000000\" d=\"M556.81,-147.7751C531.4688,-136.2272 495.6199,-119.891 468.5044,-107.5346\"/>\n<polygon fill=\"#000000\" stroke=\"#000000\" points=\"469.8602,-104.3062 459.3091,-103.3443 466.9575,-110.676 469.8602,-104.3062\"/>\n</g>\n<!-- COI x || !y&#45;&gt;COI !() -->\n<g id=\"edge15\" class=\"edge\">\n<title>COI x || !y&#45;&gt;COI !()</title>\n<path fill=\"none\" stroke=\"#000000\" d=\"M412.1143,-145.148C401.485,-134.8136 387.9891,-121.093 377.0258,-108 359.7837,-87.4086 342.2487,-62.405 329.9037,-43.983\"/>\n<polygon fill=\"#000000\" stroke=\"#000000\" points=\"332.7304,-41.9128 324.2844,-35.5164 326.8981,-45.7837 332.7304,-41.9128\"/>\n</g>\n<!-- COI x || !y&#45;&gt;ROR == -->\n<g id=\"edge21\" class=\"edge\">\n<title>COI x || !y&#45;&gt;ROR ==</title>\n<path fill=\"none\" stroke=\"#000000\" d=\"M430.0258,-143.8314C430.0258,-136.131 430.0258,-126.9743 430.0258,-118.4166\"/>\n<polygon fill=\"#000000\" stroke=\"#000000\" points=\"433.5259,-118.4132 430.0258,-108.4133 426.5259,-118.4133 433.5259,-118.4132\"/>\n</g>\n</g>\n</svg>\n"
          },
          "metadata": {
            "tags": []
          },
          "execution_count": 15
        }
      ]
    },
    {
      "cell_type": "code",
      "metadata": {
        "id": "2bB0BsK0Fj6r",
        "colab": {
          "base_uri": "https://localhost:8080/",
          "height": 312
        },
        "outputId": "6e654f18-2ce9-47a6-f3c7-6d4695549426"
      },
      "source": [
        "msg = \"A.2.4 (bool) lexp == rexp\"\n",
        "print(msg)\n",
        "print('============================================')\n",
        "# 2) Specify a program\n",
        "program = x==y\n",
        "# 3) Specify a list of mutants and mutation names\n",
        "mutations = [Not(program), x!=y,Not(x)==y,x==Not(y),x,y]\n",
        "mutationNames = {\n",
        "    \"Not(x == y)\": \"COI !()\",\n",
        "    \"x!=y\": \"ROR !=\",\n",
        "    \"Not(x) == y\": \"COI !x == y\",\n",
        "    \"x == Not(y)\": \"COI x == !y\",\n",
        "    \"y\": \"CDL/VDL/ODL x\", \n",
        "    \"x\": \"CDL/VDL/ODL y\"\n",
        "}\n",
        "# 4) Keep non equivalent mutants\n",
        "mutations = keepNonEquivalentMutants(program, mutations)\n",
        "# 5) Keep non redundant mutants\n",
        "mutations = keepNonRedundantMutants(mutations)\n",
        "# 6) Identify subsumption relations\n",
        "subsumptions = identifySubsumptions(program, mutations, conditions)\n",
        "print('============================================')\n",
        "# 7) Draw the subsumption relation graph\n",
        "createSubsumptionRelationGraph(subsumptions, mutations, mutationNames)"
      ],
      "execution_count": null,
      "outputs": [
        {
          "output_type": "stream",
          "text": [
            "A.2.4 (bool) lexp == rexp\n",
            "============================================\n",
            "x != y is duplicate to Not(x == y)\n",
            "Not(x) == y is duplicate to Not(x == y)\n",
            "x == Not(y) is duplicate to Not(x == y)\n",
            "x subsumes Not(x == y)\n",
            "y subsumes Not(x == y)\n",
            "============================================\n"
          ],
          "name": "stdout"
        },
        {
          "output_type": "execute_result",
          "data": {
            "text/plain": [
              "<graphviz.dot.Digraph at 0x7f25b9424f98>"
            ],
            "image/svg+xml": "<?xml version=\"1.0\" encoding=\"UTF-8\" standalone=\"no\"?>\n<!DOCTYPE svg PUBLIC \"-//W3C//DTD SVG 1.1//EN\"\n \"http://www.w3.org/Graphics/SVG/1.1/DTD/svg11.dtd\">\n<!-- Generated by graphviz version 2.40.1 (20161225.0304)\n -->\n<!-- Title: G Pages: 1 -->\n<svg width=\"348pt\" height=\"116pt\"\n viewBox=\"0.00 0.00 348.19 116.00\" xmlns=\"http://www.w3.org/2000/svg\" xmlns:xlink=\"http://www.w3.org/1999/xlink\">\n<g id=\"graph0\" class=\"graph\" transform=\"scale(1 1) rotate(0) translate(4 112)\">\n<title>G</title>\n<polygon fill=\"#ffffff\" stroke=\"transparent\" points=\"-4,4 -4,-112 344.1857,-112 344.1857,4 -4,4\"/>\n<!-- COI !() -->\n<g id=\"node1\" class=\"node\">\n<title>COI !()</title>\n<ellipse fill=\"none\" stroke=\"#000000\" cx=\"169.5928\" cy=\"-18\" rx=\"38.1938\" ry=\"18\"/>\n<text text-anchor=\"middle\" x=\"169.5928\" y=\"-14.3\" font-family=\"Times,serif\" font-size=\"14.00\" fill=\"#000000\">COI !()</text>\n</g>\n<!-- CDL/VDL/ODL y -->\n<g id=\"node2\" class=\"node\">\n<title>CDL/VDL/ODL y</title>\n<ellipse fill=\"none\" stroke=\"#000000\" cx=\"80.5928\" cy=\"-90\" rx=\"80.6858\" ry=\"18\"/>\n<text text-anchor=\"middle\" x=\"80.5928\" y=\"-86.3\" font-family=\"Times,serif\" font-size=\"14.00\" fill=\"#000000\">CDL/VDL/ODL y</text>\n</g>\n<!-- CDL/VDL/ODL y&#45;&gt;COI !() -->\n<g id=\"edge1\" class=\"edge\">\n<title>CDL/VDL/ODL y&#45;&gt;COI !()</title>\n<path fill=\"none\" stroke=\"#000000\" d=\"M102.1373,-72.5708C114.1223,-62.875 129.1666,-50.7044 142.0047,-40.3185\"/>\n<polygon fill=\"#000000\" stroke=\"#000000\" points=\"144.4951,-42.8057 150.0683,-33.7951 140.0925,-37.3636 144.4951,-42.8057\"/>\n</g>\n<!-- CDL/VDL/ODL x -->\n<g id=\"node3\" class=\"node\">\n<title>CDL/VDL/ODL x</title>\n<ellipse fill=\"none\" stroke=\"#000000\" cx=\"259.5928\" cy=\"-90\" rx=\"80.6858\" ry=\"18\"/>\n<text text-anchor=\"middle\" x=\"259.5928\" y=\"-86.3\" font-family=\"Times,serif\" font-size=\"14.00\" fill=\"#000000\">CDL/VDL/ODL x</text>\n</g>\n<!-- CDL/VDL/ODL x&#45;&gt;COI !() -->\n<g id=\"edge2\" class=\"edge\">\n<title>CDL/VDL/ODL x&#45;&gt;COI !()</title>\n<path fill=\"none\" stroke=\"#000000\" d=\"M237.8064,-72.5708C225.485,-62.7138 209.9664,-50.2988 196.845,-39.8017\"/>\n<polygon fill=\"#000000\" stroke=\"#000000\" points=\"199.0301,-37.0676 189.0349,-33.5537 194.6572,-42.5337 199.0301,-37.0676\"/>\n</g>\n</g>\n</svg>\n"
          },
          "metadata": {
            "tags": []
          },
          "execution_count": 16
        }
      ]
    },
    {
      "cell_type": "code",
      "metadata": {
        "id": "zZeU3fdcHLCB",
        "colab": {
          "base_uri": "https://localhost:8080/",
          "height": 312
        },
        "outputId": "26c45867-d641-409c-a250-4e1f52d5a695"
      },
      "source": [
        "msg = \"A.2.5 (bool) lexp != rexp\"\n",
        "print(msg)\n",
        "print('============================================')\n",
        "# 2) Specify a program\n",
        "program = x!=y\n",
        "# 3) Specify a list of mutants and mutation names\n",
        "mutations = [x==y,Not(program),Not(x)!=y,x!=Not(y),x,y]\n",
        "mutationNames = {\n",
        "    \"x == y\": \"ROR ==\",\n",
        "    \"Not(x != y)\": \"COI ()\",\n",
        "    \"Not(x) != y\": \"COI !x != y\",\n",
        "    \"x != Not(y)\": \"COI x != !y\",\n",
        "    \"y\": \"CDL/VDL/ODL x\", \n",
        "    \"x\": \"CDL/VDL/ODL y\"\n",
        "}\n",
        "# 4) Keep non equivalent mutants\n",
        "mutations = keepNonEquivalentMutants(program, mutations)\n",
        "# 5) Keep non redundant mutants\n",
        "mutations = keepNonRedundantMutants(mutations)\n",
        "# 6) Identify subsumption relations\n",
        "subsumptions = identifySubsumptions(program, mutations, conditions)\n",
        "print('============================================')\n",
        "# 7) Draw the subsumption relation graph\n",
        "createSubsumptionRelationGraph(subsumptions, mutations, mutationNames)"
      ],
      "execution_count": null,
      "outputs": [
        {
          "output_type": "stream",
          "text": [
            "A.2.5 (bool) lexp != rexp\n",
            "============================================\n",
            "Not(x != y) is duplicate to x == y\n",
            "Not(x) != y is duplicate to x == y\n",
            "x != Not(y) is duplicate to x == y\n",
            "x subsumes x == y\n",
            "y subsumes x == y\n",
            "============================================\n"
          ],
          "name": "stdout"
        },
        {
          "output_type": "execute_result",
          "data": {
            "text/plain": [
              "<graphviz.dot.Digraph at 0x7f25b9442080>"
            ],
            "image/svg+xml": "<?xml version=\"1.0\" encoding=\"UTF-8\" standalone=\"no\"?>\n<!DOCTYPE svg PUBLIC \"-//W3C//DTD SVG 1.1//EN\"\n \"http://www.w3.org/Graphics/SVG/1.1/DTD/svg11.dtd\">\n<!-- Generated by graphviz version 2.40.1 (20161225.0304)\n -->\n<!-- Title: G Pages: 1 -->\n<svg width=\"348pt\" height=\"116pt\"\n viewBox=\"0.00 0.00 348.19 116.00\" xmlns=\"http://www.w3.org/2000/svg\" xmlns:xlink=\"http://www.w3.org/1999/xlink\">\n<g id=\"graph0\" class=\"graph\" transform=\"scale(1 1) rotate(0) translate(4 112)\">\n<title>G</title>\n<polygon fill=\"#ffffff\" stroke=\"transparent\" points=\"-4,4 -4,-112 344.1857,-112 344.1857,4 -4,4\"/>\n<!-- ROR == -->\n<g id=\"node1\" class=\"node\">\n<title>ROR ==</title>\n<ellipse fill=\"none\" stroke=\"#000000\" cx=\"169.5928\" cy=\"-18\" rx=\"43.5923\" ry=\"18\"/>\n<text text-anchor=\"middle\" x=\"169.5928\" y=\"-14.3\" font-family=\"Times,serif\" font-size=\"14.00\" fill=\"#000000\">ROR ==</text>\n</g>\n<!-- CDL/VDL/ODL y -->\n<g id=\"node2\" class=\"node\">\n<title>CDL/VDL/ODL y</title>\n<ellipse fill=\"none\" stroke=\"#000000\" cx=\"80.5928\" cy=\"-90\" rx=\"80.6858\" ry=\"18\"/>\n<text text-anchor=\"middle\" x=\"80.5928\" y=\"-86.3\" font-family=\"Times,serif\" font-size=\"14.00\" fill=\"#000000\">CDL/VDL/ODL y</text>\n</g>\n<!-- CDL/VDL/ODL y&#45;&gt;ROR == -->\n<g id=\"edge1\" class=\"edge\">\n<title>CDL/VDL/ODL y&#45;&gt;ROR ==</title>\n<path fill=\"none\" stroke=\"#000000\" d=\"M102.1373,-72.5708C114.0379,-62.9433 128.9549,-50.8757 141.7332,-40.5382\"/>\n<polygon fill=\"#000000\" stroke=\"#000000\" points=\"144.1951,-43.0484 149.7683,-34.0378 139.7925,-37.6062 144.1951,-43.0484\"/>\n</g>\n<!-- CDL/VDL/ODL x -->\n<g id=\"node3\" class=\"node\">\n<title>CDL/VDL/ODL x</title>\n<ellipse fill=\"none\" stroke=\"#000000\" cx=\"259.5928\" cy=\"-90\" rx=\"80.6858\" ry=\"18\"/>\n<text text-anchor=\"middle\" x=\"259.5928\" y=\"-86.3\" font-family=\"Times,serif\" font-size=\"14.00\" fill=\"#000000\">CDL/VDL/ODL x</text>\n</g>\n<!-- CDL/VDL/ODL x&#45;&gt;ROR == -->\n<g id=\"edge2\" class=\"edge\">\n<title>CDL/VDL/ODL x&#45;&gt;ROR ==</title>\n<path fill=\"none\" stroke=\"#000000\" d=\"M237.8064,-72.5708C225.772,-62.9433 210.6874,-50.8757 197.7656,-40.5382\"/>\n<polygon fill=\"#000000\" stroke=\"#000000\" points=\"199.6353,-37.5518 189.6401,-34.0378 195.2624,-43.0179 199.6353,-37.5518\"/>\n</g>\n</g>\n</svg>\n"
          },
          "metadata": {
            "tags": []
          },
          "execution_count": 17
        }
      ]
    },
    {
      "cell_type": "markdown",
      "metadata": {
        "id": "aKg2bVONKcsC"
      },
      "source": [
        "**A.3 Relational expressions with integers:**"
      ]
    },
    {
      "cell_type": "code",
      "metadata": {
        "id": "qUNqzxYaKuNJ"
      },
      "source": [
        "# 1) Declare variables and conditions\n",
        "x = Int('x')\n",
        "y = Int('y')\n",
        "conditions = True"
      ],
      "execution_count": null,
      "outputs": []
    },
    {
      "cell_type": "code",
      "metadata": {
        "id": "2ZNiDkOkKvIO",
        "colab": {
          "base_uri": "https://localhost:8080/",
          "height": 544
        },
        "outputId": "e423508d-57f8-4791-a862-9d8bb76403ce"
      },
      "source": [
        "msg = \"A.3.1 lexp == rexp\"\n",
        "print(msg)\n",
        "print('============================================')\n",
        "# 2) Specify a program\n",
        "program = x==y\n",
        "# 3) Specify a list of mutants and mutation names\n",
        "mutations = [True,False,x>=y,x<=y,x>y,x<y,x!=y,Not(program)]\n",
        "mutationNames = {\n",
        "    \"True\": \"ROR true\",\n",
        "    \"False\": \"ROR false\",\n",
        "    \"x >= y\": \"ROR >=\",\n",
        "    \"x <= y\": \"ROR <=\",\n",
        "    \"x > y\": \"ROR >\",\n",
        "    \"x < y\": \"ROR <\",\n",
        "    \"x != y\": \"ROR !=\",\n",
        "    \"Not(x == y)\": \"COI !()\"\n",
        "}\n",
        "# 4) Keep non equivalent mutants\n",
        "mutations = keepNonEquivalentMutants(program, mutations)\n",
        "# 5) Keep non redundant mutants\n",
        "mutations = keepNonRedundantMutants(mutations)\n",
        "# 6) Identify subsumption relations\n",
        "subsumptions = identifySubsumptions(program, mutations, conditions)\n",
        "print('============================================')\n",
        "# 7) Draw the subsumption relation graph\n",
        "createSubsumptionRelationGraph(subsumptions, mutations, mutationNames)"
      ],
      "execution_count": null,
      "outputs": [
        {
          "output_type": "stream",
          "text": [
            "A.3.1 lexp == rexp\n",
            "============================================\n",
            "Not(x == y) is duplicate to x != y\n",
            "x >= y subsumes True\n",
            "x <= y subsumes True\n",
            "False subsumes x > y\n",
            "x >= y subsumes x > y\n",
            "False subsumes x < y\n",
            "x <= y subsumes x < y\n",
            "True subsumes x != y\n",
            "False subsumes x != y\n",
            "x >= y subsumes x != y\n",
            "x <= y subsumes x != y\n",
            "x > y subsumes x != y\n",
            "x < y subsumes x != y\n",
            "============================================\n"
          ],
          "name": "stdout"
        },
        {
          "output_type": "execute_result",
          "data": {
            "text/plain": [
              "<graphviz.dot.Digraph at 0x7f25b944ab38>"
            ],
            "image/svg+xml": "<?xml version=\"1.0\" encoding=\"UTF-8\" standalone=\"no\"?>\n<!DOCTYPE svg PUBLIC \"-//W3C//DTD SVG 1.1//EN\"\n \"http://www.w3.org/Graphics/SVG/1.1/DTD/svg11.dtd\">\n<!-- Generated by graphviz version 2.40.1 (20161225.0304)\n -->\n<!-- Title: G Pages: 1 -->\n<svg width=\"359pt\" height=\"188pt\"\n viewBox=\"0.00 0.00 358.87 188.00\" xmlns=\"http://www.w3.org/2000/svg\" xmlns:xlink=\"http://www.w3.org/1999/xlink\">\n<g id=\"graph0\" class=\"graph\" transform=\"scale(1 1) rotate(0) translate(4 184)\">\n<title>G</title>\n<polygon fill=\"#ffffff\" stroke=\"transparent\" points=\"-4,4 -4,-184 354.8724,-184 354.8724,4 -4,4\"/>\n<!-- ROR true -->\n<g id=\"node1\" class=\"node\">\n<title>ROR true</title>\n<ellipse fill=\"none\" stroke=\"#000000\" cx=\"61.9286\" cy=\"-90\" rx=\"46.5926\" ry=\"18\"/>\n<text text-anchor=\"middle\" x=\"61.9286\" y=\"-86.3\" font-family=\"Times,serif\" font-size=\"14.00\" fill=\"#000000\">ROR true</text>\n</g>\n<!-- ROR != -->\n<g id=\"node7\" class=\"node\">\n<title>ROR !=</title>\n<ellipse fill=\"none\" stroke=\"#000000\" cx=\"169.9286\" cy=\"-18\" rx=\"40.8928\" ry=\"18\"/>\n<text text-anchor=\"middle\" x=\"169.9286\" y=\"-14.3\" font-family=\"Times,serif\" font-size=\"14.00\" fill=\"#000000\">ROR !=</text>\n</g>\n<!-- ROR true&#45;&gt;ROR != -->\n<g id=\"edge7\" class=\"edge\">\n<title>ROR true&#45;&gt;ROR !=</title>\n<path fill=\"none\" stroke=\"#000000\" d=\"M85.363,-74.3771C101.0005,-63.952 121.7371,-50.1276 138.7621,-38.7777\"/>\n<polygon fill=\"#000000\" stroke=\"#000000\" points=\"140.901,-41.5583 147.28,-33.099 137.018,-35.7339 140.901,-41.5583\"/>\n</g>\n<!-- ROR false -->\n<g id=\"node2\" class=\"node\">\n<title>ROR false</title>\n<ellipse fill=\"none\" stroke=\"#000000\" cx=\"297.9286\" cy=\"-162\" rx=\"49.2915\" ry=\"18\"/>\n<text text-anchor=\"middle\" x=\"297.9286\" y=\"-158.3\" font-family=\"Times,serif\" font-size=\"14.00\" fill=\"#000000\">ROR false</text>\n</g>\n<!-- ROR &gt; -->\n<g id=\"node5\" class=\"node\">\n<title>ROR &gt;</title>\n<ellipse fill=\"none\" stroke=\"#000000\" cx=\"202.9286\" cy=\"-90\" rx=\"38.1938\" ry=\"18\"/>\n<text text-anchor=\"middle\" x=\"202.9286\" y=\"-86.3\" font-family=\"Times,serif\" font-size=\"14.00\" fill=\"#000000\">ROR &gt;</text>\n</g>\n<!-- ROR false&#45;&gt;ROR &gt; -->\n<g id=\"edge3\" class=\"edge\">\n<title>ROR false&#45;&gt;ROR &gt;</title>\n<path fill=\"none\" stroke=\"#000000\" d=\"M276.3716,-145.6621C263.1005,-135.6039 245.9318,-122.5919 231.5317,-111.6781\"/>\n<polygon fill=\"#000000\" stroke=\"#000000\" points=\"233.5072,-108.7837 223.4234,-105.5329 229.279,-114.3625 233.5072,-108.7837\"/>\n</g>\n<!-- ROR &lt; -->\n<g id=\"node6\" class=\"node\">\n<title>ROR &lt;</title>\n<ellipse fill=\"none\" stroke=\"#000000\" cx=\"297.9286\" cy=\"-90\" rx=\"38.1938\" ry=\"18\"/>\n<text text-anchor=\"middle\" x=\"297.9286\" y=\"-86.3\" font-family=\"Times,serif\" font-size=\"14.00\" fill=\"#000000\">ROR &lt;</text>\n</g>\n<!-- ROR false&#45;&gt;ROR &lt; -->\n<g id=\"edge5\" class=\"edge\">\n<title>ROR false&#45;&gt;ROR &lt;</title>\n<path fill=\"none\" stroke=\"#000000\" d=\"M297.9286,-143.8314C297.9286,-136.131 297.9286,-126.9743 297.9286,-118.4166\"/>\n<polygon fill=\"#000000\" stroke=\"#000000\" points=\"301.4287,-118.4132 297.9286,-108.4133 294.4287,-118.4133 301.4287,-118.4132\"/>\n</g>\n<!-- ROR false&#45;&gt;ROR != -->\n<g id=\"edge8\" class=\"edge\">\n<title>ROR false&#45;&gt;ROR !=</title>\n<path fill=\"none\" stroke=\"#000000\" d=\"M317.7135,-145.1804C337.3831,-126.3971 362.3033,-95.5445 344.9286,-72 329.7582,-51.4426 264.669,-35.4148 218.3141,-26.331\"/>\n<polygon fill=\"#000000\" stroke=\"#000000\" points=\"218.9191,-22.8834 208.4399,-24.4446 217.6055,-29.759 218.9191,-22.8834\"/>\n</g>\n<!-- ROR &gt;= -->\n<g id=\"node3\" class=\"node\">\n<title>ROR &gt;=</title>\n<ellipse fill=\"none\" stroke=\"#000000\" cx=\"46.9286\" cy=\"-162\" rx=\"43.5923\" ry=\"18\"/>\n<text text-anchor=\"middle\" x=\"46.9286\" y=\"-158.3\" font-family=\"Times,serif\" font-size=\"14.00\" fill=\"#000000\">ROR &gt;=</text>\n</g>\n<!-- ROR &gt;=&#45;&gt;ROR true -->\n<g id=\"edge1\" class=\"edge\">\n<title>ROR &gt;=&#45;&gt;ROR true</title>\n<path fill=\"none\" stroke=\"#000000\" d=\"M50.7137,-143.8314C52.318,-136.131 54.2256,-126.9743 56.0085,-118.4166\"/>\n<polygon fill=\"#000000\" stroke=\"#000000\" points=\"59.4793,-118.9169 58.0925,-108.4133 52.6264,-117.4892 59.4793,-118.9169\"/>\n</g>\n<!-- ROR &gt;=&#45;&gt;ROR &gt; -->\n<g id=\"edge4\" class=\"edge\">\n<title>ROR &gt;=&#45;&gt;ROR &gt;</title>\n<path fill=\"none\" stroke=\"#000000\" d=\"M76.271,-148.4574C101.7724,-136.6875 138.8272,-119.5852 166.2745,-106.9173\"/>\n<polygon fill=\"#000000\" stroke=\"#000000\" points=\"167.9347,-110.0059 175.5476,-102.6374 165.0013,-103.6501 167.9347,-110.0059\"/>\n</g>\n<!-- ROR &gt;=&#45;&gt;ROR != -->\n<g id=\"edge9\" class=\"edge\">\n<title>ROR &gt;=&#45;&gt;ROR !=</title>\n<path fill=\"none\" stroke=\"#000000\" d=\"M29.4132,-145.3533C11.6891,-126.4523 -10.8799,-95.2307 5.9286,-72 19.826,-52.7927 79.1617,-36.7049 122.4786,-27.2147\"/>\n<polygon fill=\"#000000\" stroke=\"#000000\" points=\"123.2335,-30.6325 132.2805,-25.1188 121.7696,-23.7873 123.2335,-30.6325\"/>\n</g>\n<!-- ROR &lt;= -->\n<g id=\"node4\" class=\"node\">\n<title>ROR &lt;=</title>\n<ellipse fill=\"none\" stroke=\"#000000\" cx=\"151.9286\" cy=\"-162\" rx=\"43.5923\" ry=\"18\"/>\n<text text-anchor=\"middle\" x=\"151.9286\" y=\"-158.3\" font-family=\"Times,serif\" font-size=\"14.00\" fill=\"#000000\">ROR &lt;=</text>\n</g>\n<!-- ROR &lt;=&#45;&gt;ROR true -->\n<g id=\"edge2\" class=\"edge\">\n<title>ROR &lt;=&#45;&gt;ROR true</title>\n<path fill=\"none\" stroke=\"#000000\" d=\"M131.5062,-145.6621C119.3087,-135.9041 103.636,-123.3659 90.2544,-112.6607\"/>\n<polygon fill=\"#000000\" stroke=\"#000000\" points=\"92.2653,-109.7872 82.2702,-106.2733 87.8924,-115.2533 92.2653,-109.7872\"/>\n</g>\n<!-- ROR &lt;=&#45;&gt;ROR &lt; -->\n<g id=\"edge6\" class=\"edge\">\n<title>ROR &lt;=&#45;&gt;ROR &lt;</title>\n<path fill=\"none\" stroke=\"#000000\" d=\"M180.0789,-148.1177C203.4443,-136.595 236.8183,-120.1366 262.0898,-107.6739\"/>\n<polygon fill=\"#000000\" stroke=\"#000000\" points=\"263.9202,-110.6738 271.3409,-103.1117 260.8241,-104.3957 263.9202,-110.6738\"/>\n</g>\n<!-- ROR &lt;=&#45;&gt;ROR != -->\n<g id=\"edge10\" class=\"edge\">\n<title>ROR &lt;=&#45;&gt;ROR !=</title>\n<path fill=\"none\" stroke=\"#000000\" d=\"M151.6265,-143.9637C151.5791,-125.7167 152.2126,-96.7472 155.9286,-72 157.2027,-63.5149 159.2717,-54.4354 161.4327,-46.1891\"/>\n<polygon fill=\"#000000\" stroke=\"#000000\" points=\"164.8762,-46.8679 164.1664,-36.2969 158.1291,-45.0033 164.8762,-46.8679\"/>\n</g>\n<!-- ROR &gt;&#45;&gt;ROR != -->\n<g id=\"edge11\" class=\"edge\">\n<title>ROR &gt;&#45;&gt;ROR !=</title>\n<path fill=\"none\" stroke=\"#000000\" d=\"M194.7713,-72.2022C191.0429,-64.0675 186.5432,-54.2501 182.4036,-45.2181\"/>\n<polygon fill=\"#000000\" stroke=\"#000000\" points=\"185.4548,-43.4749 178.1064,-35.8425 179.0913,-46.3915 185.4548,-43.4749\"/>\n</g>\n<!-- ROR &lt;&#45;&gt;ROR != -->\n<g id=\"edge12\" class=\"edge\">\n<title>ROR &lt;&#45;&gt;ROR !=</title>\n<path fill=\"none\" stroke=\"#000000\" d=\"M273.2489,-76.1177C253.6705,-65.1048 226.0768,-49.5834 204.3302,-37.3509\"/>\n<polygon fill=\"#000000\" stroke=\"#000000\" points=\"205.8403,-34.1847 195.4086,-32.3325 202.4085,-40.2857 205.8403,-34.1847\"/>\n</g>\n</g>\n</svg>\n"
          },
          "metadata": {
            "tags": []
          },
          "execution_count": 19
        }
      ]
    },
    {
      "cell_type": "code",
      "metadata": {
        "id": "SrDeCzSQPAZl",
        "colab": {
          "base_uri": "https://localhost:8080/",
          "height": 544
        },
        "outputId": "6d5cbf9c-3555-41e2-f186-24ff7f427ac1"
      },
      "source": [
        "msg = \"A.3.2 lexp != rexp\"\n",
        "print(msg)\n",
        "print('============================================')\n",
        "# 2) Specify a program\n",
        "program = x!=y\n",
        "# 3) Specify a list of mutants and mutation names\n",
        "mutations = [True,False,x>=y,x<=y,x>y,x<y,x==y,Not(program)]\n",
        "mutationNames = {\n",
        "    \"True\": \"ROR true\",\n",
        "    \"False\": \"ROR false\",\n",
        "    \"x >= y\": \"ROR >=\",\n",
        "    \"x <= y\": \"ROR <=\",\n",
        "    \"x > y\": \"ROR >\",\n",
        "    \"x < y\": \"ROR <\",\n",
        "    \"x == y\": \"ROR ==\",\n",
        "    \"Not(x != y)\": \"COI !()\"\n",
        "}\n",
        "# 4) Keep non equivalent mutants\n",
        "mutations = keepNonEquivalentMutants(program, mutations)\n",
        "# 5) Keep non redundant mutants\n",
        "mutations = keepNonRedundantMutants(mutations)\n",
        "# 6) Identify subsumption relations\n",
        "subsumptions = identifySubsumptions(program, mutations, conditions)\n",
        "print('============================================')\n",
        "# 7) Draw the subsumption relation graph\n",
        "createSubsumptionRelationGraph(subsumptions, mutations, mutationNames)"
      ],
      "execution_count": null,
      "outputs": [
        {
          "output_type": "stream",
          "text": [
            "A.3.2 lexp != rexp\n",
            "============================================\n",
            "Not(x != y) is duplicate to x == y\n",
            "x > y subsumes False\n",
            "x < y subsumes False\n",
            "True subsumes x >= y\n",
            "x > y subsumes x >= y\n",
            "True subsumes x <= y\n",
            "x < y subsumes x <= y\n",
            "True subsumes x == y\n",
            "False subsumes x == y\n",
            "x >= y subsumes x == y\n",
            "x <= y subsumes x == y\n",
            "x > y subsumes x == y\n",
            "x < y subsumes x == y\n",
            "============================================\n"
          ],
          "name": "stdout"
        },
        {
          "output_type": "execute_result",
          "data": {
            "text/plain": [
              "<graphviz.dot.Digraph at 0x7f25b944a160>"
            ],
            "image/svg+xml": "<?xml version=\"1.0\" encoding=\"UTF-8\" standalone=\"no\"?>\n<!DOCTYPE svg PUBLIC \"-//W3C//DTD SVG 1.1//EN\"\n \"http://www.w3.org/Graphics/SVG/1.1/DTD/svg11.dtd\">\n<!-- Generated by graphviz version 2.40.1 (20161225.0304)\n -->\n<!-- Title: G Pages: 1 -->\n<svg width=\"385pt\" height=\"188pt\"\n viewBox=\"0.00 0.00 384.96 188.00\" xmlns=\"http://www.w3.org/2000/svg\" xmlns:xlink=\"http://www.w3.org/1999/xlink\">\n<g id=\"graph0\" class=\"graph\" transform=\"scale(1 1) rotate(0) translate(4 184)\">\n<title>G</title>\n<polygon fill=\"#ffffff\" stroke=\"transparent\" points=\"-4,4 -4,-184 380.9621,-184 380.9621,4 -4,4\"/>\n<!-- ROR true -->\n<g id=\"node1\" class=\"node\">\n<title>ROR true</title>\n<ellipse fill=\"none\" stroke=\"#000000\" cx=\"59.0547\" cy=\"-162\" rx=\"46.5926\" ry=\"18\"/>\n<text text-anchor=\"middle\" x=\"59.0547\" y=\"-158.3\" font-family=\"Times,serif\" font-size=\"14.00\" fill=\"#000000\">ROR true</text>\n</g>\n<!-- ROR &gt;= -->\n<g id=\"node3\" class=\"node\">\n<title>ROR &gt;=</title>\n<ellipse fill=\"none\" stroke=\"#000000\" cx=\"59.0547\" cy=\"-90\" rx=\"43.5923\" ry=\"18\"/>\n<text text-anchor=\"middle\" x=\"59.0547\" y=\"-86.3\" font-family=\"Times,serif\" font-size=\"14.00\" fill=\"#000000\">ROR &gt;=</text>\n</g>\n<!-- ROR true&#45;&gt;ROR &gt;= -->\n<g id=\"edge3\" class=\"edge\">\n<title>ROR true&#45;&gt;ROR &gt;=</title>\n<path fill=\"none\" stroke=\"#000000\" d=\"M59.0547,-143.8314C59.0547,-136.131 59.0547,-126.9743 59.0547,-118.4166\"/>\n<polygon fill=\"#000000\" stroke=\"#000000\" points=\"62.5548,-118.4132 59.0547,-108.4133 55.5548,-118.4133 62.5548,-118.4132\"/>\n</g>\n<!-- ROR &lt;= -->\n<g id=\"node4\" class=\"node\">\n<title>ROR &lt;=</title>\n<ellipse fill=\"none\" stroke=\"#000000\" cx=\"164.0547\" cy=\"-90\" rx=\"43.5923\" ry=\"18\"/>\n<text text-anchor=\"middle\" x=\"164.0547\" y=\"-86.3\" font-family=\"Times,serif\" font-size=\"14.00\" fill=\"#000000\">ROR &lt;=</text>\n</g>\n<!-- ROR true&#45;&gt;ROR &lt;= -->\n<g id=\"edge5\" class=\"edge\">\n<title>ROR true&#45;&gt;ROR &lt;=</title>\n<path fill=\"none\" stroke=\"#000000\" d=\"M82.0974,-146.1993C96.9706,-136.0005 116.5074,-122.6039 132.7755,-111.4486\"/>\n<polygon fill=\"#000000\" stroke=\"#000000\" points=\"135.1588,-114.0582 141.4268,-105.5163 131.2001,-108.2851 135.1588,-114.0582\"/>\n</g>\n<!-- ROR == -->\n<g id=\"node7\" class=\"node\">\n<title>ROR ==</title>\n<ellipse fill=\"none\" stroke=\"#000000\" cx=\"200.0547\" cy=\"-18\" rx=\"43.5923\" ry=\"18\"/>\n<text text-anchor=\"middle\" x=\"200.0547\" y=\"-14.3\" font-family=\"Times,serif\" font-size=\"14.00\" fill=\"#000000\">ROR ==</text>\n</g>\n<!-- ROR true&#45;&gt;ROR == -->\n<g id=\"edge7\" class=\"edge\">\n<title>ROR true&#45;&gt;ROR ==</title>\n<path fill=\"none\" stroke=\"#000000\" d=\"M37.6492,-145.6734C15.8722,-127.066 -12.2634,-96.1134 6.0547,-72 23.2543,-49.359 96.9158,-33.6891 148.3466,-25.2721\"/>\n<polygon fill=\"#000000\" stroke=\"#000000\" points=\"148.9877,-28.7142 158.313,-23.6855 147.8871,-21.8012 148.9877,-28.7142\"/>\n</g>\n<!-- ROR false -->\n<g id=\"node2\" class=\"node\">\n<title>ROR false</title>\n<ellipse fill=\"none\" stroke=\"#000000\" cx=\"313.0547\" cy=\"-90\" rx=\"49.2915\" ry=\"18\"/>\n<text text-anchor=\"middle\" x=\"313.0547\" y=\"-86.3\" font-family=\"Times,serif\" font-size=\"14.00\" fill=\"#000000\">ROR false</text>\n</g>\n<!-- ROR false&#45;&gt;ROR == -->\n<g id=\"edge8\" class=\"edge\">\n<title>ROR false&#45;&gt;ROR ==</title>\n<path fill=\"none\" stroke=\"#000000\" d=\"M288.2564,-74.1993C271.9911,-63.8356 250.5433,-50.1697 232.8704,-38.9091\"/>\n<polygon fill=\"#000000\" stroke=\"#000000\" points=\"234.3345,-35.6919 224.0202,-33.27 230.573,-41.5954 234.3345,-35.6919\"/>\n</g>\n<!-- ROR &gt;=&#45;&gt;ROR == -->\n<g id=\"edge9\" class=\"edge\">\n<title>ROR &gt;=&#45;&gt;ROR ==</title>\n<path fill=\"none\" stroke=\"#000000\" d=\"M86.5756,-75.9468C108.5087,-64.7469 139.4164,-48.9642 163.4381,-36.6978\"/>\n<polygon fill=\"#000000\" stroke=\"#000000\" points=\"165.2889,-39.6827 172.6032,-32.0178 162.1054,-33.4485 165.2889,-39.6827\"/>\n</g>\n<!-- ROR &lt;=&#45;&gt;ROR == -->\n<g id=\"edge10\" class=\"edge\">\n<title>ROR &lt;=&#45;&gt;ROR ==</title>\n<path fill=\"none\" stroke=\"#000000\" d=\"M172.9536,-72.2022C177.0642,-63.981 182.0342,-54.041 186.5896,-44.9301\"/>\n<polygon fill=\"#000000\" stroke=\"#000000\" points=\"189.7917,-46.3521 191.1334,-35.8425 183.5307,-43.2216 189.7917,-46.3521\"/>\n</g>\n<!-- ROR &gt; -->\n<g id=\"node5\" class=\"node\">\n<title>ROR &gt;</title>\n<ellipse fill=\"none\" stroke=\"#000000\" cx=\"227.0547\" cy=\"-162\" rx=\"38.1938\" ry=\"18\"/>\n<text text-anchor=\"middle\" x=\"227.0547\" y=\"-158.3\" font-family=\"Times,serif\" font-size=\"14.00\" fill=\"#000000\">ROR &gt;</text>\n</g>\n<!-- ROR &gt;&#45;&gt;ROR false -->\n<g id=\"edge1\" class=\"edge\">\n<title>ROR &gt;&#45;&gt;ROR false</title>\n<path fill=\"none\" stroke=\"#000000\" d=\"M246.1409,-146.0209C257.5882,-136.4371 272.3508,-124.0777 285.0962,-113.4071\"/>\n<polygon fill=\"#000000\" stroke=\"#000000\" points=\"287.7045,-115.7881 293.1253,-106.6851 283.2109,-110.4208 287.7045,-115.7881\"/>\n</g>\n<!-- ROR &gt;&#45;&gt;ROR &gt;= -->\n<g id=\"edge4\" class=\"edge\">\n<title>ROR &gt;&#45;&gt;ROR &gt;=</title>\n<path fill=\"none\" stroke=\"#000000\" d=\"M198.5558,-149.7862C171.1864,-138.0564 129.5883,-120.2287 98.935,-107.0916\"/>\n<polygon fill=\"#000000\" stroke=\"#000000\" points=\"99.9694,-103.727 89.3992,-103.0048 97.2119,-110.161 99.9694,-103.727\"/>\n</g>\n<!-- ROR &gt;&#45;&gt;ROR == -->\n<g id=\"edge11\" class=\"edge\">\n<title>ROR &gt;&#45;&gt;ROR ==</title>\n<path fill=\"none\" stroke=\"#000000\" d=\"M226.0802,-143.9069C224.8535,-125.6157 222.2447,-96.6126 217.0547,-72 215.2381,-63.3852 212.6113,-54.1875 209.9638,-45.8696\"/>\n<polygon fill=\"#000000\" stroke=\"#000000\" points=\"213.2464,-44.6488 206.7771,-36.2584 206.6021,-46.8518 213.2464,-44.6488\"/>\n</g>\n<!-- ROR &lt; -->\n<g id=\"node6\" class=\"node\">\n<title>ROR &lt;</title>\n<ellipse fill=\"none\" stroke=\"#000000\" cx=\"322.0547\" cy=\"-162\" rx=\"38.1938\" ry=\"18\"/>\n<text text-anchor=\"middle\" x=\"322.0547\" y=\"-158.3\" font-family=\"Times,serif\" font-size=\"14.00\" fill=\"#000000\">ROR &lt;</text>\n</g>\n<!-- ROR &lt;&#45;&gt;ROR false -->\n<g id=\"edge2\" class=\"edge\">\n<title>ROR &lt;&#45;&gt;ROR false</title>\n<path fill=\"none\" stroke=\"#000000\" d=\"M319.7836,-143.8314C318.8211,-136.131 317.6765,-126.9743 316.6068,-118.4166\"/>\n<polygon fill=\"#000000\" stroke=\"#000000\" points=\"320.0698,-117.9019 315.3564,-108.4133 313.1238,-118.7702 320.0698,-117.9019\"/>\n</g>\n<!-- ROR &lt;&#45;&gt;ROR &lt;= -->\n<g id=\"edge6\" class=\"edge\">\n<title>ROR &lt;&#45;&gt;ROR &lt;=</title>\n<path fill=\"none\" stroke=\"#000000\" d=\"M294.5332,-149.4586C269.1141,-137.8752 231.1009,-120.5527 202.6522,-107.5887\"/>\n<polygon fill=\"#000000\" stroke=\"#000000\" points=\"203.9541,-104.3358 193.403,-103.3739 201.0514,-110.7056 203.9541,-104.3358\"/>\n</g>\n<!-- ROR &lt;&#45;&gt;ROR == -->\n<g id=\"edge12\" class=\"edge\">\n<title>ROR &lt;&#45;&gt;ROR ==</title>\n<path fill=\"none\" stroke=\"#000000\" d=\"M341.3438,-146.2841C361.7803,-127.7055 388.8278,-96.2507 371.0547,-72 356.5973,-52.2733 295.4745,-36.4202 250.4128,-27.1165\"/>\n<polygon fill=\"#000000\" stroke=\"#000000\" points=\"250.9856,-23.6617 240.4915,-25.1191 249.604,-30.524 250.9856,-23.6617\"/>\n</g>\n</g>\n</svg>\n"
          },
          "metadata": {
            "tags": []
          },
          "execution_count": 20
        }
      ]
    },
    {
      "cell_type": "code",
      "metadata": {
        "id": "_wG54U6rQI09",
        "colab": {
          "base_uri": "https://localhost:8080/",
          "height": 544
        },
        "outputId": "ca7326e4-baaa-4408-e0a6-e0036f093c38"
      },
      "source": [
        "msg = \"A.3.3 lexp > rexp\"\n",
        "print(msg)\n",
        "print('============================================')\n",
        "# 2) Specify a program\n",
        "program = x>y\n",
        "# 3) Specify a list of mutants and mutation names\n",
        "mutations = [True,False,x>=y,x<=y,x<y,x==y,x!=y,Not(program)]\n",
        "mutationNames = {\n",
        "    \"True\": \"ROR true\",\n",
        "    \"False\": \"ROR false\",\n",
        "    \"x >= y\": \"ROR >=\",\n",
        "    \"x <= y\": \"ROR <=\",\n",
        "    \"x < y\": \"ROR <\",\n",
        "    \"x == y\": \"ROR ==\",\n",
        "    \"x != y\": \"ROR !=\",\n",
        "    \"Not(x > y)\": \"COI !()\"\n",
        "}\n",
        "# 4) Keep non equivalent mutants\n",
        "mutations = keepNonEquivalentMutants(program, mutations)\n",
        "# 5) Keep non redundant mutants\n",
        "mutations = keepNonRedundantMutants(mutations)\n",
        "# 6) Identify subsumption relations\n",
        "subsumptions = identifySubsumptions(program, mutations, conditions)\n",
        "print('============================================')\n",
        "# 7) Draw the subsumption relation graph\n",
        "createSubsumptionRelationGraph(subsumptions, mutations, mutationNames)"
      ],
      "execution_count": null,
      "outputs": [
        {
          "output_type": "stream",
          "text": [
            "A.3.3 lexp > rexp\n",
            "============================================\n",
            "Not(x > y) is duplicate to x <= y\n",
            "x >= y subsumes True\n",
            "x != y subsumes True\n",
            "True subsumes x <= y\n",
            "False subsumes x <= y\n",
            "x >= y subsumes x <= y\n",
            "x < y subsumes x <= y\n",
            "x == y subsumes x <= y\n",
            "x != y subsumes x <= y\n",
            "False subsumes x < y\n",
            "x != y subsumes x < y\n",
            "False subsumes x == y\n",
            "x >= y subsumes x == y\n",
            "============================================\n"
          ],
          "name": "stdout"
        },
        {
          "output_type": "execute_result",
          "data": {
            "text/plain": [
              "<graphviz.dot.Digraph at 0x7f25b9442860>"
            ],
            "image/svg+xml": "<?xml version=\"1.0\" encoding=\"UTF-8\" standalone=\"no\"?>\n<!DOCTYPE svg PUBLIC \"-//W3C//DTD SVG 1.1//EN\"\n \"http://www.w3.org/Graphics/SVG/1.1/DTD/svg11.dtd\">\n<!-- Generated by graphviz version 2.40.1 (20161225.0304)\n -->\n<!-- Title: G Pages: 1 -->\n<svg width=\"386pt\" height=\"188pt\"\n viewBox=\"0.00 0.00 386.48 188.00\" xmlns=\"http://www.w3.org/2000/svg\" xmlns:xlink=\"http://www.w3.org/1999/xlink\">\n<g id=\"graph0\" class=\"graph\" transform=\"scale(1 1) rotate(0) translate(4 184)\">\n<title>G</title>\n<polygon fill=\"#ffffff\" stroke=\"transparent\" points=\"-4,4 -4,-184 382.4824,-184 382.4824,4 -4,4\"/>\n<!-- ROR true -->\n<g id=\"node1\" class=\"node\">\n<title>ROR true</title>\n<ellipse fill=\"none\" stroke=\"#000000\" cx=\"62.0868\" cy=\"-90\" rx=\"46.5926\" ry=\"18\"/>\n<text text-anchor=\"middle\" x=\"62.0868\" y=\"-86.3\" font-family=\"Times,serif\" font-size=\"14.00\" fill=\"#000000\">ROR true</text>\n</g>\n<!-- ROR &lt;= -->\n<g id=\"node4\" class=\"node\">\n<title>ROR &lt;=</title>\n<ellipse fill=\"none\" stroke=\"#000000\" cx=\"206.0868\" cy=\"-18\" rx=\"43.5923\" ry=\"18\"/>\n<text text-anchor=\"middle\" x=\"206.0868\" y=\"-14.3\" font-family=\"Times,serif\" font-size=\"14.00\" fill=\"#000000\">ROR &lt;=</text>\n</g>\n<!-- ROR true&#45;&gt;ROR &lt;= -->\n<g id=\"edge3\" class=\"edge\">\n<title>ROR true&#45;&gt;ROR &lt;=</title>\n<path fill=\"none\" stroke=\"#000000\" d=\"M90.8813,-75.6028C113.4425,-64.3221 144.9853,-48.5508 169.3625,-36.3621\"/>\n<polygon fill=\"#000000\" stroke=\"#000000\" points=\"170.9418,-39.4857 178.3208,-31.883 167.8113,-33.2247 170.9418,-39.4857\"/>\n</g>\n<!-- ROR false -->\n<g id=\"node2\" class=\"node\">\n<title>ROR false</title>\n<ellipse fill=\"none\" stroke=\"#000000\" cx=\"329.0868\" cy=\"-162\" rx=\"49.2915\" ry=\"18\"/>\n<text text-anchor=\"middle\" x=\"329.0868\" y=\"-158.3\" font-family=\"Times,serif\" font-size=\"14.00\" fill=\"#000000\">ROR false</text>\n</g>\n<!-- ROR false&#45;&gt;ROR &lt;= -->\n<g id=\"edge4\" class=\"edge\">\n<title>ROR false&#45;&gt;ROR &lt;=</title>\n<path fill=\"none\" stroke=\"#000000\" d=\"M342.2153,-144.6466C355.0535,-125.3849 370.5875,-94.1049 355.0868,-72 343.1595,-54.9909 293.4598,-39.2591 254.699,-29.2159\"/>\n<polygon fill=\"#000000\" stroke=\"#000000\" points=\"255.1576,-25.7218 244.6047,-26.6629 253.4412,-32.5081 255.1576,-25.7218\"/>\n</g>\n<!-- ROR &lt; -->\n<g id=\"node5\" class=\"node\">\n<title>ROR &lt;</title>\n<ellipse fill=\"none\" stroke=\"#000000\" cx=\"308.0868\" cy=\"-90\" rx=\"38.1938\" ry=\"18\"/>\n<text text-anchor=\"middle\" x=\"308.0868\" y=\"-86.3\" font-family=\"Times,serif\" font-size=\"14.00\" fill=\"#000000\">ROR &lt;</text>\n</g>\n<!-- ROR false&#45;&gt;ROR &lt; -->\n<g id=\"edge9\" class=\"edge\">\n<title>ROR false&#45;&gt;ROR &lt;</title>\n<path fill=\"none\" stroke=\"#000000\" d=\"M323.7876,-143.8314C321.4821,-135.9266 318.7289,-126.4872 316.1766,-117.7365\"/>\n<polygon fill=\"#000000\" stroke=\"#000000\" points=\"319.4716,-116.5334 313.3116,-107.9134 312.7516,-118.4934 319.4716,-116.5334\"/>\n</g>\n<!-- ROR == -->\n<g id=\"node6\" class=\"node\">\n<title>ROR ==</title>\n<ellipse fill=\"none\" stroke=\"#000000\" cx=\"170.0868\" cy=\"-90\" rx=\"43.5923\" ry=\"18\"/>\n<text text-anchor=\"middle\" x=\"170.0868\" y=\"-86.3\" font-family=\"Times,serif\" font-size=\"14.00\" fill=\"#000000\">ROR ==</text>\n</g>\n<!-- ROR false&#45;&gt;ROR == -->\n<g id=\"edge11\" class=\"edge\">\n<title>ROR false&#45;&gt;ROR ==</title>\n<path fill=\"none\" stroke=\"#000000\" d=\"M298.0526,-147.9468C272.587,-136.4152 236.3928,-120.0253 208.9919,-107.6174\"/>\n<polygon fill=\"#000000\" stroke=\"#000000\" points=\"210.252,-104.3459 199.6986,-103.4091 207.3644,-110.7226 210.252,-104.3459\"/>\n</g>\n<!-- ROR &gt;= -->\n<g id=\"node3\" class=\"node\">\n<title>ROR &gt;=</title>\n<ellipse fill=\"none\" stroke=\"#000000\" cx=\"62.0868\" cy=\"-162\" rx=\"43.5923\" ry=\"18\"/>\n<text text-anchor=\"middle\" x=\"62.0868\" y=\"-158.3\" font-family=\"Times,serif\" font-size=\"14.00\" fill=\"#000000\">ROR &gt;=</text>\n</g>\n<!-- ROR &gt;=&#45;&gt;ROR true -->\n<g id=\"edge1\" class=\"edge\">\n<title>ROR &gt;=&#45;&gt;ROR true</title>\n<path fill=\"none\" stroke=\"#000000\" d=\"M62.0868,-143.8314C62.0868,-136.131 62.0868,-126.9743 62.0868,-118.4166\"/>\n<polygon fill=\"#000000\" stroke=\"#000000\" points=\"65.5869,-118.4132 62.0868,-108.4133 58.5869,-118.4133 65.5869,-118.4132\"/>\n</g>\n<!-- ROR &gt;=&#45;&gt;ROR &lt;= -->\n<g id=\"edge5\" class=\"edge\">\n<title>ROR &gt;=&#45;&gt;ROR &lt;=</title>\n<path fill=\"none\" stroke=\"#000000\" d=\"M40.121,-146.1084C17.2808,-127.635 -12.7106,-96.5458 6.0868,-72 24.0621,-48.5277 101.435,-32.9324 154.5013,-24.7774\"/>\n<polygon fill=\"#000000\" stroke=\"#000000\" points=\"155.0631,-28.2324 164.4362,-23.2933 154.0288,-21.3092 155.0631,-28.2324\"/>\n</g>\n<!-- ROR &gt;=&#45;&gt;ROR == -->\n<g id=\"edge12\" class=\"edge\">\n<title>ROR &gt;=&#45;&gt;ROR ==</title>\n<path fill=\"none\" stroke=\"#000000\" d=\"M85.2555,-146.5542C100.7729,-136.2093 121.3983,-122.459 138.4261,-111.1072\"/>\n<polygon fill=\"#000000\" stroke=\"#000000\" points=\"140.5774,-113.8795 146.9564,-105.4203 136.6944,-108.0551 140.5774,-113.8795\"/>\n</g>\n<!-- ROR &lt;&#45;&gt;ROR &lt;= -->\n<g id=\"edge6\" class=\"edge\">\n<title>ROR &lt;&#45;&gt;ROR &lt;=</title>\n<path fill=\"none\" stroke=\"#000000\" d=\"M286.4552,-74.7307C272.0475,-64.5605 252.8961,-51.0419 236.9026,-39.7523\"/>\n<polygon fill=\"#000000\" stroke=\"#000000\" points=\"238.5804,-36.6526 228.3923,-33.7451 234.5436,-42.3713 238.5804,-36.6526\"/>\n</g>\n<!-- ROR ==&#45;&gt;ROR &lt;= -->\n<g id=\"edge7\" class=\"edge\">\n<title>ROR ==&#45;&gt;ROR &lt;=</title>\n<path fill=\"none\" stroke=\"#000000\" d=\"M178.9857,-72.2022C183.0963,-63.981 188.0663,-54.041 192.6217,-44.9301\"/>\n<polygon fill=\"#000000\" stroke=\"#000000\" points=\"195.8238,-46.3521 197.1655,-35.8425 189.5629,-43.2216 195.8238,-46.3521\"/>\n</g>\n<!-- ROR != -->\n<g id=\"node7\" class=\"node\">\n<title>ROR !=</title>\n<ellipse fill=\"none\" stroke=\"#000000\" cx=\"221.0868\" cy=\"-162\" rx=\"40.8928\" ry=\"18\"/>\n<text text-anchor=\"middle\" x=\"221.0868\" y=\"-158.3\" font-family=\"Times,serif\" font-size=\"14.00\" fill=\"#000000\">ROR !=</text>\n</g>\n<!-- ROR !=&#45;&gt;ROR true -->\n<g id=\"edge2\" class=\"edge\">\n<title>ROR !=&#45;&gt;ROR true</title>\n<path fill=\"none\" stroke=\"#000000\" d=\"M192.2931,-148.9613C166.9664,-137.4927 129.8562,-120.688 101.7272,-107.9504\"/>\n<polygon fill=\"#000000\" stroke=\"#000000\" points=\"103.1154,-104.7369 92.5621,-103.8001 100.2278,-111.1136 103.1154,-104.7369\"/>\n</g>\n<!-- ROR !=&#45;&gt;ROR &lt;= -->\n<g id=\"edge8\" class=\"edge\">\n<title>ROR !=&#45;&gt;ROR &lt;=</title>\n<path fill=\"none\" stroke=\"#000000\" d=\"M223.3222,-143.9505C225.1545,-125.6932 226.8854,-96.716 223.0868,-72 221.7494,-63.2979 219.2665,-54.074 216.6034,-45.759\"/>\n<polygon fill=\"#000000\" stroke=\"#000000\" points=\"219.8715,-44.4982 213.3307,-36.1634 213.2462,-46.7579 219.8715,-44.4982\"/>\n</g>\n<!-- ROR !=&#45;&gt;ROR &lt; -->\n<g id=\"edge10\" class=\"edge\">\n<title>ROR !=&#45;&gt;ROR &lt;</title>\n<path fill=\"none\" stroke=\"#000000\" d=\"M240.3949,-146.0209C252.4172,-136.0714 268.0544,-123.1303 281.2702,-112.1931\"/>\n<polygon fill=\"#000000\" stroke=\"#000000\" points=\"283.6595,-114.7588 289.132,-105.6867 279.1965,-109.3661 283.6595,-114.7588\"/>\n</g>\n</g>\n</svg>\n"
          },
          "metadata": {
            "tags": []
          },
          "execution_count": 21
        }
      ]
    },
    {
      "cell_type": "code",
      "metadata": {
        "id": "q44FzvfqS8JC",
        "colab": {
          "base_uri": "https://localhost:8080/",
          "height": 544
        },
        "outputId": "a279d1cf-75dd-47ae-d6ac-583ff23bd507"
      },
      "source": [
        "msg = \"A.3.4 lexp >= rexp\"\n",
        "print(msg)\n",
        "print('============================================')\n",
        "# 2) Specify a program\n",
        "program = x>=y\n",
        "# 3) Specify a list of mutants and mutation names\n",
        "mutations = [True,False,x<=y,x<y,x>y,x==y,x!=y,Not(program)]\n",
        "mutationNames = {\n",
        "    \"True\": \"ROR true\",\n",
        "    \"False\": \"ROR false\",\n",
        "    \"x > y\": \"ROR >\",\n",
        "    \"x <= y\": \"ROR <=\",\n",
        "    \"x < y\": \"ROR <\",\n",
        "    \"x == y\": \"ROR ==\",\n",
        "    \"x != y\": \"ROR !=\",\n",
        "    \"Not(x >= y)\": \"COI !()\"\n",
        "}\n",
        "# 4) Keep non equivalent mutants\n",
        "mutations = keepNonEquivalentMutants(program, mutations)\n",
        "# 5) Keep non redundant mutants\n",
        "mutations = keepNonRedundantMutants(mutations)\n",
        "# 6) Identify subsumption relations\n",
        "subsumptions = identifySubsumptions(program, mutations, conditions)\n",
        "print('============================================')\n",
        "# 7) Draw the subsumption relation graph\n",
        "createSubsumptionRelationGraph(subsumptions, mutations, mutationNames)"
      ],
      "execution_count": null,
      "outputs": [
        {
          "output_type": "stream",
          "text": [
            "A.3.4 lexp >= rexp\n",
            "============================================\n",
            "Not(x >= y) is duplicate to x < y\n",
            "x > y subsumes False\n",
            "x == y subsumes False\n",
            "True subsumes x <= y\n",
            "x == y subsumes x <= y\n",
            "True subsumes x < y\n",
            "False subsumes x < y\n",
            "x <= y subsumes x < y\n",
            "x > y subsumes x < y\n",
            "x == y subsumes x < y\n",
            "x != y subsumes x < y\n",
            "True subsumes x != y\n",
            "x > y subsumes x != y\n",
            "============================================\n"
          ],
          "name": "stdout"
        },
        {
          "output_type": "execute_result",
          "data": {
            "text/plain": [
              "<graphviz.dot.Digraph at 0x7f25b9424d30>"
            ],
            "image/svg+xml": "<?xml version=\"1.0\" encoding=\"UTF-8\" standalone=\"no\"?>\n<!DOCTYPE svg PUBLIC \"-//W3C//DTD SVG 1.1//EN\"\n \"http://www.w3.org/Graphics/SVG/1.1/DTD/svg11.dtd\">\n<!-- Generated by graphviz version 2.40.1 (20161225.0304)\n -->\n<!-- Title: G Pages: 1 -->\n<svg width=\"386pt\" height=\"188pt\"\n viewBox=\"0.00 0.00 385.89 188.00\" xmlns=\"http://www.w3.org/2000/svg\" xmlns:xlink=\"http://www.w3.org/1999/xlink\">\n<g id=\"graph0\" class=\"graph\" transform=\"scale(1 1) rotate(0) translate(4 184)\">\n<title>G</title>\n<polygon fill=\"#ffffff\" stroke=\"transparent\" points=\"-4,4 -4,-184 381.8886,-184 381.8886,4 -4,4\"/>\n<!-- ROR true -->\n<g id=\"node1\" class=\"node\">\n<title>ROR true</title>\n<ellipse fill=\"none\" stroke=\"#000000\" cx=\"46.7958\" cy=\"-162\" rx=\"46.5926\" ry=\"18\"/>\n<text text-anchor=\"middle\" x=\"46.7958\" y=\"-158.3\" font-family=\"Times,serif\" font-size=\"14.00\" fill=\"#000000\">ROR true</text>\n</g>\n<!-- ROR &lt;= -->\n<g id=\"node3\" class=\"node\">\n<title>ROR &lt;=</title>\n<ellipse fill=\"none\" stroke=\"#000000\" cx=\"64.7958\" cy=\"-90\" rx=\"43.5923\" ry=\"18\"/>\n<text text-anchor=\"middle\" x=\"64.7958\" y=\"-86.3\" font-family=\"Times,serif\" font-size=\"14.00\" fill=\"#000000\">ROR &lt;=</text>\n</g>\n<!-- ROR true&#45;&gt;ROR &lt;= -->\n<g id=\"edge3\" class=\"edge\">\n<title>ROR true&#45;&gt;ROR &lt;=</title>\n<path fill=\"none\" stroke=\"#000000\" d=\"M51.338,-143.8314C53.3142,-135.9266 55.674,-126.4872 57.8617,-117.7365\"/>\n<polygon fill=\"#000000\" stroke=\"#000000\" points=\"61.2876,-118.4637 60.3175,-107.9134 54.4966,-116.7659 61.2876,-118.4637\"/>\n</g>\n<!-- ROR &lt; -->\n<g id=\"node4\" class=\"node\">\n<title>ROR &lt;</title>\n<ellipse fill=\"none\" stroke=\"#000000\" cx=\"170.7958\" cy=\"-18\" rx=\"38.1938\" ry=\"18\"/>\n<text text-anchor=\"middle\" x=\"170.7958\" y=\"-14.3\" font-family=\"Times,serif\" font-size=\"14.00\" fill=\"#000000\">ROR &lt;</text>\n</g>\n<!-- ROR true&#45;&gt;ROR &lt; -->\n<g id=\"edge5\" class=\"edge\">\n<title>ROR true&#45;&gt;ROR &lt;</title>\n<path fill=\"none\" stroke=\"#000000\" d=\"M30.8499,-144.8385C15.1157,-125.7489 -4.4127,-94.6226 11.7958,-72 25.3141,-53.1323 83.5318,-36.844 125.6118,-27.2261\"/>\n<polygon fill=\"#000000\" stroke=\"#000000\" points=\"126.3925,-30.6381 135.3898,-25.0437 124.8675,-23.8062 126.3925,-30.6381\"/>\n</g>\n<!-- ROR != -->\n<g id=\"node7\" class=\"node\">\n<title>ROR !=</title>\n<ellipse fill=\"none\" stroke=\"#000000\" cx=\"205.7958\" cy=\"-90\" rx=\"40.8928\" ry=\"18\"/>\n<text text-anchor=\"middle\" x=\"205.7958\" y=\"-86.3\" font-family=\"Times,serif\" font-size=\"14.00\" fill=\"#000000\">ROR !=</text>\n</g>\n<!-- ROR true&#45;&gt;ROR != -->\n<g id=\"edge11\" class=\"edge\">\n<title>ROR true&#45;&gt;ROR !=</title>\n<path fill=\"none\" stroke=\"#000000\" d=\"M77.4526,-148.1177C103.2035,-136.4569 140.1169,-119.7414 167.7515,-107.2276\"/>\n<polygon fill=\"#000000\" stroke=\"#000000\" points=\"169.44,-110.3052 177.1057,-102.9918 166.5524,-103.9285 169.44,-110.3052\"/>\n</g>\n<!-- ROR false -->\n<g id=\"node2\" class=\"node\">\n<title>ROR false</title>\n<ellipse fill=\"none\" stroke=\"#000000\" cx=\"313.7958\" cy=\"-90\" rx=\"49.2915\" ry=\"18\"/>\n<text text-anchor=\"middle\" x=\"313.7958\" y=\"-86.3\" font-family=\"Times,serif\" font-size=\"14.00\" fill=\"#000000\">ROR false</text>\n</g>\n<!-- ROR false&#45;&gt;ROR &lt; -->\n<g id=\"edge6\" class=\"edge\">\n<title>ROR false&#45;&gt;ROR &lt;</title>\n<path fill=\"none\" stroke=\"#000000\" d=\"M284.5126,-75.256C261.8618,-63.8514 230.4043,-48.0127 206.3159,-35.8842\"/>\n<polygon fill=\"#000000\" stroke=\"#000000\" points=\"207.6563,-32.6405 197.1505,-31.2695 204.5083,-38.8927 207.6563,-32.6405\"/>\n</g>\n<!-- ROR &lt;=&#45;&gt;ROR &lt; -->\n<g id=\"edge7\" class=\"edge\">\n<title>ROR &lt;=&#45;&gt;ROR &lt;</title>\n<path fill=\"none\" stroke=\"#000000\" d=\"M87.5355,-74.5542C102.9727,-64.0685 123.5608,-50.0842 140.4016,-38.6452\"/>\n<polygon fill=\"#000000\" stroke=\"#000000\" points=\"142.5139,-41.4415 148.8195,-32.9273 138.5807,-35.6509 142.5139,-41.4415\"/>\n</g>\n<!-- ROR &gt; -->\n<g id=\"node5\" class=\"node\">\n<title>ROR &gt;</title>\n<ellipse fill=\"none\" stroke=\"#000000\" cx=\"313.7958\" cy=\"-162\" rx=\"38.1938\" ry=\"18\"/>\n<text text-anchor=\"middle\" x=\"313.7958\" y=\"-158.3\" font-family=\"Times,serif\" font-size=\"14.00\" fill=\"#000000\">ROR &gt;</text>\n</g>\n<!-- ROR &gt;&#45;&gt;ROR false -->\n<g id=\"edge1\" class=\"edge\">\n<title>ROR &gt;&#45;&gt;ROR false</title>\n<path fill=\"none\" stroke=\"#000000\" d=\"M313.7958,-143.8314C313.7958,-136.131 313.7958,-126.9743 313.7958,-118.4166\"/>\n<polygon fill=\"#000000\" stroke=\"#000000\" points=\"317.2959,-118.4132 313.7958,-108.4133 310.2959,-118.4133 317.2959,-118.4132\"/>\n</g>\n<!-- ROR &gt;&#45;&gt;ROR &lt; -->\n<g id=\"edge8\" class=\"edge\">\n<title>ROR &gt;&#45;&gt;ROR &lt;</title>\n<path fill=\"none\" stroke=\"#000000\" d=\"M335.5448,-146.8436C359.1385,-128.5365 391.0248,-97.0767 371.7958,-72 353.2056,-47.7562 271.4727,-31.9792 218.1267,-24.0618\"/>\n<polygon fill=\"#000000\" stroke=\"#000000\" points=\"218.5879,-20.5921 208.1907,-22.6287 217.5886,-27.5204 218.5879,-20.5921\"/>\n</g>\n<!-- ROR &gt;&#45;&gt;ROR != -->\n<g id=\"edge12\" class=\"edge\">\n<title>ROR &gt;&#45;&gt;ROR !=</title>\n<path fill=\"none\" stroke=\"#000000\" d=\"M291.6798,-147.256C276.0193,-136.8156 254.7848,-122.6593 237.3487,-111.0352\"/>\n<polygon fill=\"#000000\" stroke=\"#000000\" points=\"238.8886,-107.8554 228.6266,-105.2205 235.0057,-113.6798 238.8886,-107.8554\"/>\n</g>\n<!-- ROR == -->\n<g id=\"node6\" class=\"node\">\n<title>ROR ==</title>\n<ellipse fill=\"none\" stroke=\"#000000\" cx=\"154.7958\" cy=\"-162\" rx=\"43.5923\" ry=\"18\"/>\n<text text-anchor=\"middle\" x=\"154.7958\" y=\"-158.3\" font-family=\"Times,serif\" font-size=\"14.00\" fill=\"#000000\">ROR ==</text>\n</g>\n<!-- ROR ==&#45;&gt;ROR false -->\n<g id=\"edge2\" class=\"edge\">\n<title>ROR ==&#45;&gt;ROR false</title>\n<path fill=\"none\" stroke=\"#000000\" d=\"M184.3299,-148.6261C209.3947,-137.276 245.603,-120.8798 273.3584,-108.3113\"/>\n<polygon fill=\"#000000\" stroke=\"#000000\" points=\"275.1254,-111.3533 282.7911,-104.0399 272.2378,-104.9767 275.1254,-111.3533\"/>\n</g>\n<!-- ROR ==&#45;&gt;ROR &lt;= -->\n<g id=\"edge4\" class=\"edge\">\n<title>ROR ==&#45;&gt;ROR &lt;=</title>\n<path fill=\"none\" stroke=\"#000000\" d=\"M134.3735,-145.6621C122.0901,-135.8354 106.2823,-123.1892 92.8393,-112.4348\"/>\n<polygon fill=\"#000000\" stroke=\"#000000\" points=\"94.8226,-109.5392 84.8274,-106.0252 90.4497,-115.0053 94.8226,-109.5392\"/>\n</g>\n<!-- ROR ==&#45;&gt;ROR &lt; -->\n<g id=\"edge9\" class=\"edge\">\n<title>ROR ==&#45;&gt;ROR &lt;</title>\n<path fill=\"none\" stroke=\"#000000\" d=\"M153.6297,-143.9662C152.7695,-125.7212 152.2816,-96.7533 155.7958,-72 157.021,-63.3706 159.2253,-54.1685 161.5736,-45.8512\"/>\n<polygon fill=\"#000000\" stroke=\"#000000\" points=\"164.9351,-46.8264 164.4532,-36.2425 158.2297,-44.8168 164.9351,-46.8264\"/>\n</g>\n<!-- ROR !=&#45;&gt;ROR &lt; -->\n<g id=\"edge10\" class=\"edge\">\n<title>ROR !=&#45;&gt;ROR &lt;</title>\n<path fill=\"none\" stroke=\"#000000\" d=\"M197.1442,-72.2022C193.1177,-63.9192 188.2431,-53.8915 183.7871,-44.7248\"/>\n<polygon fill=\"#000000\" stroke=\"#000000\" points=\"186.8678,-43.0565 179.348,-35.593 180.5722,-46.1169 186.8678,-43.0565\"/>\n</g>\n</g>\n</svg>\n"
          },
          "metadata": {
            "tags": []
          },
          "execution_count": 22
        }
      ]
    },
    {
      "cell_type": "code",
      "metadata": {
        "id": "h9_wpljNTuyj",
        "colab": {
          "base_uri": "https://localhost:8080/",
          "height": 544
        },
        "outputId": "fa0054e2-ee5f-4a57-c2fc-6de1e89448b3"
      },
      "source": [
        "msg = \"A.3.5 lexp < rexp\"\n",
        "print(msg)\n",
        "print('============================================')\n",
        "# 2) Specify a program\n",
        "program = x<y\n",
        "# 3) Specify a list of mutants and mutation names\n",
        "mutations = [True,False,x<=y,x>=y,x>y,x==y,x!=y,Not(program)]\n",
        "mutationNames = {\n",
        "    \"True\": \"ROR true\",\n",
        "    \"False\": \"ROR false\",\n",
        "    \"x > y\": \"ROR >\",\n",
        "    \"x <= y\": \"ROR <=\",\n",
        "    \"x >= y\": \"ROR >=\",\n",
        "    \"x == y\": \"ROR ==\",\n",
        "    \"x != y\": \"ROR !=\",\n",
        "    \"Not(x < y)\": \"COI !()\"\n",
        "}\n",
        "# 4) Keep non equivalent mutants\n",
        "mutations = keepNonEquivalentMutants(program, mutations)\n",
        "# 5) Keep non redundant mutants\n",
        "mutations = keepNonRedundantMutants(mutations)\n",
        "# 6) Identify subsumption relations\n",
        "subsumptions = identifySubsumptions(program, mutations, conditions)\n",
        "print('============================================')\n",
        "# 7) Draw the subsumption relation graph\n",
        "createSubsumptionRelationGraph(subsumptions, mutations, mutationNames)"
      ],
      "execution_count": null,
      "outputs": [
        {
          "output_type": "stream",
          "text": [
            "A.3.5 lexp < rexp\n",
            "============================================\n",
            "Not(x < y) is duplicate to x >= y\n",
            "x <= y subsumes True\n",
            "x != y subsumes True\n",
            "True subsumes x >= y\n",
            "False subsumes x >= y\n",
            "x <= y subsumes x >= y\n",
            "x > y subsumes x >= y\n",
            "x == y subsumes x >= y\n",
            "x != y subsumes x >= y\n",
            "False subsumes x > y\n",
            "x != y subsumes x > y\n",
            "False subsumes x == y\n",
            "x <= y subsumes x == y\n",
            "============================================\n"
          ],
          "name": "stdout"
        },
        {
          "output_type": "execute_result",
          "data": {
            "text/plain": [
              "<graphviz.dot.Digraph at 0x7f25b9442400>"
            ],
            "image/svg+xml": "<?xml version=\"1.0\" encoding=\"UTF-8\" standalone=\"no\"?>\n<!DOCTYPE svg PUBLIC \"-//W3C//DTD SVG 1.1//EN\"\n \"http://www.w3.org/Graphics/SVG/1.1/DTD/svg11.dtd\">\n<!-- Generated by graphviz version 2.40.1 (20161225.0304)\n -->\n<!-- Title: G Pages: 1 -->\n<svg width=\"386pt\" height=\"188pt\"\n viewBox=\"0.00 0.00 386.48 188.00\" xmlns=\"http://www.w3.org/2000/svg\" xmlns:xlink=\"http://www.w3.org/1999/xlink\">\n<g id=\"graph0\" class=\"graph\" transform=\"scale(1 1) rotate(0) translate(4 184)\">\n<title>G</title>\n<polygon fill=\"#ffffff\" stroke=\"transparent\" points=\"-4,4 -4,-184 382.4824,-184 382.4824,4 -4,4\"/>\n<!-- ROR true -->\n<g id=\"node1\" class=\"node\">\n<title>ROR true</title>\n<ellipse fill=\"none\" stroke=\"#000000\" cx=\"62.0868\" cy=\"-90\" rx=\"46.5926\" ry=\"18\"/>\n<text text-anchor=\"middle\" x=\"62.0868\" y=\"-86.3\" font-family=\"Times,serif\" font-size=\"14.00\" fill=\"#000000\">ROR true</text>\n</g>\n<!-- ROR &gt;= -->\n<g id=\"node4\" class=\"node\">\n<title>ROR &gt;=</title>\n<ellipse fill=\"none\" stroke=\"#000000\" cx=\"206.0868\" cy=\"-18\" rx=\"43.5923\" ry=\"18\"/>\n<text text-anchor=\"middle\" x=\"206.0868\" y=\"-14.3\" font-family=\"Times,serif\" font-size=\"14.00\" fill=\"#000000\">ROR &gt;=</text>\n</g>\n<!-- ROR true&#45;&gt;ROR &gt;= -->\n<g id=\"edge3\" class=\"edge\">\n<title>ROR true&#45;&gt;ROR &gt;=</title>\n<path fill=\"none\" stroke=\"#000000\" d=\"M90.8813,-75.6028C113.4425,-64.3221 144.9853,-48.5508 169.3625,-36.3621\"/>\n<polygon fill=\"#000000\" stroke=\"#000000\" points=\"170.9418,-39.4857 178.3208,-31.883 167.8113,-33.2247 170.9418,-39.4857\"/>\n</g>\n<!-- ROR false -->\n<g id=\"node2\" class=\"node\">\n<title>ROR false</title>\n<ellipse fill=\"none\" stroke=\"#000000\" cx=\"329.0868\" cy=\"-162\" rx=\"49.2915\" ry=\"18\"/>\n<text text-anchor=\"middle\" x=\"329.0868\" y=\"-158.3\" font-family=\"Times,serif\" font-size=\"14.00\" fill=\"#000000\">ROR false</text>\n</g>\n<!-- ROR false&#45;&gt;ROR &gt;= -->\n<g id=\"edge4\" class=\"edge\">\n<title>ROR false&#45;&gt;ROR &gt;=</title>\n<path fill=\"none\" stroke=\"#000000\" d=\"M342.2153,-144.6466C355.0535,-125.3849 370.5875,-94.1049 355.0868,-72 343.1595,-54.9909 293.4598,-39.2591 254.699,-29.2159\"/>\n<polygon fill=\"#000000\" stroke=\"#000000\" points=\"255.1576,-25.7218 244.6047,-26.6629 253.4412,-32.5081 255.1576,-25.7218\"/>\n</g>\n<!-- ROR &gt; -->\n<g id=\"node5\" class=\"node\">\n<title>ROR &gt;</title>\n<ellipse fill=\"none\" stroke=\"#000000\" cx=\"308.0868\" cy=\"-90\" rx=\"38.1938\" ry=\"18\"/>\n<text text-anchor=\"middle\" x=\"308.0868\" y=\"-86.3\" font-family=\"Times,serif\" font-size=\"14.00\" fill=\"#000000\">ROR &gt;</text>\n</g>\n<!-- ROR false&#45;&gt;ROR &gt; -->\n<g id=\"edge9\" class=\"edge\">\n<title>ROR false&#45;&gt;ROR &gt;</title>\n<path fill=\"none\" stroke=\"#000000\" d=\"M323.7876,-143.8314C321.4821,-135.9266 318.7289,-126.4872 316.1766,-117.7365\"/>\n<polygon fill=\"#000000\" stroke=\"#000000\" points=\"319.4716,-116.5334 313.3116,-107.9134 312.7516,-118.4934 319.4716,-116.5334\"/>\n</g>\n<!-- ROR == -->\n<g id=\"node6\" class=\"node\">\n<title>ROR ==</title>\n<ellipse fill=\"none\" stroke=\"#000000\" cx=\"170.0868\" cy=\"-90\" rx=\"43.5923\" ry=\"18\"/>\n<text text-anchor=\"middle\" x=\"170.0868\" y=\"-86.3\" font-family=\"Times,serif\" font-size=\"14.00\" fill=\"#000000\">ROR ==</text>\n</g>\n<!-- ROR false&#45;&gt;ROR == -->\n<g id=\"edge11\" class=\"edge\">\n<title>ROR false&#45;&gt;ROR ==</title>\n<path fill=\"none\" stroke=\"#000000\" d=\"M298.0526,-147.9468C272.587,-136.4152 236.3928,-120.0253 208.9919,-107.6174\"/>\n<polygon fill=\"#000000\" stroke=\"#000000\" points=\"210.252,-104.3459 199.6986,-103.4091 207.3644,-110.7226 210.252,-104.3459\"/>\n</g>\n<!-- ROR &lt;= -->\n<g id=\"node3\" class=\"node\">\n<title>ROR &lt;=</title>\n<ellipse fill=\"none\" stroke=\"#000000\" cx=\"62.0868\" cy=\"-162\" rx=\"43.5923\" ry=\"18\"/>\n<text text-anchor=\"middle\" x=\"62.0868\" y=\"-158.3\" font-family=\"Times,serif\" font-size=\"14.00\" fill=\"#000000\">ROR &lt;=</text>\n</g>\n<!-- ROR &lt;=&#45;&gt;ROR true -->\n<g id=\"edge1\" class=\"edge\">\n<title>ROR &lt;=&#45;&gt;ROR true</title>\n<path fill=\"none\" stroke=\"#000000\" d=\"M62.0868,-143.8314C62.0868,-136.131 62.0868,-126.9743 62.0868,-118.4166\"/>\n<polygon fill=\"#000000\" stroke=\"#000000\" points=\"65.5869,-118.4132 62.0868,-108.4133 58.5869,-118.4133 65.5869,-118.4132\"/>\n</g>\n<!-- ROR &lt;=&#45;&gt;ROR &gt;= -->\n<g id=\"edge5\" class=\"edge\">\n<title>ROR &lt;=&#45;&gt;ROR &gt;=</title>\n<path fill=\"none\" stroke=\"#000000\" d=\"M40.121,-146.1084C17.2808,-127.635 -12.7106,-96.5458 6.0868,-72 24.0621,-48.5277 101.435,-32.9324 154.5013,-24.7774\"/>\n<polygon fill=\"#000000\" stroke=\"#000000\" points=\"155.0631,-28.2324 164.4362,-23.2933 154.0288,-21.3092 155.0631,-28.2324\"/>\n</g>\n<!-- ROR &lt;=&#45;&gt;ROR == -->\n<g id=\"edge12\" class=\"edge\">\n<title>ROR &lt;=&#45;&gt;ROR ==</title>\n<path fill=\"none\" stroke=\"#000000\" d=\"M85.2555,-146.5542C100.7729,-136.2093 121.3983,-122.459 138.4261,-111.1072\"/>\n<polygon fill=\"#000000\" stroke=\"#000000\" points=\"140.5774,-113.8795 146.9564,-105.4203 136.6944,-108.0551 140.5774,-113.8795\"/>\n</g>\n<!-- ROR &gt;&#45;&gt;ROR &gt;= -->\n<g id=\"edge6\" class=\"edge\">\n<title>ROR &gt;&#45;&gt;ROR &gt;=</title>\n<path fill=\"none\" stroke=\"#000000\" d=\"M286.4552,-74.7307C272.0475,-64.5605 252.8961,-51.0419 236.9026,-39.7523\"/>\n<polygon fill=\"#000000\" stroke=\"#000000\" points=\"238.5804,-36.6526 228.3923,-33.7451 234.5436,-42.3713 238.5804,-36.6526\"/>\n</g>\n<!-- ROR ==&#45;&gt;ROR &gt;= -->\n<g id=\"edge7\" class=\"edge\">\n<title>ROR ==&#45;&gt;ROR &gt;=</title>\n<path fill=\"none\" stroke=\"#000000\" d=\"M178.9857,-72.2022C183.0963,-63.981 188.0663,-54.041 192.6217,-44.9301\"/>\n<polygon fill=\"#000000\" stroke=\"#000000\" points=\"195.8238,-46.3521 197.1655,-35.8425 189.5629,-43.2216 195.8238,-46.3521\"/>\n</g>\n<!-- ROR != -->\n<g id=\"node7\" class=\"node\">\n<title>ROR !=</title>\n<ellipse fill=\"none\" stroke=\"#000000\" cx=\"221.0868\" cy=\"-162\" rx=\"40.8928\" ry=\"18\"/>\n<text text-anchor=\"middle\" x=\"221.0868\" y=\"-158.3\" font-family=\"Times,serif\" font-size=\"14.00\" fill=\"#000000\">ROR !=</text>\n</g>\n<!-- ROR !=&#45;&gt;ROR true -->\n<g id=\"edge2\" class=\"edge\">\n<title>ROR !=&#45;&gt;ROR true</title>\n<path fill=\"none\" stroke=\"#000000\" d=\"M192.2931,-148.9613C166.9664,-137.4927 129.8562,-120.688 101.7272,-107.9504\"/>\n<polygon fill=\"#000000\" stroke=\"#000000\" points=\"103.1154,-104.7369 92.5621,-103.8001 100.2278,-111.1136 103.1154,-104.7369\"/>\n</g>\n<!-- ROR !=&#45;&gt;ROR &gt;= -->\n<g id=\"edge8\" class=\"edge\">\n<title>ROR !=&#45;&gt;ROR &gt;=</title>\n<path fill=\"none\" stroke=\"#000000\" d=\"M223.3222,-143.9505C225.1545,-125.6932 226.8854,-96.716 223.0868,-72 221.7494,-63.2979 219.2665,-54.074 216.6034,-45.759\"/>\n<polygon fill=\"#000000\" stroke=\"#000000\" points=\"219.8715,-44.4982 213.3307,-36.1634 213.2462,-46.7579 219.8715,-44.4982\"/>\n</g>\n<!-- ROR !=&#45;&gt;ROR &gt; -->\n<g id=\"edge10\" class=\"edge\">\n<title>ROR !=&#45;&gt;ROR &gt;</title>\n<path fill=\"none\" stroke=\"#000000\" d=\"M240.3949,-146.0209C252.4172,-136.0714 268.0544,-123.1303 281.2702,-112.1931\"/>\n<polygon fill=\"#000000\" stroke=\"#000000\" points=\"283.6595,-114.7588 289.132,-105.6867 279.1965,-109.3661 283.6595,-114.7588\"/>\n</g>\n</g>\n</svg>\n"
          },
          "metadata": {
            "tags": []
          },
          "execution_count": 23
        }
      ]
    },
    {
      "cell_type": "code",
      "metadata": {
        "id": "Rhxhkbm_VU_m",
        "colab": {
          "base_uri": "https://localhost:8080/",
          "height": 544
        },
        "outputId": "cd7a8028-c44d-46dc-da5f-35b95ea76203"
      },
      "source": [
        "msg = \"A.3.6 lexp <= rexp\"\n",
        "print(msg)\n",
        "print('============================================')\n",
        "# 2) Specify a program\n",
        "program = x<=y\n",
        "# 3) Specify a list of mutants and mutation names\n",
        "mutations = [True,False,x>=y,x<y,x>y,x==y,x!=y,Not(program)]\n",
        "mutationNames = {\n",
        "    \"True\": \"ROR true\",\n",
        "    \"False\": \"ROR false\",\n",
        "    \"x < y\": \"ROR <\",\n",
        "    \"x > y\": \"ROR >\",\n",
        "    \"x >= y\": \"ROR >=\",\n",
        "    \"x == y\": \"ROR ==\",\n",
        "    \"x != y\": \"ROR !=\",\n",
        "    \"Not(x < y)\": \"COI !()\"\n",
        "}\n",
        "# 4) Keep non equivalent mutants\n",
        "mutations = keepNonEquivalentMutants(program, mutations)\n",
        "# 5) Keep non redundant mutants\n",
        "mutations = keepNonRedundantMutants(mutations)\n",
        "# 6) Identify subsumption relations\n",
        "subsumptions = identifySubsumptions(program, mutations, conditions)\n",
        "print('============================================')\n",
        "# 7) Draw the subsumption relation graph\n",
        "createSubsumptionRelationGraph(subsumptions, mutations, mutationNames)"
      ],
      "execution_count": null,
      "outputs": [
        {
          "output_type": "stream",
          "text": [
            "A.3.6 lexp <= rexp\n",
            "============================================\n",
            "Not(x <= y) is duplicate to x > y\n",
            "x < y subsumes False\n",
            "x == y subsumes False\n",
            "True subsumes x >= y\n",
            "x == y subsumes x >= y\n",
            "True subsumes x > y\n",
            "False subsumes x > y\n",
            "x >= y subsumes x > y\n",
            "x < y subsumes x > y\n",
            "x == y subsumes x > y\n",
            "x != y subsumes x > y\n",
            "True subsumes x != y\n",
            "x < y subsumes x != y\n",
            "============================================\n"
          ],
          "name": "stdout"
        },
        {
          "output_type": "execute_result",
          "data": {
            "text/plain": [
              "<graphviz.dot.Digraph at 0x7f25b9442390>"
            ],
            "image/svg+xml": "<?xml version=\"1.0\" encoding=\"UTF-8\" standalone=\"no\"?>\n<!DOCTYPE svg PUBLIC \"-//W3C//DTD SVG 1.1//EN\"\n \"http://www.w3.org/Graphics/SVG/1.1/DTD/svg11.dtd\">\n<!-- Generated by graphviz version 2.40.1 (20161225.0304)\n -->\n<!-- Title: G Pages: 1 -->\n<svg width=\"386pt\" height=\"188pt\"\n viewBox=\"0.00 0.00 385.89 188.00\" xmlns=\"http://www.w3.org/2000/svg\" xmlns:xlink=\"http://www.w3.org/1999/xlink\">\n<g id=\"graph0\" class=\"graph\" transform=\"scale(1 1) rotate(0) translate(4 184)\">\n<title>G</title>\n<polygon fill=\"#ffffff\" stroke=\"transparent\" points=\"-4,4 -4,-184 381.8886,-184 381.8886,4 -4,4\"/>\n<!-- ROR true -->\n<g id=\"node1\" class=\"node\">\n<title>ROR true</title>\n<ellipse fill=\"none\" stroke=\"#000000\" cx=\"46.7958\" cy=\"-162\" rx=\"46.5926\" ry=\"18\"/>\n<text text-anchor=\"middle\" x=\"46.7958\" y=\"-158.3\" font-family=\"Times,serif\" font-size=\"14.00\" fill=\"#000000\">ROR true</text>\n</g>\n<!-- ROR &gt;= -->\n<g id=\"node3\" class=\"node\">\n<title>ROR &gt;=</title>\n<ellipse fill=\"none\" stroke=\"#000000\" cx=\"64.7958\" cy=\"-90\" rx=\"43.5923\" ry=\"18\"/>\n<text text-anchor=\"middle\" x=\"64.7958\" y=\"-86.3\" font-family=\"Times,serif\" font-size=\"14.00\" fill=\"#000000\">ROR &gt;=</text>\n</g>\n<!-- ROR true&#45;&gt;ROR &gt;= -->\n<g id=\"edge3\" class=\"edge\">\n<title>ROR true&#45;&gt;ROR &gt;=</title>\n<path fill=\"none\" stroke=\"#000000\" d=\"M51.338,-143.8314C53.3142,-135.9266 55.674,-126.4872 57.8617,-117.7365\"/>\n<polygon fill=\"#000000\" stroke=\"#000000\" points=\"61.2876,-118.4637 60.3175,-107.9134 54.4966,-116.7659 61.2876,-118.4637\"/>\n</g>\n<!-- ROR &gt; -->\n<g id=\"node5\" class=\"node\">\n<title>ROR &gt;</title>\n<ellipse fill=\"none\" stroke=\"#000000\" cx=\"170.7958\" cy=\"-18\" rx=\"38.1938\" ry=\"18\"/>\n<text text-anchor=\"middle\" x=\"170.7958\" y=\"-14.3\" font-family=\"Times,serif\" font-size=\"14.00\" fill=\"#000000\">ROR &gt;</text>\n</g>\n<!-- ROR true&#45;&gt;ROR &gt; -->\n<g id=\"edge5\" class=\"edge\">\n<title>ROR true&#45;&gt;ROR &gt;</title>\n<path fill=\"none\" stroke=\"#000000\" d=\"M30.8499,-144.8385C15.1157,-125.7489 -4.4127,-94.6226 11.7958,-72 25.3141,-53.1323 83.5318,-36.844 125.6118,-27.2261\"/>\n<polygon fill=\"#000000\" stroke=\"#000000\" points=\"126.3925,-30.6381 135.3898,-25.0437 124.8675,-23.8062 126.3925,-30.6381\"/>\n</g>\n<!-- ROR != -->\n<g id=\"node7\" class=\"node\">\n<title>ROR !=</title>\n<ellipse fill=\"none\" stroke=\"#000000\" cx=\"205.7958\" cy=\"-90\" rx=\"40.8928\" ry=\"18\"/>\n<text text-anchor=\"middle\" x=\"205.7958\" y=\"-86.3\" font-family=\"Times,serif\" font-size=\"14.00\" fill=\"#000000\">ROR !=</text>\n</g>\n<!-- ROR true&#45;&gt;ROR != -->\n<g id=\"edge11\" class=\"edge\">\n<title>ROR true&#45;&gt;ROR !=</title>\n<path fill=\"none\" stroke=\"#000000\" d=\"M77.4526,-148.1177C103.2035,-136.4569 140.1169,-119.7414 167.7515,-107.2276\"/>\n<polygon fill=\"#000000\" stroke=\"#000000\" points=\"169.44,-110.3052 177.1057,-102.9918 166.5524,-103.9285 169.44,-110.3052\"/>\n</g>\n<!-- ROR false -->\n<g id=\"node2\" class=\"node\">\n<title>ROR false</title>\n<ellipse fill=\"none\" stroke=\"#000000\" cx=\"313.7958\" cy=\"-90\" rx=\"49.2915\" ry=\"18\"/>\n<text text-anchor=\"middle\" x=\"313.7958\" y=\"-86.3\" font-family=\"Times,serif\" font-size=\"14.00\" fill=\"#000000\">ROR false</text>\n</g>\n<!-- ROR false&#45;&gt;ROR &gt; -->\n<g id=\"edge6\" class=\"edge\">\n<title>ROR false&#45;&gt;ROR &gt;</title>\n<path fill=\"none\" stroke=\"#000000\" d=\"M284.5126,-75.256C261.8618,-63.8514 230.4043,-48.0127 206.3159,-35.8842\"/>\n<polygon fill=\"#000000\" stroke=\"#000000\" points=\"207.6563,-32.6405 197.1505,-31.2695 204.5083,-38.8927 207.6563,-32.6405\"/>\n</g>\n<!-- ROR &gt;=&#45;&gt;ROR &gt; -->\n<g id=\"edge7\" class=\"edge\">\n<title>ROR &gt;=&#45;&gt;ROR &gt;</title>\n<path fill=\"none\" stroke=\"#000000\" d=\"M87.5355,-74.5542C102.9727,-64.0685 123.5608,-50.0842 140.4016,-38.6452\"/>\n<polygon fill=\"#000000\" stroke=\"#000000\" points=\"142.5139,-41.4415 148.8195,-32.9273 138.5807,-35.6509 142.5139,-41.4415\"/>\n</g>\n<!-- ROR &lt; -->\n<g id=\"node4\" class=\"node\">\n<title>ROR &lt;</title>\n<ellipse fill=\"none\" stroke=\"#000000\" cx=\"313.7958\" cy=\"-162\" rx=\"38.1938\" ry=\"18\"/>\n<text text-anchor=\"middle\" x=\"313.7958\" y=\"-158.3\" font-family=\"Times,serif\" font-size=\"14.00\" fill=\"#000000\">ROR &lt;</text>\n</g>\n<!-- ROR &lt;&#45;&gt;ROR false -->\n<g id=\"edge1\" class=\"edge\">\n<title>ROR &lt;&#45;&gt;ROR false</title>\n<path fill=\"none\" stroke=\"#000000\" d=\"M313.7958,-143.8314C313.7958,-136.131 313.7958,-126.9743 313.7958,-118.4166\"/>\n<polygon fill=\"#000000\" stroke=\"#000000\" points=\"317.2959,-118.4132 313.7958,-108.4133 310.2959,-118.4133 317.2959,-118.4132\"/>\n</g>\n<!-- ROR &lt;&#45;&gt;ROR &gt; -->\n<g id=\"edge8\" class=\"edge\">\n<title>ROR &lt;&#45;&gt;ROR &gt;</title>\n<path fill=\"none\" stroke=\"#000000\" d=\"M335.5448,-146.8436C359.1385,-128.5365 391.0248,-97.0767 371.7958,-72 353.2056,-47.7562 271.4727,-31.9792 218.1267,-24.0618\"/>\n<polygon fill=\"#000000\" stroke=\"#000000\" points=\"218.5879,-20.5921 208.1907,-22.6287 217.5886,-27.5204 218.5879,-20.5921\"/>\n</g>\n<!-- ROR &lt;&#45;&gt;ROR != -->\n<g id=\"edge12\" class=\"edge\">\n<title>ROR &lt;&#45;&gt;ROR !=</title>\n<path fill=\"none\" stroke=\"#000000\" d=\"M291.6798,-147.256C276.0193,-136.8156 254.7848,-122.6593 237.3487,-111.0352\"/>\n<polygon fill=\"#000000\" stroke=\"#000000\" points=\"238.8886,-107.8554 228.6266,-105.2205 235.0057,-113.6798 238.8886,-107.8554\"/>\n</g>\n<!-- ROR == -->\n<g id=\"node6\" class=\"node\">\n<title>ROR ==</title>\n<ellipse fill=\"none\" stroke=\"#000000\" cx=\"154.7958\" cy=\"-162\" rx=\"43.5923\" ry=\"18\"/>\n<text text-anchor=\"middle\" x=\"154.7958\" y=\"-158.3\" font-family=\"Times,serif\" font-size=\"14.00\" fill=\"#000000\">ROR ==</text>\n</g>\n<!-- ROR ==&#45;&gt;ROR false -->\n<g id=\"edge2\" class=\"edge\">\n<title>ROR ==&#45;&gt;ROR false</title>\n<path fill=\"none\" stroke=\"#000000\" d=\"M184.3299,-148.6261C209.3947,-137.276 245.603,-120.8798 273.3584,-108.3113\"/>\n<polygon fill=\"#000000\" stroke=\"#000000\" points=\"275.1254,-111.3533 282.7911,-104.0399 272.2378,-104.9767 275.1254,-111.3533\"/>\n</g>\n<!-- ROR ==&#45;&gt;ROR &gt;= -->\n<g id=\"edge4\" class=\"edge\">\n<title>ROR ==&#45;&gt;ROR &gt;=</title>\n<path fill=\"none\" stroke=\"#000000\" d=\"M134.3735,-145.6621C122.0901,-135.8354 106.2823,-123.1892 92.8393,-112.4348\"/>\n<polygon fill=\"#000000\" stroke=\"#000000\" points=\"94.8226,-109.5392 84.8274,-106.0252 90.4497,-115.0053 94.8226,-109.5392\"/>\n</g>\n<!-- ROR ==&#45;&gt;ROR &gt; -->\n<g id=\"edge9\" class=\"edge\">\n<title>ROR ==&#45;&gt;ROR &gt;</title>\n<path fill=\"none\" stroke=\"#000000\" d=\"M153.6297,-143.9662C152.7695,-125.7212 152.2816,-96.7533 155.7958,-72 157.021,-63.3706 159.2253,-54.1685 161.5736,-45.8512\"/>\n<polygon fill=\"#000000\" stroke=\"#000000\" points=\"164.9351,-46.8264 164.4532,-36.2425 158.2297,-44.8168 164.9351,-46.8264\"/>\n</g>\n<!-- ROR !=&#45;&gt;ROR &gt; -->\n<g id=\"edge10\" class=\"edge\">\n<title>ROR !=&#45;&gt;ROR &gt;</title>\n<path fill=\"none\" stroke=\"#000000\" d=\"M197.1442,-72.2022C193.1177,-63.9192 188.2431,-53.8915 183.7871,-44.7248\"/>\n<polygon fill=\"#000000\" stroke=\"#000000\" points=\"186.8678,-43.0565 179.348,-35.593 180.5722,-46.1169 186.8678,-43.0565\"/>\n</g>\n</g>\n</svg>\n"
          },
          "metadata": {
            "tags": []
          },
          "execution_count": 24
        }
      ]
    },
    {
      "cell_type": "code",
      "metadata": {
        "id": "ICzxGguKWSm_",
        "colab": {
          "base_uri": "https://localhost:8080/",
          "height": 544
        },
        "outputId": "2880e2c5-7f81-4185-da57-0e465aec4751"
      },
      "source": [
        "msg = \"A.3.7 (obj) lexp != rexp\"\n",
        "print(msg)\n",
        "print('============================================')\n",
        "# 2) Specify a program\n",
        "program = x!=y\n",
        "# 3) Specify a list of mutants and mutation names\n",
        "mutations = [True,False,x>y,x<y,x==y,x<=y,x>=y,Not(program)]\n",
        "mutationNames = {\n",
        "    \"True\": \"ROR true\",\n",
        "    \"False\": \"ROR false\",\n",
        "    \"x < y\": \"ROR <\",\n",
        "    \"x > y\": \"ROR >\",\n",
        "    \"x >= y\": \"ROR >=\",\n",
        "    \"x <= y\": \"ROR <=\",\n",
        "    \"x == y\": \"ROR ==\",\n",
        "    \"Not(x x!= y)\": \"COI !()\"\n",
        "}\n",
        "# 4) Keep non equivalent mutants\n",
        "mutations = keepNonEquivalentMutants(program, mutations)\n",
        "# 5) Keep non redundant mutants\n",
        "mutations = keepNonRedundantMutants(mutations)\n",
        "# 6) Identify subsumption relations\n",
        "subsumptions = identifySubsumptions(program, mutations, conditions)\n",
        "print('============================================')\n",
        "# 7) Draw the subsumption relation graph\n",
        "createSubsumptionRelationGraph(subsumptions, mutations, mutationNames)"
      ],
      "execution_count": null,
      "outputs": [
        {
          "output_type": "stream",
          "text": [
            "A.3.7 (obj) lexp != rexp\n",
            "============================================\n",
            "Not(x != y) is duplicate to x == y\n",
            "x > y subsumes False\n",
            "x < y subsumes False\n",
            "True subsumes x == y\n",
            "False subsumes x == y\n",
            "x > y subsumes x == y\n",
            "x < y subsumes x == y\n",
            "x <= y subsumes x == y\n",
            "x >= y subsumes x == y\n",
            "True subsumes x <= y\n",
            "x < y subsumes x <= y\n",
            "True subsumes x >= y\n",
            "x > y subsumes x >= y\n",
            "============================================\n"
          ],
          "name": "stdout"
        },
        {
          "output_type": "execute_result",
          "data": {
            "text/plain": [
              "<graphviz.dot.Digraph at 0x7f25b9444710>"
            ],
            "image/svg+xml": "<?xml version=\"1.0\" encoding=\"UTF-8\" standalone=\"no\"?>\n<!DOCTYPE svg PUBLIC \"-//W3C//DTD SVG 1.1//EN\"\n \"http://www.w3.org/Graphics/SVG/1.1/DTD/svg11.dtd\">\n<!-- Generated by graphviz version 2.40.1 (20161225.0304)\n -->\n<!-- Title: G Pages: 1 -->\n<svg width=\"390pt\" height=\"188pt\"\n viewBox=\"0.00 0.00 389.92 188.00\" xmlns=\"http://www.w3.org/2000/svg\" xmlns:xlink=\"http://www.w3.org/1999/xlink\">\n<g id=\"graph0\" class=\"graph\" transform=\"scale(1 1) rotate(0) translate(4 184)\">\n<title>G</title>\n<polygon fill=\"#ffffff\" stroke=\"transparent\" points=\"-4,4 -4,-184 385.9174,-184 385.9174,4 -4,4\"/>\n<!-- ROR true -->\n<g id=\"node1\" class=\"node\">\n<title>ROR true</title>\n<ellipse fill=\"none\" stroke=\"#000000\" cx=\"46.7958\" cy=\"-162\" rx=\"46.5926\" ry=\"18\"/>\n<text text-anchor=\"middle\" x=\"46.7958\" y=\"-158.3\" font-family=\"Times,serif\" font-size=\"14.00\" fill=\"#000000\">ROR true</text>\n</g>\n<!-- ROR == -->\n<g id=\"node5\" class=\"node\">\n<title>ROR ==</title>\n<ellipse fill=\"none\" stroke=\"#000000\" cx=\"170.7958\" cy=\"-18\" rx=\"43.5923\" ry=\"18\"/>\n<text text-anchor=\"middle\" x=\"170.7958\" y=\"-14.3\" font-family=\"Times,serif\" font-size=\"14.00\" fill=\"#000000\">ROR ==</text>\n</g>\n<!-- ROR true&#45;&gt;ROR == -->\n<g id=\"edge3\" class=\"edge\">\n<title>ROR true&#45;&gt;ROR ==</title>\n<path fill=\"none\" stroke=\"#000000\" d=\"M30.2199,-144.8916C13.8387,-125.8495 -6.5805,-94.7656 9.7958,-72 23.1043,-53.4993 79.0593,-37.6494 121.2961,-27.9963\"/>\n<polygon fill=\"#000000\" stroke=\"#000000\" points=\"122.1626,-31.3891 131.1608,-25.7959 120.6387,-24.557 122.1626,-31.3891\"/>\n</g>\n<!-- ROR &lt;= -->\n<g id=\"node6\" class=\"node\">\n<title>ROR &lt;=</title>\n<ellipse fill=\"none\" stroke=\"#000000\" cx=\"206.7958\" cy=\"-90\" rx=\"43.5923\" ry=\"18\"/>\n<text text-anchor=\"middle\" x=\"206.7958\" y=\"-86.3\" font-family=\"Times,serif\" font-size=\"14.00\" fill=\"#000000\">ROR &lt;=</text>\n</g>\n<!-- ROR true&#45;&gt;ROR &lt;= -->\n<g id=\"edge9\" class=\"edge\">\n<title>ROR true&#45;&gt;ROR &lt;=</title>\n<path fill=\"none\" stroke=\"#000000\" d=\"M77.2672,-148.2879C102.9779,-136.7181 139.9409,-120.0847 167.8057,-107.5456\"/>\n<polygon fill=\"#000000\" stroke=\"#000000\" points=\"169.5661,-110.5915 177.2491,-103.2961 166.6935,-104.208 169.5661,-110.5915\"/>\n</g>\n<!-- ROR &gt;= -->\n<g id=\"node7\" class=\"node\">\n<title>ROR &gt;=</title>\n<ellipse fill=\"none\" stroke=\"#000000\" cx=\"62.7958\" cy=\"-90\" rx=\"43.5923\" ry=\"18\"/>\n<text text-anchor=\"middle\" x=\"62.7958\" y=\"-86.3\" font-family=\"Times,serif\" font-size=\"14.00\" fill=\"#000000\">ROR &gt;=</text>\n</g>\n<!-- ROR true&#45;&gt;ROR &gt;= -->\n<g id=\"edge11\" class=\"edge\">\n<title>ROR true&#45;&gt;ROR &gt;=</title>\n<path fill=\"none\" stroke=\"#000000\" d=\"M50.8333,-143.8314C52.5445,-136.131 54.5793,-126.9743 56.481,-118.4166\"/>\n<polygon fill=\"#000000\" stroke=\"#000000\" points=\"59.9513,-118.9344 58.704,-108.4133 53.118,-117.4159 59.9513,-118.9344\"/>\n</g>\n<!-- ROR false -->\n<g id=\"node2\" class=\"node\">\n<title>ROR false</title>\n<ellipse fill=\"none\" stroke=\"#000000\" cx=\"317.7958\" cy=\"-90\" rx=\"49.2915\" ry=\"18\"/>\n<text text-anchor=\"middle\" x=\"317.7958\" y=\"-86.3\" font-family=\"Times,serif\" font-size=\"14.00\" fill=\"#000000\">ROR false</text>\n</g>\n<!-- ROR false&#45;&gt;ROR == -->\n<g id=\"edge4\" class=\"edge\">\n<title>ROR false&#45;&gt;ROR ==</title>\n<path fill=\"none\" stroke=\"#000000\" d=\"M288.0482,-75.4297C264.9871,-64.1345 232.8912,-48.4141 208.1089,-36.2758\"/>\n<polygon fill=\"#000000\" stroke=\"#000000\" points=\"209.5232,-33.0713 199.003,-31.8158 206.4441,-39.3577 209.5232,-33.0713\"/>\n</g>\n<!-- ROR &gt; -->\n<g id=\"node3\" class=\"node\">\n<title>ROR &gt;</title>\n<ellipse fill=\"none\" stroke=\"#000000\" cx=\"149.7958\" cy=\"-162\" rx=\"38.1938\" ry=\"18\"/>\n<text text-anchor=\"middle\" x=\"149.7958\" y=\"-158.3\" font-family=\"Times,serif\" font-size=\"14.00\" fill=\"#000000\">ROR &gt;</text>\n</g>\n<!-- ROR &gt;&#45;&gt;ROR false -->\n<g id=\"edge1\" class=\"edge\">\n<title>ROR &gt;&#45;&gt;ROR false</title>\n<path fill=\"none\" stroke=\"#000000\" d=\"M178.2948,-149.7862C205.1573,-138.2737 245.7265,-120.8869 276.2015,-107.8262\"/>\n<polygon fill=\"#000000\" stroke=\"#000000\" points=\"277.8983,-110.9069 285.7111,-103.7506 275.1409,-104.4729 277.8983,-110.9069\"/>\n</g>\n<!-- ROR &gt;&#45;&gt;ROR == -->\n<g id=\"edge5\" class=\"edge\">\n<title>ROR &gt;&#45;&gt;ROR ==</title>\n<path fill=\"none\" stroke=\"#000000\" d=\"M149.2264,-143.92C148.9711,-125.6391 149.4461,-96.6438 153.7958,-72 155.3262,-63.3297 157.867,-54.1154 160.5238,-45.7994\"/>\n<polygon fill=\"#000000\" stroke=\"#000000\" points=\"163.8826,-46.7922 163.7619,-36.1981 157.2497,-44.5552 163.8826,-46.7922\"/>\n</g>\n<!-- ROR &gt;&#45;&gt;ROR &gt;= -->\n<g id=\"edge12\" class=\"edge\">\n<title>ROR &gt;&#45;&gt;ROR &gt;=</title>\n<path fill=\"none\" stroke=\"#000000\" d=\"M130.4877,-146.0209C118.6312,-136.2086 103.259,-123.4867 90.1607,-112.6468\"/>\n<polygon fill=\"#000000\" stroke=\"#000000\" points=\"92.2863,-109.8628 82.3508,-106.1834 87.8233,-115.2555 92.2863,-109.8628\"/>\n</g>\n<!-- ROR &lt; -->\n<g id=\"node4\" class=\"node\">\n<title>ROR &lt;</title>\n<ellipse fill=\"none\" stroke=\"#000000\" cx=\"317.7958\" cy=\"-162\" rx=\"38.1938\" ry=\"18\"/>\n<text text-anchor=\"middle\" x=\"317.7958\" y=\"-158.3\" font-family=\"Times,serif\" font-size=\"14.00\" fill=\"#000000\">ROR &lt;</text>\n</g>\n<!-- ROR &lt;&#45;&gt;ROR false -->\n<g id=\"edge2\" class=\"edge\">\n<title>ROR &lt;&#45;&gt;ROR false</title>\n<path fill=\"none\" stroke=\"#000000\" d=\"M317.7958,-143.8314C317.7958,-136.131 317.7958,-126.9743 317.7958,-118.4166\"/>\n<polygon fill=\"#000000\" stroke=\"#000000\" points=\"321.2959,-118.4132 317.7958,-108.4133 314.2959,-118.4133 321.2959,-118.4132\"/>\n</g>\n<!-- ROR &lt;&#45;&gt;ROR == -->\n<g id=\"edge6\" class=\"edge\">\n<title>ROR &lt;&#45;&gt;ROR ==</title>\n<path fill=\"none\" stroke=\"#000000\" d=\"M339.5656,-146.8276C363.1797,-128.5049 395.0861,-97.0296 375.7958,-72 357.2749,-47.9685 277.5791,-32.493 223.1888,-24.5206\"/>\n<polygon fill=\"#000000\" stroke=\"#000000\" points=\"223.4044,-21.0161 213.011,-23.0724 222.4182,-27.9463 223.4044,-21.0161\"/>\n</g>\n<!-- ROR &lt;&#45;&gt;ROR &lt;= -->\n<g id=\"edge10\" class=\"edge\">\n<title>ROR &lt;&#45;&gt;ROR &lt;=</title>\n<path fill=\"none\" stroke=\"#000000\" d=\"M295.0655,-147.256C278.8223,-136.7199 256.7447,-122.3992 238.7329,-110.716\"/>\n<polygon fill=\"#000000\" stroke=\"#000000\" points=\"240.5551,-107.7261 230.2608,-105.2205 236.7458,-113.5989 240.5551,-107.7261\"/>\n</g>\n<!-- ROR &lt;=&#45;&gt;ROR == -->\n<g id=\"edge7\" class=\"edge\">\n<title>ROR &lt;=&#45;&gt;ROR ==</title>\n<path fill=\"none\" stroke=\"#000000\" d=\"M197.897,-72.2022C193.7863,-63.981 188.8164,-54.041 184.2609,-44.9301\"/>\n<polygon fill=\"#000000\" stroke=\"#000000\" points=\"187.3198,-43.2216 179.7171,-35.8425 181.0588,-46.3521 187.3198,-43.2216\"/>\n</g>\n<!-- ROR &gt;=&#45;&gt;ROR == -->\n<g id=\"edge8\" class=\"edge\">\n<title>ROR &gt;=&#45;&gt;ROR ==</title>\n<path fill=\"none\" stroke=\"#000000\" d=\"M85.9646,-74.5542C101.4819,-64.2093 122.1074,-50.459 139.1351,-39.1072\"/>\n<polygon fill=\"#000000\" stroke=\"#000000\" points=\"141.2864,-41.8795 147.6655,-33.4203 137.4035,-36.0551 141.2864,-41.8795\"/>\n</g>\n</g>\n</svg>\n"
          },
          "metadata": {
            "tags": []
          },
          "execution_count": 25
        }
      ]
    },
    {
      "cell_type": "markdown",
      "metadata": {
        "id": "SESbfG4j9p_W"
      },
      "source": [
        "**A.4 Logic expressions with bits:**"
      ]
    },
    {
      "cell_type": "code",
      "metadata": {
        "id": "aKkr562C9ta5"
      },
      "source": [
        "# 1) Declare variables and conditions\n",
        "x, y = BitVecs('x y', 32)\n",
        "conditions = True"
      ],
      "execution_count": null,
      "outputs": []
    },
    {
      "cell_type": "code",
      "metadata": {
        "id": "xTpb_iO-95mD",
        "colab": {
          "base_uri": "https://localhost:8080/",
          "height": 442
        },
        "outputId": "6957ffdc-71eb-4d6a-d564-b89979546ad6"
      },
      "source": [
        "msg = \"A.4.1 lexp & rexp'\"\n",
        "print(msg)\n",
        "print('============================================')\n",
        "# 2) Specify a program\n",
        "program = x & y\n",
        "# 3) Specify a list of mutants and mutation names\n",
        "mutations = [x, y, x|y, x^y, x<<y, x>>y]\n",
        "mutationNames = {\n",
        "    \"y\": \"CDL/VDL/ODL x\", \n",
        "    \"x\": \"CDL/VDL/ODL y\",\n",
        "    \"x | y\": \"LOR |\",\n",
        "    \"x ^ y\": \"LOR ^\",\n",
        "    \"x << y\": \"SOR <<\",\n",
        "    \"x >> y\": \"SOR >>\"\n",
        "}\n",
        "# 4) Keep non equivalent mutants\n",
        "mutations = keepNonEquivalentMutants(program, mutations)\n",
        "# 5) Keep non redundant mutants\n",
        "mutations = keepNonRedundantMutants(mutations)\n",
        "# 6) Identify subsumption relations\n",
        "subsumptions = identifySubsumptions(program, mutations, conditions)\n",
        "print('============================================')\n",
        "# 7) Draw the subsumption relation graph\n",
        "createSubsumptionRelationGraph(subsumptions, mutations, mutationNames)"
      ],
      "execution_count": null,
      "outputs": [
        {
          "output_type": "stream",
          "text": [
            "A.4.1 lexp & rexp'\n",
            "============================================\n",
            "x subsumes x | y\n",
            "y subsumes x | y\n",
            "x subsumes x ^ y\n",
            "y subsumes x ^ y\n",
            "x | y subsumes x ^ y\n",
            "x << y subsumes x ^ y\n",
            "x >> y subsumes x ^ y\n",
            "============================================\n"
          ],
          "name": "stdout"
        },
        {
          "output_type": "execute_result",
          "data": {
            "text/plain": [
              "<graphviz.dot.Digraph at 0x7f25bbc1bc88>"
            ],
            "image/svg+xml": "<?xml version=\"1.0\" encoding=\"UTF-8\" standalone=\"no\"?>\n<!DOCTYPE svg PUBLIC \"-//W3C//DTD SVG 1.1//EN\"\n \"http://www.w3.org/Graphics/SVG/1.1/DTD/svg11.dtd\">\n<!-- Generated by graphviz version 2.40.1 (20161225.0304)\n -->\n<!-- Title: G Pages: 1 -->\n<svg width=\"468pt\" height=\"188pt\"\n viewBox=\"0.00 0.00 467.84 188.00\" xmlns=\"http://www.w3.org/2000/svg\" xmlns:xlink=\"http://www.w3.org/1999/xlink\">\n<g id=\"graph0\" class=\"graph\" transform=\"scale(1 1) rotate(0) translate(4 184)\">\n<title>G</title>\n<polygon fill=\"#ffffff\" stroke=\"transparent\" points=\"-4,4 -4,-184 463.8391,-184 463.8391,4 -4,4\"/>\n<!-- CDL/VDL/ODL y -->\n<g id=\"node1\" class=\"node\">\n<title>CDL/VDL/ODL y</title>\n<ellipse fill=\"none\" stroke=\"#000000\" cx=\"80.5928\" cy=\"-162\" rx=\"80.6858\" ry=\"18\"/>\n<text text-anchor=\"middle\" x=\"80.5928\" y=\"-158.3\" font-family=\"Times,serif\" font-size=\"14.00\" fill=\"#000000\">CDL/VDL/ODL y</text>\n</g>\n<!-- LOR | -->\n<g id=\"node3\" class=\"node\">\n<title>LOR |</title>\n<ellipse fill=\"none\" stroke=\"#000000\" cx=\"183.5928\" cy=\"-90\" rx=\"34.394\" ry=\"18\"/>\n<text text-anchor=\"middle\" x=\"183.5928\" y=\"-86.3\" font-family=\"Times,serif\" font-size=\"14.00\" fill=\"#000000\">LOR |</text>\n</g>\n<!-- CDL/VDL/ODL y&#45;&gt;LOR | -->\n<g id=\"edge1\" class=\"edge\">\n<title>CDL/VDL/ODL y&#45;&gt;LOR |</title>\n<path fill=\"none\" stroke=\"#000000\" d=\"M105.2639,-144.7542C120.1278,-134.3639 139.1284,-121.0819 154.6933,-110.2016\"/>\n<polygon fill=\"#000000\" stroke=\"#000000\" points=\"156.7481,-113.0357 162.9389,-104.4377 152.7375,-107.2984 156.7481,-113.0357\"/>\n</g>\n<!-- LOR ^ -->\n<g id=\"node4\" class=\"node\">\n<title>LOR ^</title>\n<ellipse fill=\"none\" stroke=\"#000000\" cx=\"245.5928\" cy=\"-18\" rx=\"36.2938\" ry=\"18\"/>\n<text text-anchor=\"middle\" x=\"245.5928\" y=\"-14.3\" font-family=\"Times,serif\" font-size=\"14.00\" fill=\"#000000\">LOR ^</text>\n</g>\n<!-- CDL/VDL/ODL y&#45;&gt;LOR ^ -->\n<g id=\"edge3\" class=\"edge\">\n<title>CDL/VDL/ODL y&#45;&gt;LOR ^</title>\n<path fill=\"none\" stroke=\"#000000\" d=\"M89.1862,-143.7915C99.2364,-124.06 117.4808,-92.6377 140.5928,-72 159.8189,-54.8323 185.4901,-41.5015 206.6366,-32.3803\"/>\n<polygon fill=\"#000000\" stroke=\"#000000\" points=\"208.1063,-35.5597 215.9948,-28.487 205.4175,-29.0967 208.1063,-35.5597\"/>\n</g>\n<!-- CDL/VDL/ODL x -->\n<g id=\"node2\" class=\"node\">\n<title>CDL/VDL/ODL x</title>\n<ellipse fill=\"none\" stroke=\"#000000\" cx=\"259.5928\" cy=\"-162\" rx=\"80.6858\" ry=\"18\"/>\n<text text-anchor=\"middle\" x=\"259.5928\" y=\"-158.3\" font-family=\"Times,serif\" font-size=\"14.00\" fill=\"#000000\">CDL/VDL/ODL x</text>\n</g>\n<!-- CDL/VDL/ODL x&#45;&gt;LOR | -->\n<g id=\"edge2\" class=\"edge\">\n<title>CDL/VDL/ODL x&#45;&gt;LOR |</title>\n<path fill=\"none\" stroke=\"#000000\" d=\"M240.8063,-144.2022C230.8316,-134.7525 218.4601,-123.0321 207.7756,-112.91\"/>\n<polygon fill=\"#000000\" stroke=\"#000000\" points=\"210.0189,-110.2139 200.3522,-105.8773 205.2047,-115.2956 210.0189,-110.2139\"/>\n</g>\n<!-- CDL/VDL/ODL x&#45;&gt;LOR ^ -->\n<g id=\"edge4\" class=\"edge\">\n<title>CDL/VDL/ODL x&#45;&gt;LOR ^</title>\n<path fill=\"none\" stroke=\"#000000\" d=\"M257.8197,-143.7623C255.4318,-119.201 251.1586,-75.2474 248.3495,-46.3541\"/>\n<polygon fill=\"#000000\" stroke=\"#000000\" points=\"251.8029,-45.704 247.3516,-36.0896 244.8357,-46.3814 251.8029,-45.704\"/>\n</g>\n<!-- LOR |&#45;&gt;LOR ^ -->\n<g id=\"edge5\" class=\"edge\">\n<title>LOR |&#45;&gt;LOR ^</title>\n<path fill=\"none\" stroke=\"#000000\" d=\"M197.9727,-73.3008C205.8762,-64.1226 215.8259,-52.568 224.5842,-42.3971\"/>\n<polygon fill=\"#000000\" stroke=\"#000000\" points=\"227.4179,-44.4702 231.2909,-34.6087 222.1135,-39.9025 227.4179,-44.4702\"/>\n</g>\n<!-- SOR &lt;&lt; -->\n<g id=\"node5\" class=\"node\">\n<title>SOR &lt;&lt;</title>\n<ellipse fill=\"none\" stroke=\"#000000\" cx=\"315.5928\" cy=\"-90\" rx=\"42.4939\" ry=\"18\"/>\n<text text-anchor=\"middle\" x=\"315.5928\" y=\"-86.3\" font-family=\"Times,serif\" font-size=\"14.00\" fill=\"#000000\">SOR &lt;&lt;</text>\n</g>\n<!-- SOR &lt;&lt;&#45;&gt;LOR ^ -->\n<g id=\"edge6\" class=\"edge\">\n<title>SOR &lt;&lt;&#45;&gt;LOR ^</title>\n<path fill=\"none\" stroke=\"#000000\" d=\"M299.3575,-73.3008C290.2576,-63.9408 278.7549,-52.1095 268.7264,-41.7945\"/>\n<polygon fill=\"#000000\" stroke=\"#000000\" points=\"271.2205,-39.3389 261.7402,-34.6087 266.2015,-44.2184 271.2205,-39.3389\"/>\n</g>\n<!-- SOR &gt;&gt; -->\n<g id=\"node6\" class=\"node\">\n<title>SOR &gt;&gt;</title>\n<ellipse fill=\"none\" stroke=\"#000000\" cx=\"417.5928\" cy=\"-90\" rx=\"42.4939\" ry=\"18\"/>\n<text text-anchor=\"middle\" x=\"417.5928\" y=\"-86.3\" font-family=\"Times,serif\" font-size=\"14.00\" fill=\"#000000\">SOR &gt;&gt;</text>\n</g>\n<!-- SOR &gt;&gt;&#45;&gt;LOR ^ -->\n<g id=\"edge7\" class=\"edge\">\n<title>SOR &gt;&gt;&#45;&gt;LOR ^</title>\n<path fill=\"none\" stroke=\"#000000\" d=\"M387.2386,-77.2936C358.1345,-65.1105 314.1299,-46.6899 282.9011,-33.6174\"/>\n<polygon fill=\"#000000\" stroke=\"#000000\" points=\"284.2261,-30.3778 273.6502,-29.7449 281.5231,-36.8349 284.2261,-30.3778\"/>\n</g>\n</g>\n</svg>\n"
          },
          "metadata": {
            "tags": []
          },
          "execution_count": 27
        }
      ]
    },
    {
      "cell_type": "code",
      "metadata": {
        "id": "8yEjnWz9_l_S",
        "colab": {
          "base_uri": "https://localhost:8080/",
          "height": 312
        },
        "outputId": "8d7c8f00-9aa6-4f4e-aa89-c2cd5394ef8f"
      },
      "source": [
        "msg = \"A.4.2 lexp | rexp'\"\n",
        "print(msg)\n",
        "print('============================================')\n",
        "# 2) Specify a program\n",
        "program = x | y\n",
        "# 3) Specify a list of mutants and mutation names\n",
        "mutations = [x, y, x&y, x^y, x<<y, x>>y]\n",
        "mutationNames = {\n",
        "    \"y\": \"CDL/VDL/ODL x\", \n",
        "    \"x\": \"CDL/VDL/ODL y\",\n",
        "    \"x & y\": \"LOR &\",\n",
        "    \"x ^ y\": \"LOR ^\",\n",
        "    \"x << y\": \"SOR <<\",\n",
        "    \"x >> y\": \"SOR >>\"\n",
        "}\n",
        "# 4) Keep non equivalent mutants\n",
        "mutations = keepNonEquivalentMutants(program, mutations)\n",
        "# 5) Keep non redundant mutants\n",
        "mutations = keepNonRedundantMutants(mutations)\n",
        "# 6) Identify subsumption relations\n",
        "subsumptions = identifySubsumptions(program, mutations, conditions)\n",
        "print('============================================')\n",
        "# 7) Draw the subsumption relation graph\n",
        "createSubsumptionRelationGraph(subsumptions, mutations, mutationNames)"
      ],
      "execution_count": null,
      "outputs": [
        {
          "output_type": "stream",
          "text": [
            "A.4.2 lexp | rexp'\n",
            "============================================\n",
            "x subsumes x & y\n",
            "y subsumes x & y\n",
            "x subsumes x << y\n",
            "x ^ y subsumes x << y\n",
            "x >> y subsumes x << y\n",
            "============================================\n"
          ],
          "name": "stdout"
        },
        {
          "output_type": "execute_result",
          "data": {
            "text/plain": [
              "<graphviz.dot.Digraph at 0x7f25b944acf8>"
            ],
            "image/svg+xml": "<?xml version=\"1.0\" encoding=\"UTF-8\" standalone=\"no\"?>\n<!DOCTYPE svg PUBLIC \"-//W3C//DTD SVG 1.1//EN\"\n \"http://www.w3.org/Graphics/SVG/1.1/DTD/svg11.dtd\">\n<!-- Generated by graphviz version 2.40.1 (20161225.0304)\n -->\n<!-- Title: G Pages: 1 -->\n<svg width=\"542pt\" height=\"116pt\"\n viewBox=\"0.00 0.00 541.84 116.00\" xmlns=\"http://www.w3.org/2000/svg\" xmlns:xlink=\"http://www.w3.org/1999/xlink\">\n<g id=\"graph0\" class=\"graph\" transform=\"scale(1 1) rotate(0) translate(4 112)\">\n<title>G</title>\n<polygon fill=\"#ffffff\" stroke=\"transparent\" points=\"-4,4 -4,-112 537.8391,-112 537.8391,4 -4,4\"/>\n<!-- CDL/VDL/ODL y -->\n<g id=\"node1\" class=\"node\">\n<title>CDL/VDL/ODL y</title>\n<ellipse fill=\"none\" stroke=\"#000000\" cx=\"259.5928\" cy=\"-90\" rx=\"80.6858\" ry=\"18\"/>\n<text text-anchor=\"middle\" x=\"259.5928\" y=\"-86.3\" font-family=\"Times,serif\" font-size=\"14.00\" fill=\"#000000\">CDL/VDL/ODL y</text>\n</g>\n<!-- LOR &amp; -->\n<g id=\"node3\" class=\"node\">\n<title>LOR &amp;</title>\n<ellipse fill=\"none\" stroke=\"#000000\" cx=\"170.5928\" cy=\"-18\" rx=\"39.7935\" ry=\"18\"/>\n<text text-anchor=\"middle\" x=\"170.5928\" y=\"-14.3\" font-family=\"Times,serif\" font-size=\"14.00\" fill=\"#000000\">LOR &amp;</text>\n</g>\n<!-- CDL/VDL/ODL y&#45;&gt;LOR &amp; -->\n<g id=\"edge1\" class=\"edge\">\n<title>CDL/VDL/ODL y&#45;&gt;LOR &amp;</title>\n<path fill=\"none\" stroke=\"#000000\" d=\"M238.0484,-72.5708C226.0634,-62.875 211.0191,-50.7044 198.181,-40.3185\"/>\n<polygon fill=\"#000000\" stroke=\"#000000\" points=\"200.0932,-37.3636 190.1174,-33.7951 195.6906,-42.8057 200.0932,-37.3636\"/>\n</g>\n<!-- SOR &lt;&lt; -->\n<g id=\"node5\" class=\"node\">\n<title>SOR &lt;&lt;</title>\n<ellipse fill=\"none\" stroke=\"#000000\" cx=\"394.5928\" cy=\"-18\" rx=\"42.4939\" ry=\"18\"/>\n<text text-anchor=\"middle\" x=\"394.5928\" y=\"-14.3\" font-family=\"Times,serif\" font-size=\"14.00\" fill=\"#000000\">SOR &lt;&lt;</text>\n</g>\n<!-- CDL/VDL/ODL y&#45;&gt;SOR &lt;&lt; -->\n<g id=\"edge3\" class=\"edge\">\n<title>CDL/VDL/ODL y&#45;&gt;SOR &lt;&lt;</title>\n<path fill=\"none\" stroke=\"#000000\" d=\"M290.9039,-73.3008C311.2591,-62.4447 337.8479,-48.264 359.0042,-36.9806\"/>\n<polygon fill=\"#000000\" stroke=\"#000000\" points=\"360.8253,-39.9761 368.0018,-32.1819 357.5312,-33.7996 360.8253,-39.9761\"/>\n</g>\n<!-- CDL/VDL/ODL x -->\n<g id=\"node2\" class=\"node\">\n<title>CDL/VDL/ODL x</title>\n<ellipse fill=\"none\" stroke=\"#000000\" cx=\"80.5928\" cy=\"-90\" rx=\"80.6858\" ry=\"18\"/>\n<text text-anchor=\"middle\" x=\"80.5928\" y=\"-86.3\" font-family=\"Times,serif\" font-size=\"14.00\" fill=\"#000000\">CDL/VDL/ODL x</text>\n</g>\n<!-- CDL/VDL/ODL x&#45;&gt;LOR &amp; -->\n<g id=\"edge2\" class=\"edge\">\n<title>CDL/VDL/ODL x&#45;&gt;LOR &amp;</title>\n<path fill=\"none\" stroke=\"#000000\" d=\"M102.3793,-72.5708C114.4991,-62.875 129.7124,-50.7044 142.6948,-40.3185\"/>\n<polygon fill=\"#000000\" stroke=\"#000000\" points=\"145.2267,-42.7752 150.8489,-33.7951 140.8538,-37.3091 145.2267,-42.7752\"/>\n</g>\n<!-- LOR ^ -->\n<g id=\"node4\" class=\"node\">\n<title>LOR ^</title>\n<ellipse fill=\"none\" stroke=\"#000000\" cx=\"394.5928\" cy=\"-90\" rx=\"36.2938\" ry=\"18\"/>\n<text text-anchor=\"middle\" x=\"394.5928\" y=\"-86.3\" font-family=\"Times,serif\" font-size=\"14.00\" fill=\"#000000\">LOR ^</text>\n</g>\n<!-- LOR ^&#45;&gt;SOR &lt;&lt; -->\n<g id=\"edge4\" class=\"edge\">\n<title>LOR ^&#45;&gt;SOR &lt;&lt;</title>\n<path fill=\"none\" stroke=\"#000000\" d=\"M394.5928,-71.8314C394.5928,-64.131 394.5928,-54.9743 394.5928,-46.4166\"/>\n<polygon fill=\"#000000\" stroke=\"#000000\" points=\"398.0929,-46.4132 394.5928,-36.4133 391.0929,-46.4133 398.0929,-46.4132\"/>\n</g>\n<!-- SOR &gt;&gt; -->\n<g id=\"node6\" class=\"node\">\n<title>SOR &gt;&gt;</title>\n<ellipse fill=\"none\" stroke=\"#000000\" cx=\"491.5928\" cy=\"-90\" rx=\"42.4939\" ry=\"18\"/>\n<text text-anchor=\"middle\" x=\"491.5928\" y=\"-86.3\" font-family=\"Times,serif\" font-size=\"14.00\" fill=\"#000000\">SOR &gt;&gt;</text>\n</g>\n<!-- SOR &gt;&gt;&#45;&gt;SOR &lt;&lt; -->\n<g id=\"edge5\" class=\"edge\">\n<title>SOR &gt;&gt;&#45;&gt;SOR &lt;&lt;</title>\n<path fill=\"none\" stroke=\"#000000\" d=\"M470.5453,-74.3771C457.0376,-64.3508 439.2939,-51.1802 424.3537,-40.0905\"/>\n<polygon fill=\"#000000\" stroke=\"#000000\" points=\"426.0501,-36.9909 415.9343,-33.8411 421.8779,-42.6117 426.0501,-36.9909\"/>\n</g>\n</g>\n</svg>\n"
          },
          "metadata": {
            "tags": []
          },
          "execution_count": 28
        }
      ]
    },
    {
      "cell_type": "code",
      "metadata": {
        "id": "DECaIQZMASeP",
        "colab": {
          "base_uri": "https://localhost:8080/",
          "height": 408
        },
        "outputId": "3c63b62a-8763-4e96-ac56-c47379376fe7"
      },
      "source": [
        "msg = \"A.4.3 lexp ^ rexp'\"\n",
        "print(msg)\n",
        "print('============================================')\n",
        "# 2) Specify a program\n",
        "program = x ^ y\n",
        "# 3) Specify a list of mutants and mutation names\n",
        "mutations = [x, y, x&y, x|y]\n",
        "mutationNames = {\n",
        "    \"y\": \"CDL/VDL/ODL x\", \n",
        "    \"x\": \"CDL/VDL/ODL y\",\n",
        "    \"x & y\": \"LOR &\",\n",
        "    \"x | y\": \"LOR |\"\n",
        "}\n",
        "# 4) Keep non equivalent mutants\n",
        "mutations = keepNonEquivalentMutants(program, mutations)\n",
        "# 5) Keep non redundant mutants\n",
        "mutations = keepNonRedundantMutants(mutations)\n",
        "# 6) Identify subsumption relations\n",
        "subsumptions = identifySubsumptions(program, mutations, conditions)\n",
        "print('============================================')\n",
        "# 7) Draw the subsumption relation graph\n",
        "createSubsumptionRelationGraph(subsumptions, mutations, mutationNames)"
      ],
      "execution_count": null,
      "outputs": [
        {
          "output_type": "stream",
          "text": [
            "A.4.3 lexp ^ rexp'\n",
            "============================================\n",
            "x | y subsumes x\n",
            "x | y subsumes y\n",
            "x subsumes x & y\n",
            "y subsumes x & y\n",
            "x | y subsumes x & y\n",
            "============================================\n"
          ],
          "name": "stdout"
        },
        {
          "output_type": "execute_result",
          "data": {
            "text/plain": [
              "<graphviz.dot.Digraph at 0x7f25b94428d0>"
            ],
            "image/svg+xml": "<?xml version=\"1.0\" encoding=\"UTF-8\" standalone=\"no\"?>\n<!DOCTYPE svg PUBLIC \"-//W3C//DTD SVG 1.1//EN\"\n \"http://www.w3.org/Graphics/SVG/1.1/DTD/svg11.dtd\">\n<!-- Generated by graphviz version 2.40.1 (20161225.0304)\n -->\n<!-- Title: G Pages: 1 -->\n<svg width=\"364pt\" height=\"188pt\"\n viewBox=\"0.00 0.00 363.51 188.00\" xmlns=\"http://www.w3.org/2000/svg\" xmlns:xlink=\"http://www.w3.org/1999/xlink\">\n<g id=\"graph0\" class=\"graph\" transform=\"scale(1 1) rotate(0) translate(4 184)\">\n<title>G</title>\n<polygon fill=\"#ffffff\" stroke=\"transparent\" points=\"-4,4 -4,-184 359.5052,-184 359.5052,4 -4,4\"/>\n<!-- CDL/VDL/ODL y -->\n<g id=\"node1\" class=\"node\">\n<title>CDL/VDL/ODL y</title>\n<ellipse fill=\"none\" stroke=\"#000000\" cx=\"80.5928\" cy=\"-90\" rx=\"80.6858\" ry=\"18\"/>\n<text text-anchor=\"middle\" x=\"80.5928\" y=\"-86.3\" font-family=\"Times,serif\" font-size=\"14.00\" fill=\"#000000\">CDL/VDL/ODL y</text>\n</g>\n<!-- LOR &amp; -->\n<g id=\"node3\" class=\"node\">\n<title>LOR &amp;</title>\n<ellipse fill=\"none\" stroke=\"#000000\" cx=\"259.5928\" cy=\"-18\" rx=\"39.7935\" ry=\"18\"/>\n<text text-anchor=\"middle\" x=\"259.5928\" y=\"-14.3\" font-family=\"Times,serif\" font-size=\"14.00\" fill=\"#000000\">LOR &amp;</text>\n</g>\n<!-- CDL/VDL/ODL y&#45;&gt;LOR &amp; -->\n<g id=\"edge3\" class=\"edge\">\n<title>CDL/VDL/ODL y&#45;&gt;LOR &amp;</title>\n<path fill=\"none\" stroke=\"#000000\" d=\"M119.8752,-74.1993C149.6476,-62.2238 190.3818,-45.8391 220.1851,-33.8512\"/>\n<polygon fill=\"#000000\" stroke=\"#000000\" points=\"221.8701,-36.946 229.8416,-29.967 219.2578,-30.4517 221.8701,-36.946\"/>\n</g>\n<!-- CDL/VDL/ODL x -->\n<g id=\"node2\" class=\"node\">\n<title>CDL/VDL/ODL x</title>\n<ellipse fill=\"none\" stroke=\"#000000\" cx=\"259.5928\" cy=\"-90\" rx=\"80.6858\" ry=\"18\"/>\n<text text-anchor=\"middle\" x=\"259.5928\" y=\"-86.3\" font-family=\"Times,serif\" font-size=\"14.00\" fill=\"#000000\">CDL/VDL/ODL x</text>\n</g>\n<!-- CDL/VDL/ODL x&#45;&gt;LOR &amp; -->\n<g id=\"edge4\" class=\"edge\">\n<title>CDL/VDL/ODL x&#45;&gt;LOR &amp;</title>\n<path fill=\"none\" stroke=\"#000000\" d=\"M259.5928,-71.8314C259.5928,-64.131 259.5928,-54.9743 259.5928,-46.4166\"/>\n<polygon fill=\"#000000\" stroke=\"#000000\" points=\"263.0929,-46.4132 259.5928,-36.4133 256.0929,-46.4133 263.0929,-46.4132\"/>\n</g>\n<!-- LOR | -->\n<g id=\"node4\" class=\"node\">\n<title>LOR |</title>\n<ellipse fill=\"none\" stroke=\"#000000\" cx=\"259.5928\" cy=\"-162\" rx=\"34.394\" ry=\"18\"/>\n<text text-anchor=\"middle\" x=\"259.5928\" y=\"-158.3\" font-family=\"Times,serif\" font-size=\"14.00\" fill=\"#000000\">LOR |</text>\n</g>\n<!-- LOR |&#45;&gt;CDL/VDL/ODL y -->\n<g id=\"edge1\" class=\"edge\">\n<title>LOR |&#45;&gt;CDL/VDL/ODL y</title>\n<path fill=\"none\" stroke=\"#000000\" d=\"M232.0164,-150.9078C204.7036,-139.9216 162.2998,-122.8654 129.3045,-109.5935\"/>\n<polygon fill=\"#000000\" stroke=\"#000000\" points=\"130.4157,-106.268 119.8319,-105.7833 127.8034,-112.7623 130.4157,-106.268\"/>\n</g>\n<!-- LOR |&#45;&gt;CDL/VDL/ODL x -->\n<g id=\"edge2\" class=\"edge\">\n<title>LOR |&#45;&gt;CDL/VDL/ODL x</title>\n<path fill=\"none\" stroke=\"#000000\" d=\"M259.5928,-143.8314C259.5928,-136.131 259.5928,-126.9743 259.5928,-118.4166\"/>\n<polygon fill=\"#000000\" stroke=\"#000000\" points=\"263.0929,-118.4132 259.5928,-108.4133 256.0929,-118.4133 263.0929,-118.4132\"/>\n</g>\n<!-- LOR |&#45;&gt;LOR &amp; -->\n<g id=\"edge5\" class=\"edge\">\n<title>LOR |&#45;&gt;LOR &amp;</title>\n<path fill=\"none\" stroke=\"#000000\" d=\"M289.6553,-152.8072C310.5477,-144.6682 336.8443,-130.5163 349.5928,-108 357.476,-94.0768 357.476,-85.9232 349.5928,-72 339.1954,-53.6361 319.7861,-40.836 301.6467,-32.324\"/>\n<polygon fill=\"#000000\" stroke=\"#000000\" points=\"302.8962,-29.0506 292.3311,-28.2569 300.0953,-35.4658 302.8962,-29.0506\"/>\n</g>\n</g>\n</svg>\n"
          },
          "metadata": {
            "tags": []
          },
          "execution_count": 29
        }
      ]
    },
    {
      "cell_type": "code",
      "metadata": {
        "id": "Eb9-C_DYBtG-",
        "colab": {
          "base_uri": "https://localhost:8080/",
          "height": 131
        },
        "outputId": "e7fe5860-d347-40cf-c82f-c075855f9a7c"
      },
      "source": [
        "msg = \"A.4.4 lexp >> rexp'\"\n",
        "print(msg)\n",
        "print('============================================')\n",
        "# 2) Specify a program\n",
        "program = x >> y\n",
        "# 3) Specify a list of mutants and mutation names\n",
        "mutations = [x, y, x&y, x|y, x^y, x<<y]\n",
        "mutationNames = {\n",
        "    \"y\": \"CDL/VDL/ODL x\", \n",
        "    \"x\": \"CDL/VDL/ODL y\",\n",
        "    \"x & y\": \"LOR &\",\n",
        "    \"x ^ y\": \"LOR ^\",\n",
        "    \"x | y\": \"LOR |\",\n",
        "    \"x << y\": \"SOR <<\"\n",
        "}\n",
        "# 4) Keep non equivalent mutants\n",
        "mutations = keepNonEquivalentMutants(program, mutations)\n",
        "# 5) Keep non redundant mutants\n",
        "mutations = keepNonRedundantMutants(mutations)\n",
        "# 6) Identify subsumption relations\n",
        "subsumptions = identifySubsumptions(program, mutations, conditions)\n",
        "print('============================================')\n",
        "# 7) Draw the subsumption relation graph\n",
        "createSubsumptionRelationGraph(subsumptions, mutations, mutationNames)"
      ],
      "execution_count": null,
      "outputs": [
        {
          "output_type": "stream",
          "text": [
            "A.4.4 lexp >> rexp'\n",
            "============================================\n",
            "============================================\n"
          ],
          "name": "stdout"
        },
        {
          "output_type": "execute_result",
          "data": {
            "text/plain": [
              "<graphviz.dot.Digraph at 0x7f25b9442198>"
            ],
            "image/svg+xml": "<?xml version=\"1.0\" encoding=\"UTF-8\" standalone=\"no\"?>\n<!DOCTYPE svg PUBLIC \"-//W3C//DTD SVG 1.1//EN\"\n \"http://www.w3.org/Graphics/SVG/1.1/DTD/svg11.dtd\">\n<!-- Generated by graphviz version 2.40.1 (20161225.0304)\n -->\n<!-- Title: G Pages: 1 -->\n<svg width=\"726pt\" height=\"44pt\"\n viewBox=\"0.00 0.00 725.84 44.00\" xmlns=\"http://www.w3.org/2000/svg\" xmlns:xlink=\"http://www.w3.org/1999/xlink\">\n<g id=\"graph0\" class=\"graph\" transform=\"scale(1 1) rotate(0) translate(4 40)\">\n<title>G</title>\n<polygon fill=\"#ffffff\" stroke=\"transparent\" points=\"-4,4 -4,-40 721.8391,-40 721.8391,4 -4,4\"/>\n<!-- CDL/VDL/ODL y -->\n<g id=\"node1\" class=\"node\">\n<title>CDL/VDL/ODL y</title>\n<ellipse fill=\"none\" stroke=\"#000000\" cx=\"80.5928\" cy=\"-18\" rx=\"80.6858\" ry=\"18\"/>\n<text text-anchor=\"middle\" x=\"80.5928\" y=\"-14.3\" font-family=\"Times,serif\" font-size=\"14.00\" fill=\"#000000\">CDL/VDL/ODL y</text>\n</g>\n<!-- CDL/VDL/ODL x -->\n<g id=\"node2\" class=\"node\">\n<title>CDL/VDL/ODL x</title>\n<ellipse fill=\"none\" stroke=\"#000000\" cx=\"259.5928\" cy=\"-18\" rx=\"80.6858\" ry=\"18\"/>\n<text text-anchor=\"middle\" x=\"259.5928\" y=\"-14.3\" font-family=\"Times,serif\" font-size=\"14.00\" fill=\"#000000\">CDL/VDL/ODL x</text>\n</g>\n<!-- LOR &amp; -->\n<g id=\"node3\" class=\"node\">\n<title>LOR &amp;</title>\n<ellipse fill=\"none\" stroke=\"#000000\" cx=\"397.5928\" cy=\"-18\" rx=\"39.7935\" ry=\"18\"/>\n<text text-anchor=\"middle\" x=\"397.5928\" y=\"-14.3\" font-family=\"Times,serif\" font-size=\"14.00\" fill=\"#000000\">LOR &amp;</text>\n</g>\n<!-- LOR | -->\n<g id=\"node4\" class=\"node\">\n<title>LOR |</title>\n<ellipse fill=\"none\" stroke=\"#000000\" cx=\"489.5928\" cy=\"-18\" rx=\"34.394\" ry=\"18\"/>\n<text text-anchor=\"middle\" x=\"489.5928\" y=\"-14.3\" font-family=\"Times,serif\" font-size=\"14.00\" fill=\"#000000\">LOR |</text>\n</g>\n<!-- LOR ^ -->\n<g id=\"node5\" class=\"node\">\n<title>LOR ^</title>\n<ellipse fill=\"none\" stroke=\"#000000\" cx=\"578.5928\" cy=\"-18\" rx=\"36.2938\" ry=\"18\"/>\n<text text-anchor=\"middle\" x=\"578.5928\" y=\"-14.3\" font-family=\"Times,serif\" font-size=\"14.00\" fill=\"#000000\">LOR ^</text>\n</g>\n<!-- SOR &lt;&lt; -->\n<g id=\"node6\" class=\"node\">\n<title>SOR &lt;&lt;</title>\n<ellipse fill=\"none\" stroke=\"#000000\" cx=\"675.5928\" cy=\"-18\" rx=\"42.4939\" ry=\"18\"/>\n<text text-anchor=\"middle\" x=\"675.5928\" y=\"-14.3\" font-family=\"Times,serif\" font-size=\"14.00\" fill=\"#000000\">SOR &lt;&lt;</text>\n</g>\n</g>\n</svg>\n"
          },
          "metadata": {
            "tags": []
          },
          "execution_count": 30
        }
      ]
    },
    {
      "cell_type": "code",
      "metadata": {
        "id": "nitD57u1Crep",
        "colab": {
          "base_uri": "https://localhost:8080/",
          "height": 572
        },
        "outputId": "9edeec7f-3590-4aee-fb9a-c2646ac0c474"
      },
      "source": [
        "msg = \"A.4.5 lexp << rexp'\"\n",
        "print(msg)\n",
        "print('============================================')\n",
        "# 2) Specify a program\n",
        "program = x << y\n",
        "# 3) Specify a list of mutants and mutation names\n",
        "mutations = [x, y, x&y, x|y, x^y, x>>y]\n",
        "mutationNames = {\n",
        "    \"y\": \"CDL/VDL/ODL x\", \n",
        "    \"x\": \"CDL/VDL/ODL y\",\n",
        "    \"x & y\": \"LOR &\",\n",
        "    \"x ^ y\": \"LOR ^\",\n",
        "    \"x | y\": \"LOR |\",\n",
        "    \"x >> y\": \"SOR >>\"\n",
        "}\n",
        "# 4) Keep non equivalent mutants\n",
        "mutations = keepNonEquivalentMutants(program, mutations)\n",
        "# 5) Keep non redundant mutants\n",
        "mutations = keepNonRedundantMutants(mutations)\n",
        "# 6) Identify subsumption relations\n",
        "subsumptions = identifySubsumptions(program, mutations, conditions)\n",
        "print('============================================')\n",
        "# 7) Draw the subsumption relation graph\n",
        "createSubsumptionRelationGraph(subsumptions, mutations, mutationNames)"
      ],
      "execution_count": null,
      "outputs": [
        {
          "output_type": "stream",
          "text": [
            "A.4.5 lexp << rexp'\n",
            "============================================\n",
            "x >> y subsumes x\n",
            "x subsumes y\n",
            "x & y subsumes y\n",
            "x | y subsumes y\n",
            "x ^ y subsumes y\n",
            "x >> y subsumes y\n",
            "x subsumes x | y\n",
            "x ^ y subsumes x | y\n",
            "x >> y subsumes x | y\n",
            "============================================\n"
          ],
          "name": "stdout"
        },
        {
          "output_type": "execute_result",
          "data": {
            "text/plain": [
              "<graphviz.dot.Digraph at 0x7f25b944aa20>"
            ],
            "image/svg+xml": "<?xml version=\"1.0\" encoding=\"UTF-8\" standalone=\"no\"?>\n<!DOCTYPE svg PUBLIC \"-//W3C//DTD SVG 1.1//EN\"\n \"http://www.w3.org/Graphics/SVG/1.1/DTD/svg11.dtd\">\n<!-- Generated by graphviz version 2.40.1 (20161225.0304)\n -->\n<!-- Title: G Pages: 1 -->\n<svg width=\"370pt\" height=\"260pt\"\n viewBox=\"0.00 0.00 370.47 260.00\" xmlns=\"http://www.w3.org/2000/svg\" xmlns:xlink=\"http://www.w3.org/1999/xlink\">\n<g id=\"graph0\" class=\"graph\" transform=\"scale(1 1) rotate(0) translate(4 256)\">\n<title>G</title>\n<polygon fill=\"#ffffff\" stroke=\"transparent\" points=\"-4,4 -4,-256 366.4668,-256 366.4668,4 -4,4\"/>\n<!-- CDL/VDL/ODL y -->\n<g id=\"node1\" class=\"node\">\n<title>CDL/VDL/ODL y</title>\n<ellipse fill=\"none\" stroke=\"#000000\" cx=\"266.6465\" cy=\"-162\" rx=\"80.6858\" ry=\"18\"/>\n<text text-anchor=\"middle\" x=\"266.6465\" y=\"-158.3\" font-family=\"Times,serif\" font-size=\"14.00\" fill=\"#000000\">CDL/VDL/ODL y</text>\n</g>\n<!-- CDL/VDL/ODL x -->\n<g id=\"node2\" class=\"node\">\n<title>CDL/VDL/ODL x</title>\n<ellipse fill=\"none\" stroke=\"#000000\" cx=\"169.6465\" cy=\"-18\" rx=\"80.6858\" ry=\"18\"/>\n<text text-anchor=\"middle\" x=\"169.6465\" y=\"-14.3\" font-family=\"Times,serif\" font-size=\"14.00\" fill=\"#000000\">CDL/VDL/ODL x</text>\n</g>\n<!-- CDL/VDL/ODL y&#45;&gt;CDL/VDL/ODL x -->\n<g id=\"edge2\" class=\"edge\">\n<title>CDL/VDL/ODL y&#45;&gt;CDL/VDL/ODL x</title>\n<path fill=\"none\" stroke=\"#000000\" d=\"M256.7644,-143.9755C246.4146,-125.4879 229.3672,-96.1055 212.6465,-72 206.1245,-62.5975 198.4856,-52.6966 191.4704,-43.9772\"/>\n<polygon fill=\"#000000\" stroke=\"#000000\" points=\"194.0249,-41.5716 184.9923,-36.0341 188.6002,-45.9958 194.0249,-41.5716\"/>\n</g>\n<!-- LOR | -->\n<g id=\"node4\" class=\"node\">\n<title>LOR |</title>\n<ellipse fill=\"none\" stroke=\"#000000\" cx=\"169.6465\" cy=\"-90\" rx=\"34.394\" ry=\"18\"/>\n<text text-anchor=\"middle\" x=\"169.6465\" y=\"-86.3\" font-family=\"Times,serif\" font-size=\"14.00\" fill=\"#000000\">LOR |</text>\n</g>\n<!-- CDL/VDL/ODL y&#45;&gt;LOR | -->\n<g id=\"edge7\" class=\"edge\">\n<title>CDL/VDL/ODL y&#45;&gt;LOR |</title>\n<path fill=\"none\" stroke=\"#000000\" d=\"M243.1655,-144.5708C229.4794,-134.412 212.133,-121.5364 197.727,-110.8433\"/>\n<polygon fill=\"#000000\" stroke=\"#000000\" points=\"199.7505,-107.9864 189.6347,-104.8366 195.5783,-113.6072 199.7505,-107.9864\"/>\n</g>\n<!-- LOR &amp; -->\n<g id=\"node3\" class=\"node\">\n<title>LOR &amp;</title>\n<ellipse fill=\"none\" stroke=\"#000000\" cx=\"39.6465\" cy=\"-90\" rx=\"39.7935\" ry=\"18\"/>\n<text text-anchor=\"middle\" x=\"39.6465\" y=\"-86.3\" font-family=\"Times,serif\" font-size=\"14.00\" fill=\"#000000\">LOR &amp;</text>\n</g>\n<!-- LOR &amp;&#45;&gt;CDL/VDL/ODL x -->\n<g id=\"edge3\" class=\"edge\">\n<title>LOR &amp;&#45;&gt;CDL/VDL/ODL x</title>\n<path fill=\"none\" stroke=\"#000000\" d=\"M65.0204,-75.9468C83.641,-65.6338 109.2775,-51.4351 130.5128,-39.6741\"/>\n<polygon fill=\"#000000\" stroke=\"#000000\" points=\"132.2587,-42.7081 139.3108,-34.8013 128.8671,-36.5846 132.2587,-42.7081\"/>\n</g>\n<!-- LOR |&#45;&gt;CDL/VDL/ODL x -->\n<g id=\"edge4\" class=\"edge\">\n<title>LOR |&#45;&gt;CDL/VDL/ODL x</title>\n<path fill=\"none\" stroke=\"#000000\" d=\"M169.6465,-71.8314C169.6465,-64.131 169.6465,-54.9743 169.6465,-46.4166\"/>\n<polygon fill=\"#000000\" stroke=\"#000000\" points=\"173.1466,-46.4132 169.6465,-36.4133 166.1466,-46.4133 173.1466,-46.4132\"/>\n</g>\n<!-- LOR ^ -->\n<g id=\"node5\" class=\"node\">\n<title>LOR ^</title>\n<ellipse fill=\"none\" stroke=\"#000000\" cx=\"93.6465\" cy=\"-162\" rx=\"36.2938\" ry=\"18\"/>\n<text text-anchor=\"middle\" x=\"93.6465\" y=\"-158.3\" font-family=\"Times,serif\" font-size=\"14.00\" fill=\"#000000\">LOR ^</text>\n</g>\n<!-- LOR ^&#45;&gt;CDL/VDL/ODL x -->\n<g id=\"edge5\" class=\"edge\">\n<title>LOR ^&#45;&gt;CDL/VDL/ODL x</title>\n<path fill=\"none\" stroke=\"#000000\" d=\"M98.3847,-144.0148C103.7322,-125.3012 113.4389,-95.5037 126.6465,-72 132.1633,-62.1825 139.4238,-52.2965 146.4045,-43.7151\"/>\n<polygon fill=\"#000000\" stroke=\"#000000\" points=\"149.191,-45.8394 152.9455,-35.9321 143.8322,-41.3357 149.191,-45.8394\"/>\n</g>\n<!-- LOR ^&#45;&gt;LOR | -->\n<g id=\"edge8\" class=\"edge\">\n<title>LOR ^&#45;&gt;LOR |</title>\n<path fill=\"none\" stroke=\"#000000\" d=\"M110.5133,-146.0209C120.7464,-136.3264 133.9774,-123.7918 145.3285,-113.0381\"/>\n<polygon fill=\"#000000\" stroke=\"#000000\" points=\"147.9743,-115.3528 152.8268,-105.9345 143.1601,-110.2711 147.9743,-115.3528\"/>\n</g>\n<!-- SOR &gt;&gt; -->\n<g id=\"node6\" class=\"node\">\n<title>SOR &gt;&gt;</title>\n<ellipse fill=\"none\" stroke=\"#000000\" cx=\"266.6465\" cy=\"-234\" rx=\"42.4939\" ry=\"18\"/>\n<text text-anchor=\"middle\" x=\"266.6465\" y=\"-230.3\" font-family=\"Times,serif\" font-size=\"14.00\" fill=\"#000000\">SOR &gt;&gt;</text>\n</g>\n<!-- SOR &gt;&gt;&#45;&gt;CDL/VDL/ODL y -->\n<g id=\"edge1\" class=\"edge\">\n<title>SOR &gt;&gt;&#45;&gt;CDL/VDL/ODL y</title>\n<path fill=\"none\" stroke=\"#000000\" d=\"M266.6465,-215.8314C266.6465,-208.131 266.6465,-198.9743 266.6465,-190.4166\"/>\n<polygon fill=\"#000000\" stroke=\"#000000\" points=\"270.1466,-190.4132 266.6465,-180.4133 263.1466,-190.4133 270.1466,-190.4132\"/>\n</g>\n<!-- SOR &gt;&gt;&#45;&gt;CDL/VDL/ODL x -->\n<g id=\"edge6\" class=\"edge\">\n<title>SOR &gt;&gt;&#45;&gt;CDL/VDL/ODL x</title>\n<path fill=\"none\" stroke=\"#000000\" d=\"M300.7417,-223.1866C320.8803,-214.8407 344.706,-201.0892 356.6465,-180 364.5297,-166.0768 364.1615,-158.1253 356.6465,-144 328.5801,-91.246 267.5001,-56.6059 222.7542,-37.234\"/>\n<polygon fill=\"#000000\" stroke=\"#000000\" points=\"224.0465,-33.9806 213.4716,-33.3309 221.3332,-40.4334 224.0465,-33.9806\"/>\n</g>\n<!-- SOR &gt;&gt;&#45;&gt;LOR | -->\n<g id=\"edge9\" class=\"edge\">\n<title>SOR &gt;&gt;&#45;&gt;LOR |</title>\n<path fill=\"none\" stroke=\"#000000\" d=\"M233.1117,-222.8547C213.1904,-214.3802 189.3963,-200.61 176.6465,-180 165.2903,-161.6427 164.1276,-136.9864 165.477,-118.123\"/>\n<polygon fill=\"#000000\" stroke=\"#000000\" points=\"168.9723,-118.3423 166.4698,-108.0473 162.006,-117.6559 168.9723,-118.3423\"/>\n</g>\n</g>\n</svg>\n"
          },
          "metadata": {
            "tags": []
          },
          "execution_count": 31
        }
      ]
    },
    {
      "cell_type": "markdown",
      "metadata": {
        "id": "GrKFwP_4DA7f"
      },
      "source": [
        "**A.5 Unary expressions with bits:**"
      ]
    },
    {
      "cell_type": "code",
      "metadata": {
        "id": "svoFZwoJDKWP"
      },
      "source": [
        "# 1) Declare variables and conditions\n",
        "x, y = BitVecs('x y', 32)\n",
        "conditions = True"
      ],
      "execution_count": null,
      "outputs": []
    },
    {
      "cell_type": "code",
      "metadata": {
        "id": "FXuGhjbADLY1",
        "colab": {
          "base_uri": "https://localhost:8080/",
          "height": 572
        },
        "outputId": "92eec8ad-d91f-43ef-9dd2-243cfac98d65"
      },
      "source": [
        "msg = \"A.5.1 exp\"\n",
        "print(msg)\n",
        "print('============================================')\n",
        "# 2) Specify a program\n",
        "program = x\n",
        "# 3) Specify a list of mutants and mutation names\n",
        "mutations = [-x,~x,x+1,x-1,x]\n",
        "# AOIS exp++ e AOIS exp-- are equivalents to the program\n",
        "mutationNames = {\n",
        "    \"-x\": \"AOIU -x\",\n",
        "    \"~x\": \"LOI ~x\",\n",
        "    \"x + 1\": \"AOIS ++x\",\n",
        "    \"x - 1\": \"AOIS --x\",\n",
        "    \"x\": \"AOIS x++/x--\"\n",
        "}\n",
        "# 4) Keep non equivalent mutants\n",
        "mutations = keepNonEquivalentMutants(program, mutations)\n",
        "# 5) Keep non redundant mutants\n",
        "mutations = keepNonRedundantMutants(mutations)\n",
        "# 6) Identify subsumption relations\n",
        "subsumptions = identifySubsumptions(program, mutations, conditions)\n",
        "print('============================================')\n",
        "# 7) Draw the subsumption relation graph\n",
        "createSubsumptionRelationGraph(subsumptions, mutations, mutationNames)"
      ],
      "execution_count": null,
      "outputs": [
        {
          "output_type": "stream",
          "text": [
            "A.5.1 exp\n",
            "============================================\n",
            "-x subsumes ~x\n",
            "x + 1 subsumes ~x\n",
            "x - 1 subsumes ~x\n",
            "-x subsumes x + 1\n",
            "~x subsumes x + 1\n",
            "x - 1 subsumes x + 1\n",
            "-x subsumes x - 1\n",
            "~x subsumes x - 1\n",
            "x + 1 subsumes x - 1\n",
            "============================================\n"
          ],
          "name": "stdout"
        },
        {
          "output_type": "execute_result",
          "data": {
            "text/plain": [
              "<graphviz.dot.Digraph at 0x7f25b9442b38>"
            ],
            "image/svg+xml": "<?xml version=\"1.0\" encoding=\"UTF-8\" standalone=\"no\"?>\n<!DOCTYPE svg PUBLIC \"-//W3C//DTD SVG 1.1//EN\"\n \"http://www.w3.org/Graphics/SVG/1.1/DTD/svg11.dtd\">\n<!-- Generated by graphviz version 2.40.1 (20161225.0304)\n -->\n<!-- Title: G Pages: 1 -->\n<svg width=\"193pt\" height=\"260pt\"\n viewBox=\"0.00 0.00 192.84 260.00\" xmlns=\"http://www.w3.org/2000/svg\" xmlns:xlink=\"http://www.w3.org/1999/xlink\">\n<g id=\"graph0\" class=\"graph\" transform=\"scale(1 1) rotate(0) translate(4 256)\">\n<title>G</title>\n<polygon fill=\"#ffffff\" stroke=\"transparent\" points=\"-4,4 -4,-256 188.8414,-256 188.8414,4 -4,4\"/>\n<!-- AOIU &#45;x -->\n<g id=\"node1\" class=\"node\">\n<title>AOIU &#45;x</title>\n<ellipse fill=\"none\" stroke=\"#000000\" cx=\"118.6955\" cy=\"-234\" rx=\"44.393\" ry=\"18\"/>\n<text text-anchor=\"middle\" x=\"118.6955\" y=\"-230.3\" font-family=\"Times,serif\" font-size=\"14.00\" fill=\"#000000\">AOIU &#45;x</text>\n</g>\n<!-- LOI ~x -->\n<g id=\"node2\" class=\"node\">\n<title>LOI ~x</title>\n<ellipse fill=\"none\" stroke=\"#000000\" cx=\"118.6955\" cy=\"-162\" rx=\"38.1938\" ry=\"18\"/>\n<text text-anchor=\"middle\" x=\"118.6955\" y=\"-158.3\" font-family=\"Times,serif\" font-size=\"14.00\" fill=\"#000000\">LOI ~x</text>\n</g>\n<!-- AOIU &#45;x&#45;&gt;LOI ~x -->\n<g id=\"edge1\" class=\"edge\">\n<title>AOIU &#45;x&#45;&gt;LOI ~x</title>\n<path fill=\"none\" stroke=\"#000000\" d=\"M118.6955,-215.8314C118.6955,-208.131 118.6955,-198.9743 118.6955,-190.4166\"/>\n<polygon fill=\"#000000\" stroke=\"#000000\" points=\"122.1956,-190.4132 118.6955,-180.4133 115.1956,-190.4133 122.1956,-190.4132\"/>\n</g>\n<!-- AOIS ++x -->\n<g id=\"node3\" class=\"node\">\n<title>AOIS ++x</title>\n<ellipse fill=\"none\" stroke=\"#000000\" cx=\"50.6955\" cy=\"-90\" rx=\"50.8918\" ry=\"18\"/>\n<text text-anchor=\"middle\" x=\"50.6955\" y=\"-86.3\" font-family=\"Times,serif\" font-size=\"14.00\" fill=\"#000000\">AOIS ++x</text>\n</g>\n<!-- AOIU &#45;x&#45;&gt;AOIS ++x -->\n<g id=\"edge4\" class=\"edge\">\n<title>AOIU &#45;x&#45;&gt;AOIS ++x</title>\n<path fill=\"none\" stroke=\"#000000\" d=\"M100.1608,-217.1536C90.3228,-207.242 78.8257,-193.9427 71.6955,-180 61.8026,-160.6548 56.4997,-136.5916 53.6991,-118.2154\"/>\n<polygon fill=\"#000000\" stroke=\"#000000\" points=\"57.1431,-117.5667 52.3235,-108.1315 50.2073,-118.5129 57.1431,-117.5667\"/>\n</g>\n<!-- AOIS &#45;&#45;x -->\n<g id=\"node4\" class=\"node\">\n<title>AOIS &#45;&#45;x</title>\n<ellipse fill=\"none\" stroke=\"#000000\" cx=\"138.6955\" cy=\"-18\" rx=\"46.2923\" ry=\"18\"/>\n<text text-anchor=\"middle\" x=\"138.6955\" y=\"-14.3\" font-family=\"Times,serif\" font-size=\"14.00\" fill=\"#000000\">AOIS &#45;&#45;x</text>\n</g>\n<!-- AOIU &#45;x&#45;&gt;AOIS &#45;&#45;x -->\n<g id=\"edge7\" class=\"edge\">\n<title>AOIU &#45;x&#45;&gt;AOIS &#45;&#45;x</title>\n<path fill=\"none\" stroke=\"#000000\" d=\"M138.5,-217.7137C148.7352,-207.9773 160.2067,-194.6667 165.6955,-180 182.6317,-134.7447 165.3126,-78.4135 151.6695,-45.5027\"/>\n<polygon fill=\"#000000\" stroke=\"#000000\" points=\"154.7765,-43.8691 147.5955,-36.079 148.3512,-46.6469 154.7765,-43.8691\"/>\n</g>\n<!-- LOI ~x&#45;&gt;AOIS ++x -->\n<g id=\"edge5\" class=\"edge\">\n<title>LOI ~x&#45;&gt;AOIS ++x</title>\n<path fill=\"none\" stroke=\"#000000\" d=\"M98.2621,-146.3771C88.594,-137.2807 77.2935,-125.5962 68.046,-115.2257\"/>\n<polygon fill=\"#000000\" stroke=\"#000000\" points=\"70.6359,-112.8701 61.4355,-107.6161 65.3513,-117.4607 70.6359,-112.8701\"/>\n</g>\n<!-- LOI ~x&#45;&gt;AOIS &#45;&#45;x -->\n<g id=\"edge8\" class=\"edge\">\n<title>LOI ~x&#45;&gt;AOIS &#45;&#45;x</title>\n<path fill=\"none\" stroke=\"#000000\" d=\"M116.5553,-143.7623C117.511,-119.0928 123.3882,-74.8598 129.3383,-45.9731\"/>\n<polygon fill=\"#000000\" stroke=\"#000000\" points=\"132.782,-46.6096 131.5248,-36.0896 125.9473,-45.0975 132.782,-46.6096\"/>\n</g>\n<!-- AOIS ++x&#45;&gt;LOI ~x -->\n<g id=\"edge2\" class=\"edge\">\n<title>AOIS ++x&#45;&gt;LOI ~x</title>\n<path fill=\"none\" stroke=\"#000000\" d=\"M72.0859,-106.5267C81.5593,-115.5064 92.4533,-126.7984 101.4096,-136.8467\"/>\n<polygon fill=\"#000000\" stroke=\"#000000\" points=\"98.9151,-139.3123 108.1128,-144.5708 104.2018,-134.7242 98.9151,-139.3123\"/>\n</g>\n<!-- AOIS ++x&#45;&gt;AOIS &#45;&#45;x -->\n<g id=\"edge9\" class=\"edge\">\n<title>AOIS ++x&#45;&gt;AOIS &#45;&#45;x</title>\n<path fill=\"none\" stroke=\"#000000\" d=\"M66.1196,-72.5708C77.2273,-62.6448 92.4074,-50.1251 106.074,-39.5818\"/>\n<polygon fill=\"#000000\" stroke=\"#000000\" points=\"108.4857,-42.1454 114.3378,-33.3134 104.2553,-36.5683 108.4857,-42.1454\"/>\n</g>\n<!-- AOIS &#45;&#45;x&#45;&gt;LOI ~x -->\n<g id=\"edge3\" class=\"edge\">\n<title>AOIS &#45;&#45;x&#45;&gt;LOI ~x</title>\n<path fill=\"none\" stroke=\"#000000\" d=\"M140.8382,-36.1727C139.8888,-60.8697 133.9888,-105.2595 128.0235,-134.1684\"/>\n<polygon fill=\"#000000\" stroke=\"#000000\" points=\"124.5795,-133.5329 125.8319,-144.0535 131.4136,-135.0482 124.5795,-133.5329\"/>\n</g>\n<!-- AOIS &#45;&#45;x&#45;&gt;AOIS ++x -->\n<g id=\"edge6\" class=\"edge\">\n<title>AOIS &#45;&#45;x&#45;&gt;AOIS ++x</title>\n<path fill=\"none\" stroke=\"#000000\" d=\"M123.5372,-35.1915C112.6334,-44.9518 97.715,-57.2769 84.1607,-67.7663\"/>\n<polygon fill=\"#000000\" stroke=\"#000000\" points=\"81.7819,-65.1784 75.9456,-74.0209 86.0222,-70.748 81.7819,-65.1784\"/>\n</g>\n</g>\n</svg>\n"
          },
          "metadata": {
            "tags": []
          },
          "execution_count": 33
        }
      ]
    },
    {
      "cell_type": "code",
      "metadata": {
        "id": "x5p3K72sEZn5",
        "colab": {
          "base_uri": "https://localhost:8080/",
          "height": 131
        },
        "outputId": "a2be3e22-c93d-42d3-86c6-7d33670bdeda"
      },
      "source": [
        "msg = \"A.5.2 +exp\"\n",
        "print(msg)\n",
        "print('============================================')\n",
        "# 2) Specify a program\n",
        "program = +x\n",
        "# 3) Specify a list of mutants and mutation names\n",
        "mutations = [x, ~program]\n",
        "mutationNames = {\n",
        "    \"x\": \"AODU/ODL x\",\n",
        "    \"~x\": \"LOI ~x\"\n",
        "}\n",
        "# 4) Keep non equivalent mutants\n",
        "mutations = keepNonEquivalentMutants(program, mutations)\n",
        "# 5) Keep non redundant mutants\n",
        "mutations = keepNonRedundantMutants(mutations)\n",
        "# 6) Identify subsumption relations\n",
        "subsumptions = identifySubsumptions(program, mutations, conditions)\n",
        "print('============================================')\n",
        "# 7) Draw the subsumption relation graph\n",
        "createSubsumptionRelationGraph(subsumptions, mutations, mutationNames)"
      ],
      "execution_count": null,
      "outputs": [
        {
          "output_type": "stream",
          "text": [
            "A.5.2 +exp\n",
            "============================================\n",
            "============================================\n"
          ],
          "name": "stdout"
        },
        {
          "output_type": "execute_result",
          "data": {
            "text/plain": [
              "<graphviz.dot.Digraph at 0x7f25b944aa90>"
            ],
            "image/svg+xml": "<?xml version=\"1.0\" encoding=\"UTF-8\" standalone=\"no\"?>\n<!DOCTYPE svg PUBLIC \"-//W3C//DTD SVG 1.1//EN\"\n \"http://www.w3.org/Graphics/SVG/1.1/DTD/svg11.dtd\">\n<!-- Generated by graphviz version 2.40.1 (20161225.0304)\n -->\n<!-- Title: G Pages: 1 -->\n<svg width=\"85pt\" height=\"44pt\"\n viewBox=\"0.00 0.00 84.69 44.00\" xmlns=\"http://www.w3.org/2000/svg\" xmlns:xlink=\"http://www.w3.org/1999/xlink\">\n<g id=\"graph0\" class=\"graph\" transform=\"scale(1 1) rotate(0) translate(4 40)\">\n<title>G</title>\n<polygon fill=\"#ffffff\" stroke=\"transparent\" points=\"-4,4 -4,-40 80.6932,-40 80.6932,4 -4,4\"/>\n<!-- LOI ~x -->\n<g id=\"node1\" class=\"node\">\n<title>LOI ~x</title>\n<ellipse fill=\"none\" stroke=\"#000000\" cx=\"38.3466\" cy=\"-18\" rx=\"38.1938\" ry=\"18\"/>\n<text text-anchor=\"middle\" x=\"38.3466\" y=\"-14.3\" font-family=\"Times,serif\" font-size=\"14.00\" fill=\"#000000\">LOI ~x</text>\n</g>\n</g>\n</svg>\n"
          },
          "metadata": {
            "tags": []
          },
          "execution_count": 34
        }
      ]
    },
    {
      "cell_type": "code",
      "metadata": {
        "id": "wIfeQf0zFBpT",
        "colab": {
          "base_uri": "https://localhost:8080/",
          "height": 244
        },
        "outputId": "3a5e87ac-139e-4f8a-9f8b-e95394a91c35"
      },
      "source": [
        "msg = \"A.5.3 -exp\"\n",
        "print(msg)\n",
        "print('============================================')\n",
        "# 2) Specify a program\n",
        "program = -x\n",
        "# 3) Specify a list of mutants and mutation names\n",
        "mutations = [x,~program]\n",
        "mutationNames = {\n",
        "    \"x\": \"AODU/ODL x\",\n",
        "    \"~(-x)\": \"LOI ~x\"\n",
        "}\n",
        "# 4) Keep non equivalent mutants\n",
        "mutations = keepNonEquivalentMutants(program, mutations)\n",
        "# 5) Keep non redundant mutants\n",
        "mutations = keepNonRedundantMutants(mutations)\n",
        "# 6) Identify subsumption relations\n",
        "subsumptions = identifySubsumptions(program, mutations, conditions)\n",
        "print('============================================')\n",
        "# 7) Draw the subsumption relation graph\n",
        "createSubsumptionRelationGraph(subsumptions, mutations, mutationNames)"
      ],
      "execution_count": null,
      "outputs": [
        {
          "output_type": "stream",
          "text": [
            "A.5.3 -exp\n",
            "============================================\n",
            "x subsumes ~(-x)\n",
            "============================================\n"
          ],
          "name": "stdout"
        },
        {
          "output_type": "execute_result",
          "data": {
            "text/plain": [
              "<graphviz.dot.Digraph at 0x7f25b93f5278>"
            ],
            "image/svg+xml": "<?xml version=\"1.0\" encoding=\"UTF-8\" standalone=\"no\"?>\n<!DOCTYPE svg PUBLIC \"-//W3C//DTD SVG 1.1//EN\"\n \"http://www.w3.org/Graphics/SVG/1.1/DTD/svg11.dtd\">\n<!-- Generated by graphviz version 2.40.1 (20161225.0304)\n -->\n<!-- Title: G Pages: 1 -->\n<svg width=\"142pt\" height=\"116pt\"\n viewBox=\"0.00 0.00 141.89 116.00\" xmlns=\"http://www.w3.org/2000/svg\" xmlns:xlink=\"http://www.w3.org/1999/xlink\">\n<g id=\"graph0\" class=\"graph\" transform=\"scale(1 1) rotate(0) translate(4 112)\">\n<title>G</title>\n<polygon fill=\"#ffffff\" stroke=\"transparent\" points=\"-4,4 -4,-112 137.8881,-112 137.8881,4 -4,4\"/>\n<!-- AODU/ODL x -->\n<g id=\"node1\" class=\"node\">\n<title>AODU/ODL x</title>\n<ellipse fill=\"none\" stroke=\"#000000\" cx=\"66.9441\" cy=\"-90\" rx=\"66.8882\" ry=\"18\"/>\n<text text-anchor=\"middle\" x=\"66.9441\" y=\"-86.3\" font-family=\"Times,serif\" font-size=\"14.00\" fill=\"#000000\">AODU/ODL x</text>\n</g>\n<!-- LOI ~x -->\n<g id=\"node2\" class=\"node\">\n<title>LOI ~x</title>\n<ellipse fill=\"none\" stroke=\"#000000\" cx=\"66.9441\" cy=\"-18\" rx=\"38.1938\" ry=\"18\"/>\n<text text-anchor=\"middle\" x=\"66.9441\" y=\"-14.3\" font-family=\"Times,serif\" font-size=\"14.00\" fill=\"#000000\">LOI ~x</text>\n</g>\n<!-- AODU/ODL x&#45;&gt;LOI ~x -->\n<g id=\"edge1\" class=\"edge\">\n<title>AODU/ODL x&#45;&gt;LOI ~x</title>\n<path fill=\"none\" stroke=\"#000000\" d=\"M66.9441,-71.8314C66.9441,-64.131 66.9441,-54.9743 66.9441,-46.4166\"/>\n<polygon fill=\"#000000\" stroke=\"#000000\" points=\"70.4442,-46.4132 66.9441,-36.4133 63.4442,-46.4133 70.4442,-46.4132\"/>\n</g>\n</g>\n</svg>\n"
          },
          "metadata": {
            "tags": []
          },
          "execution_count": 35
        }
      ]
    },
    {
      "cell_type": "code",
      "metadata": {
        "id": "J7rd4mYCFqmB",
        "colab": {
          "base_uri": "https://localhost:8080/",
          "height": 182
        },
        "outputId": "dbeac532-845e-48ac-c5af-b265f7fd1785"
      },
      "source": [
        "def subsumption(p,m1,m2,conds):\n",
        "  t1 = is_non_empty(p, conds, m2)\n",
        "  t2 = is_subset(p, conds, m1, m2)\n",
        "  t3 = is_strict(p, conds, m1, m2)\n",
        "  #if t1 == 1 and t2 == 1:\n",
        "  if t1 == 1 and t2 == 1 and t3 == 1:\n",
        "    print(str(m2)+\" subsumes \"+str(m1))\n",
        "    return (m2,m1)\n",
        "  else:\n",
        "    return None\n",
        "\n",
        "msg = \"A.5.4 ++exp\"\n",
        "print(msg)\n",
        "print('============================================')\n",
        "# 2) Specify a program\n",
        "program = x+1\n",
        "# 3) Specify a list of mutants and mutation names\n",
        "mutations = [x,~program]\n",
        "mutationNames = {\n",
        "    \"x\": \"AORS/AODS/ODL x\",\n",
        "    \"~(x + 1)\": \"LOI ~x\"\n",
        "}\n",
        "# 4) Keep non equivalent mutants\n",
        "mutations = keepNonEquivalentMutants(program, mutations)\n",
        "print(str((mutations)))\n",
        "# 5) Keep non redundant mutants\n",
        "mutations = keepNonRedundantMutants(mutations)\n",
        "print(str((mutations)))\n",
        "# 6) Identify subsumption relations\n",
        "subsumptions = identifySubsumptions(program, mutations, conditions)\n",
        "print(str(subsumptions))\n",
        "print('============================================')\n",
        "# 7) Draw the subsumption relation graph\n",
        "createSubsumptionRelationGraph(subsumptions, mutations, mutationNames)"
      ],
      "execution_count": null,
      "outputs": [
        {
          "output_type": "stream",
          "text": [
            "A.5.4 ++exp\n",
            "============================================\n",
            "[x, ~(x + 1)]\n",
            "[x, ~(x + 1)]\n",
            "[]\n",
            "============================================\n"
          ],
          "name": "stdout"
        },
        {
          "output_type": "execute_result",
          "data": {
            "text/plain": [
              "<graphviz.dot.Digraph at 0x7f25b9442780>"
            ],
            "image/svg+xml": "<?xml version=\"1.0\" encoding=\"UTF-8\" standalone=\"no\"?>\n<!DOCTYPE svg PUBLIC \"-//W3C//DTD SVG 1.1//EN\"\n \"http://www.w3.org/Graphics/SVG/1.1/DTD/svg11.dtd\">\n<!-- Generated by graphviz version 2.40.1 (20161225.0304)\n -->\n<!-- Title: G Pages: 1 -->\n<svg width=\"288pt\" height=\"44pt\"\n viewBox=\"0.00 0.00 288.29 44.00\" xmlns=\"http://www.w3.org/2000/svg\" xmlns:xlink=\"http://www.w3.org/1999/xlink\">\n<g id=\"graph0\" class=\"graph\" transform=\"scale(1 1) rotate(0) translate(4 40)\">\n<title>G</title>\n<polygon fill=\"#ffffff\" stroke=\"transparent\" points=\"-4,4 -4,-40 284.2884,-40 284.2884,4 -4,4\"/>\n<!-- AORS/AODS/ODL x -->\n<g id=\"node1\" class=\"node\">\n<title>AORS/AODS/ODL x</title>\n<ellipse fill=\"none\" stroke=\"#000000\" cx=\"92.9418\" cy=\"-18\" rx=\"92.8835\" ry=\"18\"/>\n<text text-anchor=\"middle\" x=\"92.9418\" y=\"-14.3\" font-family=\"Times,serif\" font-size=\"14.00\" fill=\"#000000\">AORS/AODS/ODL x</text>\n</g>\n<!-- LOI ~x -->\n<g id=\"node2\" class=\"node\">\n<title>LOI ~x</title>\n<ellipse fill=\"none\" stroke=\"#000000\" cx=\"241.9418\" cy=\"-18\" rx=\"38.1938\" ry=\"18\"/>\n<text text-anchor=\"middle\" x=\"241.9418\" y=\"-14.3\" font-family=\"Times,serif\" font-size=\"14.00\" fill=\"#000000\">LOI ~x</text>\n</g>\n</g>\n</svg>\n"
          },
          "metadata": {
            "tags": []
          },
          "execution_count": 36
        }
      ]
    },
    {
      "cell_type": "code",
      "metadata": {
        "id": "AUyKm8zNGIw2",
        "colab": {
          "base_uri": "https://localhost:8080/",
          "height": 131
        },
        "outputId": "7c191362-0491-4597-c039-df50e342170a"
      },
      "source": [
        "msg = \"A.5.5 exp++\"\n",
        "print(msg)\n",
        "print('============================================')\n",
        "# 2) Specify a program\n",
        "program = x\n",
        "# 3) Specify a list of mutants and mutation names\n",
        "mutations = [x,~program]\n",
        "# AORS, AODS e ODL são mutantes equivalentes ao programa\n",
        "mutationNames = {\n",
        "    \"x\": \"AORS/AODS/ODL x\",\n",
        "    \"~x\": \"LOI ~x\"\n",
        "}\n",
        "# 4) Keep non equivalent mutants\n",
        "mutations = keepNonEquivalentMutants(program, mutations)\n",
        "# 5) Keep non redundant mutants\n",
        "mutations = keepNonRedundantMutants(mutations)\n",
        "# 6) Identify subsumption relations\n",
        "subsumptions = identifySubsumptions(program, mutations, conditions)\n",
        "print('============================================')\n",
        "# 7) Draw the subsumption relation graph\n",
        "createSubsumptionRelationGraph(subsumptions, mutations, mutationNames)"
      ],
      "execution_count": null,
      "outputs": [
        {
          "output_type": "stream",
          "text": [
            "A.5.5 exp++\n",
            "============================================\n",
            "============================================\n"
          ],
          "name": "stdout"
        },
        {
          "output_type": "execute_result",
          "data": {
            "text/plain": [
              "<graphviz.dot.Digraph at 0x7f25b93fdb00>"
            ],
            "image/svg+xml": "<?xml version=\"1.0\" encoding=\"UTF-8\" standalone=\"no\"?>\n<!DOCTYPE svg PUBLIC \"-//W3C//DTD SVG 1.1//EN\"\n \"http://www.w3.org/Graphics/SVG/1.1/DTD/svg11.dtd\">\n<!-- Generated by graphviz version 2.40.1 (20161225.0304)\n -->\n<!-- Title: G Pages: 1 -->\n<svg width=\"85pt\" height=\"44pt\"\n viewBox=\"0.00 0.00 84.69 44.00\" xmlns=\"http://www.w3.org/2000/svg\" xmlns:xlink=\"http://www.w3.org/1999/xlink\">\n<g id=\"graph0\" class=\"graph\" transform=\"scale(1 1) rotate(0) translate(4 40)\">\n<title>G</title>\n<polygon fill=\"#ffffff\" stroke=\"transparent\" points=\"-4,4 -4,-40 80.6932,-40 80.6932,4 -4,4\"/>\n<!-- LOI ~x -->\n<g id=\"node1\" class=\"node\">\n<title>LOI ~x</title>\n<ellipse fill=\"none\" stroke=\"#000000\" cx=\"38.3466\" cy=\"-18\" rx=\"38.1938\" ry=\"18\"/>\n<text text-anchor=\"middle\" x=\"38.3466\" y=\"-14.3\" font-family=\"Times,serif\" font-size=\"14.00\" fill=\"#000000\">LOI ~x</text>\n</g>\n</g>\n</svg>\n"
          },
          "metadata": {
            "tags": []
          },
          "execution_count": 37
        }
      ]
    },
    {
      "cell_type": "code",
      "metadata": {
        "id": "bW7tuPHEGtXM",
        "colab": {
          "base_uri": "https://localhost:8080/",
          "height": 131
        },
        "outputId": "3ff835bf-f15c-4661-d06f-09aed599a287"
      },
      "source": [
        "msg = \"A.5.6 --exp\"\n",
        "print(msg)\n",
        "print('============================================')\n",
        "# 2) Specify a program\n",
        "program = x-1\n",
        "# 3) Specify a list of mutants and mutation names\n",
        "mutations = [x,~program]\n",
        "# AORS, AODS e ODL são mutantes equivalentes ao programa\n",
        "mutationNames = {\n",
        "    \"x\": \"AORS/AODS/ODL x\",\n",
        "    \"~(x - 1)\": \"LOI ~x\"\n",
        "}\n",
        "# 4) Keep non equivalent mutants\n",
        "mutations = keepNonEquivalentMutants(program, mutations)\n",
        "# 5) Keep non redundant mutants\n",
        "mutations = keepNonRedundantMutants(mutations)\n",
        "# 6) Identify subsumption relations\n",
        "subsumptions = identifySubsumptions(program, mutations, conditions)\n",
        "print('============================================')\n",
        "# 7) Draw the subsumption relation graph\n",
        "createSubsumptionRelationGraph(subsumptions, mutations, mutationNames)"
      ],
      "execution_count": null,
      "outputs": [
        {
          "output_type": "stream",
          "text": [
            "A.5.6 --exp\n",
            "============================================\n",
            "============================================\n"
          ],
          "name": "stdout"
        },
        {
          "output_type": "execute_result",
          "data": {
            "text/plain": [
              "<graphviz.dot.Digraph at 0x7f25b93f5748>"
            ],
            "image/svg+xml": "<?xml version=\"1.0\" encoding=\"UTF-8\" standalone=\"no\"?>\n<!DOCTYPE svg PUBLIC \"-//W3C//DTD SVG 1.1//EN\"\n \"http://www.w3.org/Graphics/SVG/1.1/DTD/svg11.dtd\">\n<!-- Generated by graphviz version 2.40.1 (20161225.0304)\n -->\n<!-- Title: G Pages: 1 -->\n<svg width=\"288pt\" height=\"44pt\"\n viewBox=\"0.00 0.00 288.29 44.00\" xmlns=\"http://www.w3.org/2000/svg\" xmlns:xlink=\"http://www.w3.org/1999/xlink\">\n<g id=\"graph0\" class=\"graph\" transform=\"scale(1 1) rotate(0) translate(4 40)\">\n<title>G</title>\n<polygon fill=\"#ffffff\" stroke=\"transparent\" points=\"-4,4 -4,-40 284.2884,-40 284.2884,4 -4,4\"/>\n<!-- AORS/AODS/ODL x -->\n<g id=\"node1\" class=\"node\">\n<title>AORS/AODS/ODL x</title>\n<ellipse fill=\"none\" stroke=\"#000000\" cx=\"92.9418\" cy=\"-18\" rx=\"92.8835\" ry=\"18\"/>\n<text text-anchor=\"middle\" x=\"92.9418\" y=\"-14.3\" font-family=\"Times,serif\" font-size=\"14.00\" fill=\"#000000\">AORS/AODS/ODL x</text>\n</g>\n<!-- LOI ~x -->\n<g id=\"node2\" class=\"node\">\n<title>LOI ~x</title>\n<ellipse fill=\"none\" stroke=\"#000000\" cx=\"241.9418\" cy=\"-18\" rx=\"38.1938\" ry=\"18\"/>\n<text text-anchor=\"middle\" x=\"241.9418\" y=\"-14.3\" font-family=\"Times,serif\" font-size=\"14.00\" fill=\"#000000\">LOI ~x</text>\n</g>\n</g>\n</svg>\n"
          },
          "metadata": {
            "tags": []
          },
          "execution_count": 38
        }
      ]
    },
    {
      "cell_type": "code",
      "metadata": {
        "id": "K2Afo2xTHMRp",
        "colab": {
          "base_uri": "https://localhost:8080/",
          "height": 131
        },
        "outputId": "312d7c1a-37f6-4ac6-8fe1-7fb3f41d30cb"
      },
      "source": [
        "msg = \"A.5.7 exp--\"\n",
        "print(msg)\n",
        "print('============================================')\n",
        "# 2) Specify a program\n",
        "program = x\n",
        "# 3) Specify a list of mutants and mutation names\n",
        "mutations = [x,~program]\n",
        "# AORS, AODS e ODL são mutantes equivalentes ao programa\n",
        "mutationNames = {\n",
        "    \"x\": \"AORS/AODS/ODL x\",\n",
        "    \"~x\": \"LOI ~x\"\n",
        "}\n",
        "# 4) Keep non equivalent mutants\n",
        "mutations = keepNonEquivalentMutants(program, mutations)\n",
        "# 5) Keep non redundant mutants\n",
        "mutations = keepNonRedundantMutants(mutations)\n",
        "# 6) Identify subsumption relations\n",
        "subsumptions = identifySubsumptions(program, mutations, conditions)\n",
        "print('============================================')\n",
        "# 7) Draw the subsumption relation graph\n",
        "createSubsumptionRelationGraph(subsumptions, mutations, mutationNames)"
      ],
      "execution_count": null,
      "outputs": [
        {
          "output_type": "stream",
          "text": [
            "A.5.7 exp--\n",
            "============================================\n",
            "============================================\n"
          ],
          "name": "stdout"
        },
        {
          "output_type": "execute_result",
          "data": {
            "text/plain": [
              "<graphviz.dot.Digraph at 0x7f25b93fdfd0>"
            ],
            "image/svg+xml": "<?xml version=\"1.0\" encoding=\"UTF-8\" standalone=\"no\"?>\n<!DOCTYPE svg PUBLIC \"-//W3C//DTD SVG 1.1//EN\"\n \"http://www.w3.org/Graphics/SVG/1.1/DTD/svg11.dtd\">\n<!-- Generated by graphviz version 2.40.1 (20161225.0304)\n -->\n<!-- Title: G Pages: 1 -->\n<svg width=\"85pt\" height=\"44pt\"\n viewBox=\"0.00 0.00 84.69 44.00\" xmlns=\"http://www.w3.org/2000/svg\" xmlns:xlink=\"http://www.w3.org/1999/xlink\">\n<g id=\"graph0\" class=\"graph\" transform=\"scale(1 1) rotate(0) translate(4 40)\">\n<title>G</title>\n<polygon fill=\"#ffffff\" stroke=\"transparent\" points=\"-4,4 -4,-40 80.6932,-40 80.6932,4 -4,4\"/>\n<!-- LOI ~x -->\n<g id=\"node1\" class=\"node\">\n<title>LOI ~x</title>\n<ellipse fill=\"none\" stroke=\"#000000\" cx=\"38.3466\" cy=\"-18\" rx=\"38.1938\" ry=\"18\"/>\n<text text-anchor=\"middle\" x=\"38.3466\" y=\"-14.3\" font-family=\"Times,serif\" font-size=\"14.00\" fill=\"#000000\">LOI ~x</text>\n</g>\n</g>\n</svg>\n"
          },
          "metadata": {
            "tags": []
          },
          "execution_count": 39
        }
      ]
    },
    {
      "cell_type": "code",
      "metadata": {
        "id": "IiD0j0XiHsvO",
        "colab": {
          "base_uri": "https://localhost:8080/",
          "height": 131
        },
        "outputId": "eeb7f2c6-5e38-456e-a2f4-688920df3cbd"
      },
      "source": [
        "msg = \"A.5.9 ~exp\"\n",
        "print(msg)\n",
        "print('============================================')\n",
        "# 2) Specify a program\n",
        "program = ~x\n",
        "# 3) Specify a list of mutants and mutation names\n",
        "mutations = [x]\n",
        "mutationNames = {\n",
        "    \"x\": \"LOD/ODL/AODU X\",\n",
        "}\n",
        "# 4) Keep non equivalent mutants\n",
        "mutations = keepNonEquivalentMutants(program, mutations)\n",
        "# 5) Keep non redundant mutants\n",
        "mutations = keepNonRedundantMutants(mutations)\n",
        "# 6) Identify subsumption relations\n",
        "subsumptions = identifySubsumptions(program, mutations, conditions)\n",
        "print('============================================')\n",
        "# 7) Draw the subsumption relation graph\n",
        "createSubsumptionRelationGraph(subsumptions, mutations, mutationNames)"
      ],
      "execution_count": null,
      "outputs": [
        {
          "output_type": "stream",
          "text": [
            "A.5.9 ~exp\n",
            "============================================\n",
            "============================================\n"
          ],
          "name": "stdout"
        },
        {
          "output_type": "execute_result",
          "data": {
            "text/plain": [
              "<graphviz.dot.Digraph at 0x7f25b9444f98>"
            ],
            "image/svg+xml": "<?xml version=\"1.0\" encoding=\"UTF-8\" standalone=\"no\"?>\n<!DOCTYPE svg PUBLIC \"-//W3C//DTD SVG 1.1//EN\"\n \"http://www.w3.org/Graphics/SVG/1.1/DTD/svg11.dtd\">\n<!-- Generated by graphviz version 2.40.1 (20161225.0304)\n -->\n<!-- Title: G Pages: 1 -->\n<svg width=\"190pt\" height=\"44pt\"\n viewBox=\"0.00 0.00 189.98 44.00\" xmlns=\"http://www.w3.org/2000/svg\" xmlns:xlink=\"http://www.w3.org/1999/xlink\">\n<g id=\"graph0\" class=\"graph\" transform=\"scale(1 1) rotate(0) translate(4 40)\">\n<title>G</title>\n<polygon fill=\"#ffffff\" stroke=\"transparent\" points=\"-4,4 -4,-40 185.9839,-40 185.9839,4 -4,4\"/>\n<!-- LOD/ODL/AODU X -->\n<g id=\"node1\" class=\"node\">\n<title>LOD/ODL/AODU X</title>\n<ellipse fill=\"none\" stroke=\"#000000\" cx=\"90.9919\" cy=\"-18\" rx=\"90.9839\" ry=\"18\"/>\n<text text-anchor=\"middle\" x=\"90.9919\" y=\"-14.3\" font-family=\"Times,serif\" font-size=\"14.00\" fill=\"#000000\">LOD/ODL/AODU X</text>\n</g>\n</g>\n</svg>\n"
          },
          "metadata": {
            "tags": []
          },
          "execution_count": 40
        }
      ]
    },
    {
      "cell_type": "markdown",
      "metadata": {
        "id": "V8oBWrEwIG-D"
      },
      "source": [
        "Unary expression with boolean:"
      ]
    },
    {
      "cell_type": "code",
      "metadata": {
        "id": "uOlL63rCIQl7",
        "colab": {
          "base_uri": "https://localhost:8080/",
          "height": 131
        },
        "outputId": "564590b7-2b0a-48e1-ebbc-16f8307a8645"
      },
      "source": [
        "x, y = Bools('x y')\n",
        "msg = \"A.5.8 !exp\"\n",
        "print(msg)\n",
        "print('============================================')\n",
        "# 2) Specify a program\n",
        "program = Not(x)\n",
        "# 3) Specify a list of mutants and mutation names\n",
        "mutations = [x]\n",
        "mutationNames = {\n",
        "    \"x\": \"COD/ODL x\",\n",
        "}\n",
        "# 4) Keep non equivalent mutants\n",
        "mutations = keepNonEquivalentMutants(program, mutations)\n",
        "# 5) Keep non redundant mutants\n",
        "mutations = keepNonRedundantMutants(mutations)\n",
        "# 6) Identify subsumption relations\n",
        "subsumptions = identifySubsumptions(program, mutations, conditions)\n",
        "print('============================================')\n",
        "# 7) Draw the subsumption relation graph\n",
        "createSubsumptionRelationGraph(subsumptions, mutations, mutationNames)"
      ],
      "execution_count": null,
      "outputs": [
        {
          "output_type": "stream",
          "text": [
            "A.5.8 !exp\n",
            "============================================\n",
            "============================================\n"
          ],
          "name": "stdout"
        },
        {
          "output_type": "execute_result",
          "data": {
            "text/plain": [
              "<graphviz.dot.Digraph at 0x7f25b93f5390>"
            ],
            "image/svg+xml": "<?xml version=\"1.0\" encoding=\"UTF-8\" standalone=\"no\"?>\n<!DOCTYPE svg PUBLIC \"-//W3C//DTD SVG 1.1//EN\"\n \"http://www.w3.org/Graphics/SVG/1.1/DTD/svg11.dtd\">\n<!-- Generated by graphviz version 2.40.1 (20161225.0304)\n -->\n<!-- Title: G Pages: 1 -->\n<svg width=\"128pt\" height=\"44pt\"\n viewBox=\"0.00 0.00 127.59 44.00\" xmlns=\"http://www.w3.org/2000/svg\" xmlns:xlink=\"http://www.w3.org/1999/xlink\">\n<g id=\"graph0\" class=\"graph\" transform=\"scale(1 1) rotate(0) translate(4 40)\">\n<title>G</title>\n<polygon fill=\"#ffffff\" stroke=\"transparent\" points=\"-4,4 -4,-40 123.5894,-40 123.5894,4 -4,4\"/>\n<!-- COD/ODL x -->\n<g id=\"node1\" class=\"node\">\n<title>COD/ODL x</title>\n<ellipse fill=\"none\" stroke=\"#000000\" cx=\"59.7947\" cy=\"-18\" rx=\"59.5901\" ry=\"18\"/>\n<text text-anchor=\"middle\" x=\"59.7947\" y=\"-14.3\" font-family=\"Times,serif\" font-size=\"14.00\" fill=\"#000000\">COD/ODL x</text>\n</g>\n</g>\n</svg>\n"
          },
          "metadata": {
            "tags": []
          },
          "execution_count": 41
        }
      ]
    },
    {
      "cell_type": "markdown",
      "metadata": {
        "id": "34jcJbOoI645"
      },
      "source": [
        "**A.6 Assigment operator expressions with integers:**"
      ]
    },
    {
      "cell_type": "code",
      "metadata": {
        "id": "WrQJtcudI--Z"
      },
      "source": [
        "# 1) Declare variables and conditions\n",
        "x = Int('x')\n",
        "y = Int('y')\n",
        "conditions = And(x>0,y>0)"
      ],
      "execution_count": null,
      "outputs": []
    },
    {
      "cell_type": "code",
      "metadata": {
        "id": "IU5ffe18JP_Z",
        "colab": {
          "base_uri": "https://localhost:8080/",
          "height": 278
        },
        "outputId": "7ec8dedb-c16b-40ed-f9e4-30b4ab5de4d4"
      },
      "source": [
        "msg = \"A.6.1 lexp += rexp\"\n",
        "print(msg)\n",
        "print('============================================')\n",
        "# 2) Specify a program\n",
        "program = x+y\n",
        "# 3) Specify a list of mutants and mutation names\n",
        "SDL = x\n",
        "mutations = [y, x-y, x*y, SDL]\n",
        "mutationNames = {\n",
        "    \"y\": \"ODL x=y\",\n",
        "    \"x - y\": \"ASRS -=\",\n",
        "    \"x*y\": \"ASRS *=\",\n",
        "    \"x\": \"SDL\"\n",
        "}\n",
        "# 4) Keep non equivalent mutants\n",
        "mutations = keepNonEquivalentMutants(program, mutations)\n",
        "# 5) Keep non redundant mutants\n",
        "mutations = keepNonRedundantMutants(mutations)\n",
        "# 6) Identify subsumption relations\n",
        "subsumptions = identifySubsumptions(program, mutations, conditions)\n",
        "print('============================================')\n",
        "# 7) Draw the subsumption relation graph\n",
        "createSubsumptionRelationGraph(subsumptions, mutations, mutationNames)"
      ],
      "execution_count": null,
      "outputs": [
        {
          "output_type": "stream",
          "text": [
            "A.6.1 lexp += rexp\n",
            "============================================\n",
            "x*y subsumes y\n",
            "x*y subsumes x - y\n",
            "x*y subsumes x\n",
            "============================================\n"
          ],
          "name": "stdout"
        },
        {
          "output_type": "execute_result",
          "data": {
            "text/plain": [
              "<graphviz.dot.Digraph at 0x7f25b93f5208>"
            ],
            "image/svg+xml": "<?xml version=\"1.0\" encoding=\"UTF-8\" standalone=\"no\"?>\n<!DOCTYPE svg PUBLIC \"-//W3C//DTD SVG 1.1//EN\"\n \"http://www.w3.org/Graphics/SVG/1.1/DTD/svg11.dtd\">\n<!-- Generated by graphviz version 2.40.1 (20161225.0304)\n -->\n<!-- Title: G Pages: 1 -->\n<svg width=\"287pt\" height=\"116pt\"\n viewBox=\"0.00 0.00 287.04 116.00\" xmlns=\"http://www.w3.org/2000/svg\" xmlns:xlink=\"http://www.w3.org/1999/xlink\">\n<g id=\"graph0\" class=\"graph\" transform=\"scale(1 1) rotate(0) translate(4 112)\">\n<title>G</title>\n<polygon fill=\"#ffffff\" stroke=\"transparent\" points=\"-4,4 -4,-112 283.0433,-112 283.0433,4 -4,4\"/>\n<!-- ODL x=y -->\n<g id=\"node1\" class=\"node\">\n<title>ODL x=y</title>\n<ellipse fill=\"none\" stroke=\"#000000\" cx=\"47.4458\" cy=\"-18\" rx=\"47.3916\" ry=\"18\"/>\n<text text-anchor=\"middle\" x=\"47.4458\" y=\"-14.3\" font-family=\"Times,serif\" font-size=\"14.00\" fill=\"#000000\">ODL x=y</text>\n</g>\n<!-- ASRS &#45;= -->\n<g id=\"node2\" class=\"node\">\n<title>ASRS &#45;=</title>\n<ellipse fill=\"none\" stroke=\"#000000\" cx=\"158.4458\" cy=\"-18\" rx=\"45.4919\" ry=\"18\"/>\n<text text-anchor=\"middle\" x=\"158.4458\" y=\"-14.3\" font-family=\"Times,serif\" font-size=\"14.00\" fill=\"#000000\">ASRS &#45;=</text>\n</g>\n<!-- ASRS *= -->\n<g id=\"node3\" class=\"node\">\n<title>ASRS *=</title>\n<ellipse fill=\"none\" stroke=\"#000000\" cx=\"158.4458\" cy=\"-90\" rx=\"47.3916\" ry=\"18\"/>\n<text text-anchor=\"middle\" x=\"158.4458\" y=\"-86.3\" font-family=\"Times,serif\" font-size=\"14.00\" fill=\"#000000\">ASRS *=</text>\n</g>\n<!-- ASRS *=&#45;&gt;ODL x=y -->\n<g id=\"edge1\" class=\"edge\">\n<title>ASRS *=&#45;&gt;ODL x=y</title>\n<path fill=\"none\" stroke=\"#000000\" d=\"M134.3604,-74.3771C118.5057,-64.0929 97.551,-50.5007 80.1895,-39.2392\"/>\n<polygon fill=\"#000000\" stroke=\"#000000\" points=\"81.7784,-36.098 71.4841,-33.5924 77.9691,-41.9708 81.7784,-36.098\"/>\n</g>\n<!-- ASRS *=&#45;&gt;ASRS &#45;= -->\n<g id=\"edge2\" class=\"edge\">\n<title>ASRS *=&#45;&gt;ASRS &#45;=</title>\n<path fill=\"none\" stroke=\"#000000\" d=\"M158.4458,-71.8314C158.4458,-64.131 158.4458,-54.9743 158.4458,-46.4166\"/>\n<polygon fill=\"#000000\" stroke=\"#000000\" points=\"161.9459,-46.4132 158.4458,-36.4133 154.9459,-46.4133 161.9459,-46.4132\"/>\n</g>\n<!-- SDL -->\n<g id=\"node4\" class=\"node\">\n<title>SDL</title>\n<ellipse fill=\"none\" stroke=\"#000000\" cx=\"250.4458\" cy=\"-18\" rx=\"28.6953\" ry=\"18\"/>\n<text text-anchor=\"middle\" x=\"250.4458\" y=\"-14.3\" font-family=\"Times,serif\" font-size=\"14.00\" fill=\"#000000\">SDL</text>\n</g>\n<!-- ASRS *=&#45;&gt;SDL -->\n<g id=\"edge3\" class=\"edge\">\n<title>ASRS *=&#45;&gt;SDL</title>\n<path fill=\"none\" stroke=\"#000000\" d=\"M179.322,-73.6621C192.7059,-63.1877 210.183,-49.51 224.4629,-38.3345\"/>\n<polygon fill=\"#000000\" stroke=\"#000000\" points=\"226.7281,-41.0061 232.4461,-32.0867 222.4139,-35.4936 226.7281,-41.0061\"/>\n</g>\n</g>\n</svg>\n"
          },
          "metadata": {
            "tags": []
          },
          "execution_count": 43
        }
      ]
    },
    {
      "cell_type": "code",
      "metadata": {
        "id": "UfXDS0EsKbR5",
        "colab": {
          "base_uri": "https://localhost:8080/",
          "height": 278
        },
        "outputId": "3d54f5ef-0f5a-4080-df9d-3d8966721ab5"
      },
      "source": [
        "msg = \"A.6.2 lexp -= rexp\"\n",
        "print(msg)\n",
        "print('============================================')\n",
        "# 2) Specify a program\n",
        "program = x-y\n",
        "# 3) Specify a list of mutants  and mutation names\n",
        "SDL = x\n",
        "mutations = [y, x+y, x*y, SDL]\n",
        "mutationNames = {\n",
        "    \"y\": \"ODL x=y\",\n",
        "    \"x + y\": \"ASRS +=\",\n",
        "    \"x*y\": \"ASRS *=\",\n",
        "    \"x\": \"SDL\"\n",
        "}\n",
        "# 4) Keep non equivalent mutants\n",
        "mutations = keepNonEquivalentMutants(program, mutations)\n",
        "# 5) Keep non redundant mutants\n",
        "mutations = keepNonRedundantMutants(mutations)\n",
        "# 6) Identify subsumption relations\n",
        "subsumptions = identifySubsumptions(program, mutations, conditions)\n",
        "print('============================================')\n",
        "# 7) Draw the subsumption relation graph\n",
        "createSubsumptionRelationGraph(subsumptions, mutations, mutationNames)"
      ],
      "execution_count": null,
      "outputs": [
        {
          "output_type": "stream",
          "text": [
            "A.6.2 lexp -= rexp\n",
            "============================================\n",
            "y subsumes x + y\n",
            "y subsumes x*y\n",
            "y subsumes x\n",
            "============================================\n"
          ],
          "name": "stdout"
        },
        {
          "output_type": "execute_result",
          "data": {
            "text/plain": [
              "<graphviz.dot.Digraph at 0x7f25b93f5ba8>"
            ],
            "image/svg+xml": "<?xml version=\"1.0\" encoding=\"UTF-8\" standalone=\"no\"?>\n<!DOCTYPE svg PUBLIC \"-//W3C//DTD SVG 1.1//EN\"\n \"http://www.w3.org/Graphics/SVG/1.1/DTD/svg11.dtd\">\n<!-- Generated by graphviz version 2.40.1 (20161225.0304)\n -->\n<!-- Title: G Pages: 1 -->\n<svg width=\"293pt\" height=\"116pt\"\n viewBox=\"0.00 0.00 292.69 116.00\" xmlns=\"http://www.w3.org/2000/svg\" xmlns:xlink=\"http://www.w3.org/1999/xlink\">\n<g id=\"graph0\" class=\"graph\" transform=\"scale(1 1) rotate(0) translate(4 112)\">\n<title>G</title>\n<polygon fill=\"#ffffff\" stroke=\"transparent\" points=\"-4,4 -4,-112 288.6932,-112 288.6932,4 -4,4\"/>\n<!-- ODL x=y -->\n<g id=\"node1\" class=\"node\">\n<title>ODL x=y</title>\n<ellipse fill=\"none\" stroke=\"#000000\" cx=\"162.0957\" cy=\"-90\" rx=\"47.3916\" ry=\"18\"/>\n<text text-anchor=\"middle\" x=\"162.0957\" y=\"-86.3\" font-family=\"Times,serif\" font-size=\"14.00\" fill=\"#000000\">ODL x=y</text>\n</g>\n<!-- ASRS += -->\n<g id=\"node2\" class=\"node\">\n<title>ASRS +=</title>\n<ellipse fill=\"none\" stroke=\"#000000\" cx=\"48.0957\" cy=\"-18\" rx=\"48.1917\" ry=\"18\"/>\n<text text-anchor=\"middle\" x=\"48.0957\" y=\"-14.3\" font-family=\"Times,serif\" font-size=\"14.00\" fill=\"#000000\">ASRS +=</text>\n</g>\n<!-- ODL x=y&#45;&gt;ASRS += -->\n<g id=\"edge1\" class=\"edge\">\n<title>ODL x=y&#45;&gt;ASRS +=</title>\n<path fill=\"none\" stroke=\"#000000\" d=\"M137.6399,-74.5542C121.2226,-64.1854 99.3885,-50.3955 81.391,-39.0286\"/>\n<polygon fill=\"#000000\" stroke=\"#000000\" points=\"83.2284,-36.0495 72.9045,-33.6687 79.4904,-41.9679 83.2284,-36.0495\"/>\n</g>\n<!-- ASRS *= -->\n<g id=\"node3\" class=\"node\">\n<title>ASRS *=</title>\n<ellipse fill=\"none\" stroke=\"#000000\" cx=\"162.0957\" cy=\"-18\" rx=\"47.3916\" ry=\"18\"/>\n<text text-anchor=\"middle\" x=\"162.0957\" y=\"-14.3\" font-family=\"Times,serif\" font-size=\"14.00\" fill=\"#000000\">ASRS *=</text>\n</g>\n<!-- ODL x=y&#45;&gt;ASRS *= -->\n<g id=\"edge2\" class=\"edge\">\n<title>ODL x=y&#45;&gt;ASRS *=</title>\n<path fill=\"none\" stroke=\"#000000\" d=\"M162.0957,-71.8314C162.0957,-64.131 162.0957,-54.9743 162.0957,-46.4166\"/>\n<polygon fill=\"#000000\" stroke=\"#000000\" points=\"165.5958,-46.4132 162.0957,-36.4133 158.5958,-46.4133 165.5958,-46.4132\"/>\n</g>\n<!-- SDL -->\n<g id=\"node4\" class=\"node\">\n<title>SDL</title>\n<ellipse fill=\"none\" stroke=\"#000000\" cx=\"256.0957\" cy=\"-18\" rx=\"28.6953\" ry=\"18\"/>\n<text text-anchor=\"middle\" x=\"256.0957\" y=\"-14.3\" font-family=\"Times,serif\" font-size=\"14.00\" fill=\"#000000\">SDL</text>\n</g>\n<!-- ODL x=y&#45;&gt;SDL -->\n<g id=\"edge3\" class=\"edge\">\n<title>ODL x=y&#45;&gt;SDL</title>\n<path fill=\"none\" stroke=\"#000000\" d=\"M183.4258,-73.6621C197.1006,-63.1877 214.9576,-49.51 229.548,-38.3345\"/>\n<polygon fill=\"#000000\" stroke=\"#000000\" points=\"231.8942,-40.9461 237.7047,-32.0867 227.6377,-35.3889 231.8942,-40.9461\"/>\n</g>\n</g>\n</svg>\n"
          },
          "metadata": {
            "tags": []
          },
          "execution_count": 44
        }
      ]
    },
    {
      "cell_type": "code",
      "metadata": {
        "id": "Yx5a0oSNK6Jt",
        "colab": {
          "base_uri": "https://localhost:8080/",
          "height": 278
        },
        "outputId": "a4cf17f2-8639-453e-8d07-434722f93df5"
      },
      "source": [
        "msg = \"A.6.3 lexp *= rexp\"\n",
        "print(msg)\n",
        "print('============================================')\n",
        "# 2) Specify a program\n",
        "program = x*y\n",
        "# 3) Specify a list of mutants and mutation names\n",
        "SDL = x\n",
        "mutations = [y, x+y, x-y, SDL]\n",
        "mutationNames = {\n",
        "    \"y\": \"ODL x=y\",\n",
        "    \"x + y\": \"ASRS +=\",\n",
        "    \"x - y\": \"ASRS -=\",\n",
        "    \"x\": \"SDL\"\n",
        "}\n",
        "# 4) Keep non equivalent mutants\n",
        "mutations = keepNonEquivalentMutants(program, mutations)\n",
        "# 5) Keep non redundant mutants\n",
        "mutations = keepNonRedundantMutants(mutations)\n",
        "# 6) Identify subsumption relations\n",
        "subsumptions = identifySubsumptions(program, mutations, conditions)\n",
        "print('============================================')\n",
        "# 7) Draw the subsumption relation graph\n",
        "createSubsumptionRelationGraph(subsumptions, mutations, mutationNames)"
      ],
      "execution_count": null,
      "outputs": [
        {
          "output_type": "stream",
          "text": [
            "A.6.3 lexp *= rexp\n",
            "============================================\n",
            "y subsumes x - y\n",
            "x + y subsumes x - y\n",
            "x subsumes x - y\n",
            "============================================\n"
          ],
          "name": "stdout"
        },
        {
          "output_type": "execute_result",
          "data": {
            "text/plain": [
              "<graphviz.dot.Digraph at 0x7f25b9444f60>"
            ],
            "image/svg+xml": "<?xml version=\"1.0\" encoding=\"UTF-8\" standalone=\"no\"?>\n<!DOCTYPE svg PUBLIC \"-//W3C//DTD SVG 1.1//EN\"\n \"http://www.w3.org/Graphics/SVG/1.1/DTD/svg11.dtd\">\n<!-- Generated by graphviz version 2.40.1 (20161225.0304)\n -->\n<!-- Title: G Pages: 1 -->\n<svg width=\"293pt\" height=\"116pt\"\n viewBox=\"0.00 0.00 293.04 116.00\" xmlns=\"http://www.w3.org/2000/svg\" xmlns:xlink=\"http://www.w3.org/1999/xlink\">\n<g id=\"graph0\" class=\"graph\" transform=\"scale(1 1) rotate(0) translate(4 112)\">\n<title>G</title>\n<polygon fill=\"#ffffff\" stroke=\"transparent\" points=\"-4,4 -4,-112 289.0433,-112 289.0433,4 -4,4\"/>\n<!-- ODL x=y -->\n<g id=\"node1\" class=\"node\">\n<title>ODL x=y</title>\n<ellipse fill=\"none\" stroke=\"#000000\" cx=\"47.4458\" cy=\"-90\" rx=\"47.3916\" ry=\"18\"/>\n<text text-anchor=\"middle\" x=\"47.4458\" y=\"-86.3\" font-family=\"Times,serif\" font-size=\"14.00\" fill=\"#000000\">ODL x=y</text>\n</g>\n<!-- ASRS &#45;= -->\n<g id=\"node3\" class=\"node\">\n<title>ASRS &#45;=</title>\n<ellipse fill=\"none\" stroke=\"#000000\" cx=\"161.4458\" cy=\"-18\" rx=\"45.4919\" ry=\"18\"/>\n<text text-anchor=\"middle\" x=\"161.4458\" y=\"-14.3\" font-family=\"Times,serif\" font-size=\"14.00\" fill=\"#000000\">ASRS &#45;=</text>\n</g>\n<!-- ODL x=y&#45;&gt;ASRS &#45;= -->\n<g id=\"edge1\" class=\"edge\">\n<title>ODL x=y&#45;&gt;ASRS &#45;=</title>\n<path fill=\"none\" stroke=\"#000000\" d=\"M71.9017,-74.5542C88.4314,-64.1144 110.4523,-50.2064 128.5198,-38.7953\"/>\n<polygon fill=\"#000000\" stroke=\"#000000\" points=\"130.4445,-41.7195 137.0304,-33.4203 126.7065,-35.801 130.4445,-41.7195\"/>\n</g>\n<!-- ASRS += -->\n<g id=\"node2\" class=\"node\">\n<title>ASRS +=</title>\n<ellipse fill=\"none\" stroke=\"#000000\" cx=\"161.4458\" cy=\"-90\" rx=\"48.1917\" ry=\"18\"/>\n<text text-anchor=\"middle\" x=\"161.4458\" y=\"-86.3\" font-family=\"Times,serif\" font-size=\"14.00\" fill=\"#000000\">ASRS +=</text>\n</g>\n<!-- ASRS +=&#45;&gt;ASRS &#45;= -->\n<g id=\"edge2\" class=\"edge\">\n<title>ASRS +=&#45;&gt;ASRS &#45;=</title>\n<path fill=\"none\" stroke=\"#000000\" d=\"M161.4458,-71.8314C161.4458,-64.131 161.4458,-54.9743 161.4458,-46.4166\"/>\n<polygon fill=\"#000000\" stroke=\"#000000\" points=\"164.9459,-46.4132 161.4458,-36.4133 157.9459,-46.4133 164.9459,-46.4132\"/>\n</g>\n<!-- SDL -->\n<g id=\"node4\" class=\"node\">\n<title>SDL</title>\n<ellipse fill=\"none\" stroke=\"#000000\" cx=\"256.4458\" cy=\"-90\" rx=\"28.6953\" ry=\"18\"/>\n<text text-anchor=\"middle\" x=\"256.4458\" y=\"-86.3\" font-family=\"Times,serif\" font-size=\"14.00\" fill=\"#000000\">SDL</text>\n</g>\n<!-- SDL&#45;&gt;ASRS &#45;= -->\n<g id=\"edge3\" class=\"edge\">\n<title>SDL&#45;&gt;ASRS &#45;=</title>\n<path fill=\"none\" stroke=\"#000000\" d=\"M238.1288,-76.1177C224.7539,-65.9809 206.3388,-52.0242 190.907,-40.3285\"/>\n<polygon fill=\"#000000\" stroke=\"#000000\" points=\"192.7755,-37.353 182.6917,-34.1022 188.5474,-42.9318 192.7755,-37.353\"/>\n</g>\n</g>\n</svg>\n"
          },
          "metadata": {
            "tags": []
          },
          "execution_count": 45
        }
      ]
    },
    {
      "cell_type": "markdown",
      "metadata": {
        "id": "WfFNOrhyLULQ"
      },
      "source": [
        "**A.7 Shift operator expressions with bits:**"
      ]
    },
    {
      "cell_type": "code",
      "metadata": {
        "id": "6js88u0kLW-J"
      },
      "source": [
        "# 1) Declare variables and conditions\n",
        "x, y = BitVecs('x y', 32)\n",
        "conditions = True"
      ],
      "execution_count": null,
      "outputs": []
    },
    {
      "cell_type": "code",
      "metadata": {
        "id": "aAVw-x32Lbd4",
        "colab": {
          "base_uri": "https://localhost:8080/",
          "height": 374
        },
        "outputId": "8a373073-dd6e-44a9-ecd8-92401230988e"
      },
      "source": [
        "msg = \"A.7.1 lexp <<= rexp\"\n",
        "print(msg)\n",
        "print('============================================')\n",
        "# 2) Specify a program\n",
        "program = x<<y\n",
        "# 3) Specify a list of mutants and mutation names\n",
        "SDL = x\n",
        "mutations = [y,SDL,x>>y]\n",
        "mutationNames = {\n",
        "    \"y\": \"ODL x=y\",\n",
        "    \"x\": \"SDL\",\n",
        "    \"x >> y\": \"ASRS >>=\"\n",
        "}\n",
        "# 4) Keep non equivalent mutants\n",
        "mutations = keepNonEquivalentMutants(program, mutations)\n",
        "# 5) Keep non redundant mutants\n",
        "mutations = keepNonRedundantMutants(mutations)\n",
        "# 6) Identify subsumption relations\n",
        "subsumptions = identifySubsumptions(program, mutations, conditions)\n",
        "print('============================================')\n",
        "# 7) Draw the subsumption relation graph\n",
        "createSubsumptionRelationGraph(subsumptions, mutations, mutationNames)"
      ],
      "execution_count": null,
      "outputs": [
        {
          "output_type": "stream",
          "text": [
            "A.7.1 lexp <<= rexp\n",
            "============================================\n",
            "x subsumes y\n",
            "x >> y subsumes y\n",
            "x >> y subsumes x\n",
            "============================================\n"
          ],
          "name": "stdout"
        },
        {
          "output_type": "execute_result",
          "data": {
            "text/plain": [
              "<graphviz.dot.Digraph at 0x7f25b94423c8>"
            ],
            "image/svg+xml": "<?xml version=\"1.0\" encoding=\"UTF-8\" standalone=\"no\"?>\n<!DOCTYPE svg PUBLIC \"-//W3C//DTD SVG 1.1//EN\"\n \"http://www.w3.org/Graphics/SVG/1.1/DTD/svg11.dtd\">\n<!-- Generated by graphviz version 2.40.1 (20161225.0304)\n -->\n<!-- Title: G Pages: 1 -->\n<svg width=\"119pt\" height=\"188pt\"\n viewBox=\"0.00 0.00 118.89 188.00\" xmlns=\"http://www.w3.org/2000/svg\" xmlns:xlink=\"http://www.w3.org/1999/xlink\">\n<g id=\"graph0\" class=\"graph\" transform=\"scale(1 1) rotate(0) translate(4 184)\">\n<title>G</title>\n<polygon fill=\"#ffffff\" stroke=\"transparent\" points=\"-4,4 -4,-184 114.8927,-184 114.8927,4 -4,4\"/>\n<!-- ODL x=y -->\n<g id=\"node1\" class=\"node\">\n<title>ODL x=y</title>\n<ellipse fill=\"none\" stroke=\"#000000\" cx=\"53.2953\" cy=\"-18\" rx=\"47.3916\" ry=\"18\"/>\n<text text-anchor=\"middle\" x=\"53.2953\" y=\"-14.3\" font-family=\"Times,serif\" font-size=\"14.00\" fill=\"#000000\">ODL x=y</text>\n</g>\n<!-- SDL -->\n<g id=\"node2\" class=\"node\">\n<title>SDL</title>\n<ellipse fill=\"none\" stroke=\"#000000\" cx=\"82.2953\" cy=\"-90\" rx=\"28.6953\" ry=\"18\"/>\n<text text-anchor=\"middle\" x=\"82.2953\" y=\"-86.3\" font-family=\"Times,serif\" font-size=\"14.00\" fill=\"#000000\">SDL</text>\n</g>\n<!-- SDL&#45;&gt;ODL x=y -->\n<g id=\"edge1\" class=\"edge\">\n<title>SDL&#45;&gt;ODL x=y</title>\n<path fill=\"none\" stroke=\"#000000\" d=\"M75.1267,-72.2022C71.8502,-64.0675 67.896,-54.2501 64.2581,-45.2181\"/>\n<polygon fill=\"#000000\" stroke=\"#000000\" points=\"67.4646,-43.8107 60.4819,-35.8425 60.9715,-46.4261 67.4646,-43.8107\"/>\n</g>\n<!-- ASRS &gt;&gt;= -->\n<g id=\"node3\" class=\"node\">\n<title>ASRS &gt;&gt;=</title>\n<ellipse fill=\"none\" stroke=\"#000000\" cx=\"53.2953\" cy=\"-162\" rx=\"53.0913\" ry=\"18\"/>\n<text text-anchor=\"middle\" x=\"53.2953\" y=\"-158.3\" font-family=\"Times,serif\" font-size=\"14.00\" fill=\"#000000\">ASRS &gt;&gt;=</text>\n</g>\n<!-- ASRS &gt;&gt;=&#45;&gt;ODL x=y -->\n<g id=\"edge2\" class=\"edge\">\n<title>ASRS &gt;&gt;=&#45;&gt;ODL x=y</title>\n<path fill=\"none\" stroke=\"#000000\" d=\"M49.4539,-143.6001C47.4787,-133.2025 45.283,-119.9346 44.2953,-108 42.9756,-92.0545 42.9756,-87.9455 44.2953,-72 44.9898,-63.6085 46.2815,-54.5578 47.6738,-46.3092\"/>\n<polygon fill=\"#000000\" stroke=\"#000000\" points=\"51.1306,-46.8612 49.4539,-36.3999 44.2409,-45.6235 51.1306,-46.8612\"/>\n</g>\n<!-- ASRS &gt;&gt;=&#45;&gt;SDL -->\n<g id=\"edge3\" class=\"edge\">\n<title>ASRS &gt;&gt;=&#45;&gt;SDL</title>\n<path fill=\"none\" stroke=\"#000000\" d=\"M60.6132,-143.8314C63.8317,-135.8406 67.6817,-126.2819 71.2385,-117.4514\"/>\n<polygon fill=\"#000000\" stroke=\"#000000\" points=\"74.5905,-118.4969 75.0801,-107.9134 68.0974,-115.8816 74.5905,-118.4969\"/>\n</g>\n</g>\n</svg>\n"
          },
          "metadata": {
            "tags": []
          },
          "execution_count": 47
        }
      ]
    },
    {
      "cell_type": "code",
      "metadata": {
        "id": "TiE2yS5MN6S1",
        "colab": {
          "base_uri": "https://localhost:8080/",
          "height": 131
        },
        "outputId": "2b7283a9-9207-4d11-c7e3-c63d881069e9"
      },
      "source": [
        "msg = \"A.7.2 lexp >>= rexp\"\n",
        "print(msg)\n",
        "print('============================================')\n",
        "# 2) Specify a program\n",
        "program = x>>y\n",
        "# 3) Specify a list of mutants and mutation names\n",
        "SDL = x\n",
        "mutations = [y,SDL,x<<y]\n",
        "mutationNames = {\n",
        "    \"y\": \"ODL x=y\",\n",
        "    \"x\": \"SDL\",\n",
        "    \"x << y\": \"ASRS <<=\"\n",
        "}\n",
        "# 4) Keep non equivalent mutants\n",
        "mutations = keepNonEquivalentMutants(program, mutations)\n",
        "# 5) Keep non redundant mutants\n",
        "mutations = keepNonRedundantMutants(mutations)\n",
        "# 6) Identify subsumption relations\n",
        "subsumptions = identifySubsumptions(program, mutations, conditions)\n",
        "print('============================================')\n",
        "# 7) Draw the subsumption relation graph\n",
        "createSubsumptionRelationGraph(subsumptions, mutations, mutationNames)"
      ],
      "execution_count": null,
      "outputs": [
        {
          "output_type": "stream",
          "text": [
            "A.7.2 lexp >>= rexp\n",
            "============================================\n",
            "============================================\n"
          ],
          "name": "stdout"
        },
        {
          "output_type": "execute_result",
          "data": {
            "text/plain": [
              "<graphviz.dot.Digraph at 0x7f25b9444668>"
            ],
            "image/svg+xml": "<?xml version=\"1.0\" encoding=\"UTF-8\" standalone=\"no\"?>\n<!DOCTYPE svg PUBLIC \"-//W3C//DTD SVG 1.1//EN\"\n \"http://www.w3.org/Graphics/SVG/1.1/DTD/svg11.dtd\">\n<!-- Generated by graphviz version 2.40.1 (20161225.0304)\n -->\n<!-- Title: G Pages: 1 -->\n<svg width=\"303pt\" height=\"44pt\"\n viewBox=\"0.00 0.00 302.74 44.00\" xmlns=\"http://www.w3.org/2000/svg\" xmlns:xlink=\"http://www.w3.org/1999/xlink\">\n<g id=\"graph0\" class=\"graph\" transform=\"scale(1 1) rotate(0) translate(4 40)\">\n<title>G</title>\n<polygon fill=\"#ffffff\" stroke=\"transparent\" points=\"-4,4 -4,-40 298.7411,-40 298.7411,4 -4,4\"/>\n<!-- ODL x=y -->\n<g id=\"node1\" class=\"node\">\n<title>ODL x=y</title>\n<ellipse fill=\"none\" stroke=\"#000000\" cx=\"47.4458\" cy=\"-18\" rx=\"47.3916\" ry=\"18\"/>\n<text text-anchor=\"middle\" x=\"47.4458\" y=\"-14.3\" font-family=\"Times,serif\" font-size=\"14.00\" fill=\"#000000\">ODL x=y</text>\n</g>\n<!-- SDL -->\n<g id=\"node2\" class=\"node\">\n<title>SDL</title>\n<ellipse fill=\"none\" stroke=\"#000000\" cx=\"141.4458\" cy=\"-18\" rx=\"28.6953\" ry=\"18\"/>\n<text text-anchor=\"middle\" x=\"141.4458\" y=\"-14.3\" font-family=\"Times,serif\" font-size=\"14.00\" fill=\"#000000\">SDL</text>\n</g>\n<!-- ASRS &lt;&lt;= -->\n<g id=\"node3\" class=\"node\">\n<title>ASRS &lt;&lt;=</title>\n<ellipse fill=\"none\" stroke=\"#000000\" cx=\"241.4458\" cy=\"-18\" rx=\"53.0913\" ry=\"18\"/>\n<text text-anchor=\"middle\" x=\"241.4458\" y=\"-14.3\" font-family=\"Times,serif\" font-size=\"14.00\" fill=\"#000000\">ASRS &lt;&lt;=</text>\n</g>\n</g>\n</svg>\n"
          },
          "metadata": {
            "tags": []
          },
          "execution_count": 48
        }
      ]
    },
    {
      "cell_type": "markdown",
      "metadata": {
        "id": "8tKUKn-aObG-"
      },
      "source": [
        "**A.8 Assigment operator expressions with bits:**"
      ]
    },
    {
      "cell_type": "code",
      "metadata": {
        "id": "O93CwLWnOdjg"
      },
      "source": [
        "# 1) Declare variables and conditions\n",
        "x, y = BitVecs('x y', 32)\n",
        "conditions = True"
      ],
      "execution_count": null,
      "outputs": []
    },
    {
      "cell_type": "code",
      "metadata": {
        "id": "mBcV6F2TOhRA",
        "colab": {
          "base_uri": "https://localhost:8080/",
          "height": 408
        },
        "outputId": "c54c69e9-a0dd-4fd9-e0b6-afb011b53819"
      },
      "source": [
        "msg = \"A.8.1 lexp &= rexp\"\n",
        "print(msg)\n",
        "print('============================================')\n",
        "# 2) Specify a program\n",
        "program = x&y\n",
        "# 3) Specify a list of mutants and mutation names\n",
        "SDL = x\n",
        "mutations = [y,SDL,x|y,x^y]\n",
        "mutationNames = {\n",
        "    \"y\": \"ODL x=y\",\n",
        "    \"x\": \"SDL\",\n",
        "    \"x | y\": \"ASRS |=\",\n",
        "    \"x ^ y\": \"ASRS ^=\"\n",
        "}\n",
        "# 4) Keep non equivalent mutants\n",
        "mutations = keepNonEquivalentMutants(program, mutations)\n",
        "# 5) Keep non redundant mutants\n",
        "mutations = keepNonRedundantMutants(mutations)\n",
        "# 6) Identify subsumption relations\n",
        "subsumptions = identifySubsumptions(program, mutations, conditions)\n",
        "print('============================================')\n",
        "# 7) Draw the subsumption relation graph\n",
        "createSubsumptionRelationGraph(subsumptions, mutations, mutationNames)"
      ],
      "execution_count": null,
      "outputs": [
        {
          "output_type": "stream",
          "text": [
            "A.8.1 lexp &= rexp\n",
            "============================================\n",
            "y subsumes x | y\n",
            "x subsumes x | y\n",
            "y subsumes x ^ y\n",
            "x subsumes x ^ y\n",
            "x | y subsumes x ^ y\n",
            "============================================\n"
          ],
          "name": "stdout"
        },
        {
          "output_type": "execute_result",
          "data": {
            "text/plain": [
              "<graphviz.dot.Digraph at 0x7f25b93fdd68>"
            ],
            "image/svg+xml": "<?xml version=\"1.0\" encoding=\"UTF-8\" standalone=\"no\"?>\n<!DOCTYPE svg PUBLIC \"-//W3C//DTD SVG 1.1//EN\"\n \"http://www.w3.org/Graphics/SVG/1.1/DTD/svg11.dtd\">\n<!-- Generated by graphviz version 2.40.1 (20161225.0304)\n -->\n<!-- Title: G Pages: 1 -->\n<svg width=\"203pt\" height=\"188pt\"\n viewBox=\"0.00 0.00 203.04 188.00\" xmlns=\"http://www.w3.org/2000/svg\" xmlns:xlink=\"http://www.w3.org/1999/xlink\">\n<g id=\"graph0\" class=\"graph\" transform=\"scale(1 1) rotate(0) translate(4 184)\">\n<title>G</title>\n<polygon fill=\"#ffffff\" stroke=\"transparent\" points=\"-4,4 -4,-184 199.0433,-184 199.0433,4 -4,4\"/>\n<!-- ODL x=y -->\n<g id=\"node1\" class=\"node\">\n<title>ODL x=y</title>\n<ellipse fill=\"none\" stroke=\"#000000\" cx=\"47.4458\" cy=\"-162\" rx=\"47.3916\" ry=\"18\"/>\n<text text-anchor=\"middle\" x=\"47.4458\" y=\"-158.3\" font-family=\"Times,serif\" font-size=\"14.00\" fill=\"#000000\">ODL x=y</text>\n</g>\n<!-- ASRS |= -->\n<g id=\"node3\" class=\"node\">\n<title>ASRS |=</title>\n<ellipse fill=\"none\" stroke=\"#000000\" cx=\"107.4458\" cy=\"-90\" rx=\"44.393\" ry=\"18\"/>\n<text text-anchor=\"middle\" x=\"107.4458\" y=\"-86.3\" font-family=\"Times,serif\" font-size=\"14.00\" fill=\"#000000\">ASRS |=</text>\n</g>\n<!-- ODL x=y&#45;&gt;ASRS |= -->\n<g id=\"edge1\" class=\"edge\">\n<title>ODL x=y&#45;&gt;ASRS |=</title>\n<path fill=\"none\" stroke=\"#000000\" d=\"M61.9701,-144.5708C69.34,-135.7269 78.4259,-124.8239 86.5337,-115.0945\"/>\n<polygon fill=\"#000000\" stroke=\"#000000\" points=\"89.3421,-117.1916 93.0552,-107.2687 83.9646,-112.7103 89.3421,-117.1916\"/>\n</g>\n<!-- ASRS ^= -->\n<g id=\"node4\" class=\"node\">\n<title>ASRS ^=</title>\n<ellipse fill=\"none\" stroke=\"#000000\" cx=\"107.4458\" cy=\"-18\" rx=\"46.5926\" ry=\"18\"/>\n<text text-anchor=\"middle\" x=\"107.4458\" y=\"-14.3\" font-family=\"Times,serif\" font-size=\"14.00\" fill=\"#000000\">ASRS ^=</text>\n</g>\n<!-- ODL x=y&#45;&gt;ASRS ^= -->\n<g id=\"edge3\" class=\"edge\">\n<title>ODL x=y&#45;&gt;ASRS ^=</title>\n<path fill=\"none\" stroke=\"#000000\" d=\"M45.3326,-143.856C43.9237,-125.0128 43.9349,-95.111 54.4458,-72 59.7991,-60.2293 68.8719,-49.5266 78.0122,-40.8108\"/>\n<polygon fill=\"#000000\" stroke=\"#000000\" points=\"80.5217,-43.2614 85.6257,-33.9771 75.8459,-38.0521 80.5217,-43.2614\"/>\n</g>\n<!-- SDL -->\n<g id=\"node2\" class=\"node\">\n<title>SDL</title>\n<ellipse fill=\"none\" stroke=\"#000000\" cx=\"166.4458\" cy=\"-162\" rx=\"28.6953\" ry=\"18\"/>\n<text text-anchor=\"middle\" x=\"166.4458\" y=\"-158.3\" font-family=\"Times,serif\" font-size=\"14.00\" fill=\"#000000\">SDL</text>\n</g>\n<!-- SDL&#45;&gt;ASRS |= -->\n<g id=\"edge2\" class=\"edge\">\n<title>SDL&#45;&gt;ASRS |=</title>\n<path fill=\"none\" stroke=\"#000000\" d=\"M153.0578,-145.6621C145.6534,-136.6263 136.2956,-125.2066 127.9858,-115.0658\"/>\n<polygon fill=\"#000000\" stroke=\"#000000\" points=\"130.649,-112.7937 121.6036,-107.2773 125.2346,-117.2305 130.649,-112.7937\"/>\n</g>\n<!-- SDL&#45;&gt;ASRS ^= -->\n<g id=\"edge4\" class=\"edge\">\n<title>SDL&#45;&gt;ASRS ^=</title>\n<path fill=\"none\" stroke=\"#000000\" d=\"M168.8093,-143.8718C170.4674,-125.0416 170.8205,-95.1503 160.4458,-72 155.1576,-60.1999 146.0999,-49.4904 136.9534,-40.7774\"/>\n<polygon fill=\"#000000\" stroke=\"#000000\" points=\"139.114,-38.0138 129.3303,-33.9479 134.4431,-43.2275 139.114,-38.0138\"/>\n</g>\n<!-- ASRS |=&#45;&gt;ASRS ^= -->\n<g id=\"edge5\" class=\"edge\">\n<title>ASRS |=&#45;&gt;ASRS ^=</title>\n<path fill=\"none\" stroke=\"#000000\" d=\"M107.4458,-71.8314C107.4458,-64.131 107.4458,-54.9743 107.4458,-46.4166\"/>\n<polygon fill=\"#000000\" stroke=\"#000000\" points=\"110.9459,-46.4132 107.4458,-36.4133 103.9459,-46.4133 110.9459,-46.4132\"/>\n</g>\n</g>\n</svg>\n"
          },
          "metadata": {
            "tags": []
          },
          "execution_count": 50
        }
      ]
    },
    {
      "cell_type": "code",
      "metadata": {
        "id": "YnNFeyOiPPLB",
        "colab": {
          "base_uri": "https://localhost:8080/",
          "height": 261
        },
        "outputId": "be5e59bb-3eca-4bb7-e1b8-589becd89d07"
      },
      "source": [
        "msg = \"A.8.2 lexp |= rexp\"\n",
        "print(msg)\n",
        "print('============================================')\n",
        "# 2) Specify a program\n",
        "program = x|y\n",
        "# 3) Specify a list of mutants and mutation names\n",
        "SDL = x\n",
        "mutations = [y,SDL,x&y,x^y]\n",
        "mutationNames = {\n",
        "    \"y\": \"ODL x=y\",\n",
        "    \"x\": \"SDL\",\n",
        "    \"x & y\": \"ASRS &=\",\n",
        "    \"x ^ y\": \"ASRS ^=\"\n",
        "}\n",
        "# 4) Keep non equivalent mutants\n",
        "mutations = keepNonEquivalentMutants(program, mutations)\n",
        "# 5) Keep non redundant mutants\n",
        "mutations = keepNonRedundantMutants(mutations)\n",
        "# 6) Identify subsumption relations\n",
        "subsumptions = identifySubsumptions(program, mutations, conditions)\n",
        "print('============================================')\n",
        "# 7) Draw the subsumption relation graph\n",
        "createSubsumptionRelationGraph(subsumptions, mutations, mutationNames)"
      ],
      "execution_count": null,
      "outputs": [
        {
          "output_type": "stream",
          "text": [
            "A.8.2 lexp |= rexp\n",
            "============================================\n",
            "y subsumes x & y\n",
            "x subsumes x & y\n",
            "============================================\n"
          ],
          "name": "stdout"
        },
        {
          "output_type": "execute_result",
          "data": {
            "text/plain": [
              "<graphviz.dot.Digraph at 0x7f25b93fd8d0>"
            ],
            "image/svg+xml": "<?xml version=\"1.0\" encoding=\"UTF-8\" standalone=\"no\"?>\n<!DOCTYPE svg PUBLIC \"-//W3C//DTD SVG 1.1//EN\"\n \"http://www.w3.org/Graphics/SVG/1.1/DTD/svg11.dtd\">\n<!-- Generated by graphviz version 2.40.1 (20161225.0304)\n -->\n<!-- Title: G Pages: 1 -->\n<svg width=\"289pt\" height=\"116pt\"\n viewBox=\"0.00 0.00 289.24 116.00\" xmlns=\"http://www.w3.org/2000/svg\" xmlns:xlink=\"http://www.w3.org/1999/xlink\">\n<g id=\"graph0\" class=\"graph\" transform=\"scale(1 1) rotate(0) translate(4 112)\">\n<title>G</title>\n<polygon fill=\"#ffffff\" stroke=\"transparent\" points=\"-4,4 -4,-112 285.2416,-112 285.2416,4 -4,4\"/>\n<!-- ODL x=y -->\n<g id=\"node1\" class=\"node\">\n<title>ODL x=y</title>\n<ellipse fill=\"none\" stroke=\"#000000\" cx=\"47.4458\" cy=\"-90\" rx=\"47.3916\" ry=\"18\"/>\n<text text-anchor=\"middle\" x=\"47.4458\" y=\"-86.3\" font-family=\"Times,serif\" font-size=\"14.00\" fill=\"#000000\">ODL x=y</text>\n</g>\n<!-- ASRS &amp;= -->\n<g id=\"node3\" class=\"node\">\n<title>ASRS &amp;=</title>\n<ellipse fill=\"none\" stroke=\"#000000\" cx=\"94.4458\" cy=\"-18\" rx=\"50.0912\" ry=\"18\"/>\n<text text-anchor=\"middle\" x=\"94.4458\" y=\"-14.3\" font-family=\"Times,serif\" font-size=\"14.00\" fill=\"#000000\">ASRS &amp;=</text>\n</g>\n<!-- ODL x=y&#45;&gt;ASRS &amp;= -->\n<g id=\"edge1\" class=\"edge\">\n<title>ODL x=y&#45;&gt;ASRS &amp;=</title>\n<path fill=\"none\" stroke=\"#000000\" d=\"M59.0638,-72.2022C64.5846,-63.7448 71.2928,-53.4685 77.3776,-44.147\"/>\n<polygon fill=\"#000000\" stroke=\"#000000\" points=\"80.426,-45.88 82.9615,-35.593 74.5643,-42.0536 80.426,-45.88\"/>\n</g>\n<!-- SDL -->\n<g id=\"node2\" class=\"node\">\n<title>SDL</title>\n<ellipse fill=\"none\" stroke=\"#000000\" cx=\"141.4458\" cy=\"-90\" rx=\"28.6953\" ry=\"18\"/>\n<text text-anchor=\"middle\" x=\"141.4458\" y=\"-86.3\" font-family=\"Times,serif\" font-size=\"14.00\" fill=\"#000000\">SDL</text>\n</g>\n<!-- SDL&#45;&gt;ASRS &amp;= -->\n<g id=\"edge2\" class=\"edge\">\n<title>SDL&#45;&gt;ASRS &amp;=</title>\n<path fill=\"none\" stroke=\"#000000\" d=\"M130.5449,-73.3008C124.8976,-64.6496 117.8722,-53.8873 111.524,-44.1623\"/>\n<polygon fill=\"#000000\" stroke=\"#000000\" points=\"114.3404,-42.0738 105.9433,-35.6132 108.4787,-45.9002 114.3404,-42.0738\"/>\n</g>\n<!-- ASRS ^= -->\n<g id=\"node4\" class=\"node\">\n<title>ASRS ^=</title>\n<ellipse fill=\"none\" stroke=\"#000000\" cx=\"234.4458\" cy=\"-90\" rx=\"46.5926\" ry=\"18\"/>\n<text text-anchor=\"middle\" x=\"234.4458\" y=\"-86.3\" font-family=\"Times,serif\" font-size=\"14.00\" fill=\"#000000\">ASRS ^=</text>\n</g>\n</g>\n</svg>\n"
          },
          "metadata": {
            "tags": []
          },
          "execution_count": 51
        }
      ]
    },
    {
      "cell_type": "code",
      "metadata": {
        "id": "DM2remUVPuvB",
        "colab": {
          "base_uri": "https://localhost:8080/",
          "height": 408
        },
        "outputId": "244edc23-73dd-434c-cf7f-3dbb5be1cc9a"
      },
      "source": [
        "msg = \"A.8.3 lexp ^= rexp\"\n",
        "print(msg)\n",
        "print('============================================')\n",
        "# 2) Specify a program\n",
        "program = x^y\n",
        "# 3) Specify a list of mutants and mutation names\n",
        "SDL = x\n",
        "mutations = [y,SDL,x|y,x&y]\n",
        "mutationNames = {\n",
        "    \"y\": \"ODL x=y\",\n",
        "    \"x\": \"SDL\",\n",
        "    \"x & y\": \"ASRS &=\",\n",
        "    \"x | y\": \"ASRS |=\"\n",
        "}\n",
        "# 4) Keep non equivalent mutants\n",
        "mutations = keepNonEquivalentMutants(program, mutations)\n",
        "# 5) Keep non redundant mutants\n",
        "mutations = keepNonRedundantMutants(mutations)\n",
        "# 6) Identify subsumption relations\n",
        "subsumptions = identifySubsumptions(program, mutations, conditions)\n",
        "print('============================================')\n",
        "# 7) Draw the subsumption relation graph\n",
        "createSubsumptionRelationGraph(subsumptions, mutations, mutationNames)"
      ],
      "execution_count": null,
      "outputs": [
        {
          "output_type": "stream",
          "text": [
            "A.8.3 lexp ^= rexp\n",
            "============================================\n",
            "x | y subsumes y\n",
            "x | y subsumes x\n",
            "y subsumes x & y\n",
            "x subsumes x & y\n",
            "x | y subsumes x & y\n",
            "============================================\n"
          ],
          "name": "stdout"
        },
        {
          "output_type": "execute_result",
          "data": {
            "text/plain": [
              "<graphviz.dot.Digraph at 0x7f25b93f5f60>"
            ],
            "image/svg+xml": "<?xml version=\"1.0\" encoding=\"UTF-8\" standalone=\"no\"?>\n<!DOCTYPE svg PUBLIC \"-//W3C//DTD SVG 1.1//EN\"\n \"http://www.w3.org/Graphics/SVG/1.1/DTD/svg11.dtd\">\n<!-- Generated by graphviz version 2.40.1 (20161225.0304)\n -->\n<!-- Title: G Pages: 1 -->\n<svg width=\"199pt\" height=\"188pt\"\n viewBox=\"0.00 0.00 199.49 188.00\" xmlns=\"http://www.w3.org/2000/svg\" xmlns:xlink=\"http://www.w3.org/1999/xlink\">\n<g id=\"graph0\" class=\"graph\" transform=\"scale(1 1) rotate(0) translate(4 184)\">\n<title>G</title>\n<polygon fill=\"#ffffff\" stroke=\"transparent\" points=\"-4,4 -4,-184 195.4913,-184 195.4913,4 -4,4\"/>\n<!-- ODL x=y -->\n<g id=\"node1\" class=\"node\">\n<title>ODL x=y</title>\n<ellipse fill=\"none\" stroke=\"#000000\" cx=\"47.4458\" cy=\"-90\" rx=\"47.3916\" ry=\"18\"/>\n<text text-anchor=\"middle\" x=\"47.4458\" y=\"-86.3\" font-family=\"Times,serif\" font-size=\"14.00\" fill=\"#000000\">ODL x=y</text>\n</g>\n<!-- ASRS &amp;= -->\n<g id=\"node4\" class=\"node\">\n<title>ASRS &amp;=</title>\n<ellipse fill=\"none\" stroke=\"#000000\" cx=\"141.4458\" cy=\"-18\" rx=\"50.0912\" ry=\"18\"/>\n<text text-anchor=\"middle\" x=\"141.4458\" y=\"-14.3\" font-family=\"Times,serif\" font-size=\"14.00\" fill=\"#000000\">ASRS &amp;=</text>\n</g>\n<!-- ODL x=y&#45;&gt;ASRS &amp;= -->\n<g id=\"edge3\" class=\"edge\">\n<title>ODL x=y&#45;&gt;ASRS &amp;=</title>\n<path fill=\"none\" stroke=\"#000000\" d=\"M68.7758,-73.6621C81.4257,-63.9728 97.6544,-51.5424 111.5654,-40.8871\"/>\n<polygon fill=\"#000000\" stroke=\"#000000\" points=\"114.0642,-43.3819 119.8748,-34.5225 109.8077,-37.8247 114.0642,-43.3819\"/>\n</g>\n<!-- SDL -->\n<g id=\"node2\" class=\"node\">\n<title>SDL</title>\n<ellipse fill=\"none\" stroke=\"#000000\" cx=\"141.4458\" cy=\"-90\" rx=\"28.6953\" ry=\"18\"/>\n<text text-anchor=\"middle\" x=\"141.4458\" y=\"-86.3\" font-family=\"Times,serif\" font-size=\"14.00\" fill=\"#000000\">SDL</text>\n</g>\n<!-- SDL&#45;&gt;ASRS &amp;= -->\n<g id=\"edge4\" class=\"edge\">\n<title>SDL&#45;&gt;ASRS &amp;=</title>\n<path fill=\"none\" stroke=\"#000000\" d=\"M141.4458,-71.8314C141.4458,-64.131 141.4458,-54.9743 141.4458,-46.4166\"/>\n<polygon fill=\"#000000\" stroke=\"#000000\" points=\"144.9459,-46.4132 141.4458,-36.4133 137.9459,-46.4133 144.9459,-46.4132\"/>\n</g>\n<!-- ASRS |= -->\n<g id=\"node3\" class=\"node\">\n<title>ASRS |=</title>\n<ellipse fill=\"none\" stroke=\"#000000\" cx=\"141.4458\" cy=\"-162\" rx=\"44.393\" ry=\"18\"/>\n<text text-anchor=\"middle\" x=\"141.4458\" y=\"-158.3\" font-family=\"Times,serif\" font-size=\"14.00\" fill=\"#000000\">ASRS |=</text>\n</g>\n<!-- ASRS |=&#45;&gt;ODL x=y -->\n<g id=\"edge1\" class=\"edge\">\n<title>ASRS |=&#45;&gt;ODL x=y</title>\n<path fill=\"none\" stroke=\"#000000\" d=\"M120.5841,-146.0209C107.6528,-136.116 90.8508,-123.2464 76.6126,-112.3405\"/>\n<polygon fill=\"#000000\" stroke=\"#000000\" points=\"78.6413,-109.4857 68.5742,-106.1834 74.3847,-115.0428 78.6413,-109.4857\"/>\n</g>\n<!-- ASRS |=&#45;&gt;SDL -->\n<g id=\"edge2\" class=\"edge\">\n<title>ASRS |=&#45;&gt;SDL</title>\n<path fill=\"none\" stroke=\"#000000\" d=\"M141.4458,-143.8314C141.4458,-136.131 141.4458,-126.9743 141.4458,-118.4166\"/>\n<polygon fill=\"#000000\" stroke=\"#000000\" points=\"144.9459,-118.4132 141.4458,-108.4133 137.9459,-118.4133 144.9459,-118.4132\"/>\n</g>\n<!-- ASRS |=&#45;&gt;ASRS &amp;= -->\n<g id=\"edge5\" class=\"edge\">\n<title>ASRS |=&#45;&gt;ASRS &amp;=</title>\n<path fill=\"none\" stroke=\"#000000\" d=\"M157.5184,-145.0204C165.8127,-135.0671 175.0862,-121.7705 179.4458,-108 184.2749,-92.7462 184.2749,-87.2538 179.4458,-72 176.228,-61.836 170.3332,-51.9303 164.131,-43.4365\"/>\n<polygon fill=\"#000000\" stroke=\"#000000\" points=\"166.8207,-41.194 157.9141,-35.4561 161.2986,-45.4958 166.8207,-41.194\"/>\n</g>\n</g>\n</svg>\n"
          },
          "metadata": {
            "tags": []
          },
          "execution_count": 52
        }
      ]
    },
    {
      "cell_type": "markdown",
      "metadata": {
        "id": "k4w2djxpCvpG"
      },
      "source": [
        "# **Evaluating our Approach**"
      ]
    },
    {
      "cell_type": "markdown",
      "metadata": {
        "id": "09f7u9TaC8Pt"
      },
      "source": [
        "### **MuJava-M tool**"
      ]
    },
    {
      "cell_type": "markdown",
      "metadata": {
        "id": "3Rcjzh2GDDNK"
      },
      "source": [
        "We created a tool called Hunor to automate various steps of the study. We also developed hunor-maven-plugin to facilitate the execution of MuJava, MuJava-M, and mutation analysis in maven projects. To replicate the study or run the tools on other subjects, we provide a Docker image that contains all the tools and settings needed to run Hunor a maven project. The image is available on Docker Hub at https://hub.docker.com/r/mutationsubsumption/hunor."
      ]
    },
    {
      "cell_type": "markdown",
      "metadata": {
        "id": "oHgIBdjQDMn0"
      },
      "source": [
        "### **Our approach**"
      ]
    },
    {
      "cell_type": "markdown",
      "metadata": {
        "id": "kgarF6ZNDTZr"
      },
      "source": [
        "We generate mutants for joda-time v2.10.1, commons-math v3.6.1, commons-lang v3.6, h2 v1.4.199, and javassist v3.20. The results of our study are summarized in a CSV file. The following command downloads the CSV file from GitHub."
      ]
    },
    {
      "cell_type": "code",
      "metadata": {
        "id": "0l0SAVYuDYwM",
        "colab": {
          "base_uri": "https://localhost:8080/"
        },
        "outputId": "8172ead4-c860-4ee2-f2aa-de74939f3974"
      },
      "source": [
        "!wget -nc https://raw.githubusercontent.com/easy-software-ufal/subsumption-relations/master/Reduction%20and%20Effectiveness.csv"
      ],
      "execution_count": null,
      "outputs": [
        {
          "output_type": "stream",
          "text": [
            "--2020-11-11 14:36:50--  https://raw.githubusercontent.com/easy-software-ufal/subsumption-relations/master/Reduction%20and%20Effectiveness.csv\n",
            "Resolving raw.githubusercontent.com (raw.githubusercontent.com)... 151.101.0.133, 151.101.64.133, 151.101.128.133, ...\n",
            "Connecting to raw.githubusercontent.com (raw.githubusercontent.com)|151.101.0.133|:443... connected.\n",
            "HTTP request sent, awaiting response... 200 OK\n",
            "Length: 695452 (679K) [text/plain]\n",
            "Saving to: ‘Reduction and Effectiveness.csv’\n",
            "\n",
            "Reduction and Effec 100%[===================>] 679.15K  --.-KB/s    in 0.1s    \n",
            "\n",
            "2020-11-11 14:36:51 (6.51 MB/s) - ‘Reduction and Effectiveness.csv’ saved [695452/695452]\n",
            "\n"
          ],
          "name": "stdout"
        }
      ]
    },
    {
      "cell_type": "markdown",
      "metadata": {
        "id": "ZEpENBx8DkHm"
      },
      "source": [
        "The field of the CSV file are the following.\n",
        "```\n",
        "id - a non-unique random identifier generated by the script.\n",
        "target - mutation target (lexp + rexp, exp, -exp, etc.)\n",
        "mutants_in_minimal - amount of mutants in the minimal set (generated by MuJava-M)\n",
        "test_suites - amount of test suites generated by EvosuiteR (each mutant in the minimal set must have one)\n",
        "assertions - amount of tests with \"asserts\" (each test suite must have one, since EvosuiterR stops when finds a test)\n",
        "mutants - amount of mutants generated by MuJava\n",
        "killed_mutants - amount of killed mutants (from the total in \"mutants\")\n",
        "not_equivalent_mutants - amount of mutants that were not classified as equivalents by TCE\n",
        "% - killed_mutants/mutants - effectiveness of MuJavaM.\n",
        "differential_success - indicates whether EvosuiteR successfully generated the test suites\n",
        "minimal - list of mutants in the minimal set\n",
        "survive - list of survived mutants \n",
        "killed - list of killed mutants\n",
        "equivalent - list of equivalent mutants classified by TCE\n",
        "class - classe onde o alvo foi encontrado.\n",
        "method - method where the target was found\n",
        "line - line where the target was found (MuJava generates a new source code file, which we need to check since the line may not be the same\n",
        "column - column of the mutation target\n",
        "project - project of the mutation target\n",
        "```\n"
      ]
    },
    {
      "cell_type": "markdown",
      "metadata": {
        "id": "37ivHKdnDpjg"
      },
      "source": [
        "**Reading the CSV file**"
      ]
    },
    {
      "cell_type": "code",
      "metadata": {
        "id": "BYq7gXiUDyJy",
        "colab": {
          "base_uri": "https://localhost:8080/"
        },
        "outputId": "66f2bb5d-0f2e-4342-d4f8-8e098ec60f0e"
      },
      "source": [
        "df = pandas.read_csv('Reduction and Effectiveness.csv',sep=',')\n",
        "df.tail()\n",
        "# we delete some columns\n",
        "del df['test_suites']\n",
        "del df['assertions']\n",
        "#del df['class']\n",
        "del df['method']\n",
        "del df['line']\n",
        "del df['column']\n",
        "del df['differential_success']\n",
        "del df['id']\n",
        "print(\"We have \"+str(len(df))+\" rows\")\n",
        "df.loc[df['target']=='lexp ^ rexp', 'minimal'] = 'LOR |'\n",
        "df.loc[df['target']=='exp++', 'minimal'] = 'LOI ~exp'\n",
        "df.loc[df['target']=='exp--', 'minimal'] = 'LOI ~exp'"
      ],
      "execution_count": null,
      "outputs": [
        {
          "output_type": "stream",
          "text": [
            "We have 4137 rows\n"
          ],
          "name": "stdout"
        }
      ]
    },
    {
      "cell_type": "markdown",
      "metadata": {
        "id": "FmYRN07bD-s6"
      },
      "source": [
        "**Defining some helper functions**"
      ]
    },
    {
      "cell_type": "code",
      "metadata": {
        "id": "NsCqGwI9ECc2"
      },
      "source": [
        "def getElements(df, column):\n",
        "  \"\"\"\n",
        "  This function returns the set of elements present in a certain column of a dataframe.\n",
        "  \"\"\"\n",
        "  elements = []\n",
        "  for s in df[column].values:\n",
        "    s = str(s)\n",
        "    current_list_of_elements = s.split(',')\n",
        "    for element in current_list_of_elements:\n",
        "      elements.append(element)\n",
        "  elements = set(elements)\n",
        "  elements.discard(\"nan\") # we remove nan \n",
        "  return elements\n",
        "  \n",
        "def calculateNumberOfMutantsMuJava(df):\n",
        "  counter = 0\n",
        "  # go through each line of the file\n",
        "  for i in df.index: \n",
        "      line = df[df.index==i]\n",
        "      killed = getElements(line, \"killed\")\n",
        "      survive = getElements(line, \"survive\")\n",
        "      equivalent = getElements(line, \"equivalent\")\n",
        "      allMutants = killed.union(survive).union(equivalent)\n",
        "      counter = counter + len(allMutants)\n",
        "  return counter\n",
        "\n",
        "def calculateNumberOfMutantsMuJavaM(df):\n",
        "  counter = 0\n",
        "  # go through each line of the file\n",
        "  for i in df.index: \n",
        "      line = df[df.index==i]\n",
        "      minimal = getElements(line, \"minimal\")\n",
        "      counter = counter + len(minimal)\n",
        "  return counter\n",
        "\n",
        "def calculateNumberOfMutantsIntersectionEquivalentSurvived(df):\n",
        "  counter = 0\n",
        "  # go through each line of the file\n",
        "  for i in df.index: \n",
        "    line = df[df.index==i]\n",
        "    survive = getElements(line, \"survive\")\n",
        "    equivalent = getElements(line, \"equivalent\")\n",
        "    if(len(survive.intersection(equivalent))>0):\n",
        "      counter = counter + 1\n",
        "    if(len(equivalent.intersection(survive))>0):\n",
        "      counter = counter + 1\n",
        "  return counter"
      ],
      "execution_count": null,
      "outputs": []
    },
    {
      "cell_type": "markdown",
      "metadata": {
        "id": "o1yS8ywfEMKI"
      },
      "source": [
        "Identifying the number of occurences and mutants for the targets that have the same minimal set in the ICST and our current evaluation. The preprint of the ICST paper can be found [here.](https://www.cin.ufpe.br/~damorim/publications/guimaraes-etal-icst2020.pdf)"
      ]
    },
    {
      "cell_type": "code",
      "metadata": {
        "id": "YCVID29xERkU",
        "colab": {
          "base_uri": "https://localhost:8080/"
        },
        "outputId": "e610e2cb-d852-435a-e9c0-30b46dddcf71"
      },
      "source": [
        "# Mutations that have the same minimal set of mutants in both approaches (ICST 2020 and our approach)\n",
        "mutations = ['lexp == rexp', 'lexp != rexp', 'lexp > rexp', 'lexp >= rexp',\n",
        "            'lexp < rexp', 'lexp <= rexp', \n",
        "            'lhs <<= rhs', 'lhs >>= rhs', 'lhs &= rhs', 'lhs |= rhs', 'lhs ^= rhs',\n",
        "            'exp', '-exp', 'exp++', 'exp--','~exp','+exp','!exp',\n",
        "            'lexp & rexp','lexp | rexp','lexp ^ rexp',\n",
        "            'lexp && rexp','lexp || rexp']          \n",
        "indexes = []       \n",
        "result = pandas.DataFrame(columns=df.columns) \n",
        "\n",
        "for i in df.index: \n",
        "    line = df[df.index==i]    \n",
        "    t = line['target'].values\n",
        "    if(t[0] in mutations):\n",
        "      if(t[0] == 'lexp == rexp'):\n",
        "        minimal = getElements(line, 'minimal')\n",
        "        if(minimal == {'ROR >=', 'ROR false', 'ROR <='}):\n",
        "          result = result.append(line)\n",
        "      elif(t[0] == 'lexp != rexp'): \n",
        "        minimal = getElements(line, 'minimal')\n",
        "        if(minimal == {'ROR >', 'ROR true', 'ROR <'}):\n",
        "          result = result.append(line)\n",
        "      elif(t[0] == 'exp'): \n",
        "        minimal = getElements(line,'minimal')\n",
        "        if(minimal == {'AOIU -exp'}):\n",
        "          result = result.append(line)          \n",
        "      else:\n",
        "        result = result.append(line)\n",
        "\n",
        "print(\"We have \"+ str(len(result)) +\" occurences of mutation targets\")\n",
        "print(\"We have \"+ str(calculateNumberOfMutantsMuJava(result)) +\" mutants generated by MuJava in our evaluation\")\n",
        "print(\"We have \"+ str(calculateNumberOfMutantsMuJavaM(result)) +\" mutants generated by MuJava-M in our evaluation\")\n",
        "print(\"We have \"+ str(len(getElements(result, \"target\"))) +\" different targets in our evaluation\")\n",
        "getElements(result, \"target\")\n",
        "\n",
        "df = result\n",
        "\n",
        "projects = df['project'].unique()\n",
        "print('We evaluate the following large real open source projects: '+str(projects))"
      ],
      "execution_count": null,
      "outputs": [
        {
          "output_type": "stream",
          "text": [
            "We have 1403 occurences of mutation targets\n",
            "We have 6898 mutants generated by MuJava in our evaluation\n",
            "We have 1850 mutants generated by MuJava-M in our evaluation\n",
            "We have 18 different targets in our evaluation\n",
            "We evaluate the following large real open source projects: ['h2' 'joda-time' 'commons-math' 'javassist' 'commons-lang']\n"
          ],
          "name": "stdout"
        }
      ]
    },
    {
      "cell_type": "markdown",
      "metadata": {
        "id": "pEa2DiDQEWNN"
      },
      "source": [
        "Identifying the number of classes, and mutants generated by MuJava and MuJava-M in each project"
      ]
    },
    {
      "cell_type": "code",
      "metadata": {
        "id": "m9Jo0nM6EXK-",
        "colab": {
          "base_uri": "https://localhost:8080/"
        },
        "outputId": "86a79a99-8f39-4a37-f19e-1e4b84fc9d4e"
      },
      "source": [
        "numberOfClasses = 0\n",
        "numberOfMutantsMuJava = 0\n",
        "numberOfMutantsMuJavaM = 0\n",
        "\n",
        "for p in projects:\n",
        "  rows = df[df['project']==str(p)]\n",
        "  classes = len(rows[\"class\"].unique())\n",
        "  numberOfClasses = numberOfClasses + classes\n",
        "  mujava = calculateNumberOfMutantsMuJava(rows)\n",
        "  numberOfMutantsMuJava = numberOfMutantsMuJava + mujava\n",
        "  mujavam = calculateNumberOfMutantsMuJavaM(rows)\n",
        "  numberOfMutantsMuJavaM = numberOfMutantsMuJavaM + mujavam\n",
        "  print(\"Project \"+str(p)+\": #classes: \"+str(classes)+\"; #mutants generated by MuJava: \"+\n",
        "        str(mujava)+\"; #mutants generated by MuJavaM: \"+str(mujavam))\n",
        "  \n",
        "print(\"We evaluate in total:\" + \n",
        "      \"\\n#classes: \" + str(numberOfClasses) +\n",
        "      \"\\n#mutants generated by MuJava: \" + str(numberOfMutantsMuJava) + \n",
        "      \"\\n#mutants generated by MuJavaM: \" + str(numberOfMutantsMuJavaM))"
      ],
      "execution_count": null,
      "outputs": [
        {
          "output_type": "stream",
          "text": [
            "Project h2: #classes: 11; #mutants generated by MuJava: 231; #mutants generated by MuJavaM: 63\n",
            "Project joda-time: #classes: 38; #mutants generated by MuJava: 2755; #mutants generated by MuJavaM: 666\n",
            "Project commons-math: #classes: 34; #mutants generated by MuJava: 1282; #mutants generated by MuJavaM: 368\n",
            "Project javassist: #classes: 20; #mutants generated by MuJava: 893; #mutants generated by MuJavaM: 216\n",
            "Project commons-lang: #classes: 22; #mutants generated by MuJava: 1737; #mutants generated by MuJavaM: 537\n",
            "We evaluate in total:\n",
            "#classes: 125\n",
            "#mutants generated by MuJava: 6898\n",
            "#mutants generated by MuJavaM: 1850\n"
          ],
          "name": "stdout"
        }
      ]
    },
    {
      "cell_type": "markdown",
      "metadata": {
        "id": "uUQvX3u3Eh4w"
      },
      "source": [
        "Identifying the number of occurrences for each target"
      ]
    },
    {
      "cell_type": "code",
      "metadata": {
        "id": "NTK5MustEizj",
        "colab": {
          "base_uri": "https://localhost:8080/"
        },
        "outputId": "7b8df065-e50a-4af3-dad0-564cffdf4ff6"
      },
      "source": [
        "targets = getElements(df,\"target\")\n",
        "def listTargetsOccurrences(df):\n",
        "  for t in targets:\n",
        "    dfTargets = df[df['target']==t]\n",
        "    projects = dfTargets['project'].unique()\n",
        "    if len(dfTargets) > 0:\n",
        "      print(\"Target: \"+t+\" Occurrences: \"+str(len(dfTargets))+\" Projects: \"+str(len(projects)))\n",
        "      \n",
        "listTargetsOccurrences(df)"
      ],
      "execution_count": null,
      "outputs": [
        {
          "output_type": "stream",
          "text": [
            "Target: lexp > rexp Occurrences: 19 Projects: 4\n",
            "Target: lexp == rexp Occurrences: 34 Projects: 2\n",
            "Target: lexp & rexp Occurrences: 33 Projects: 2\n",
            "Target: lexp | rexp Occurrences: 6 Projects: 1\n",
            "Target: lexp || rexp Occurrences: 25 Projects: 4\n",
            "Target: lexp < rexp Occurrences: 35 Projects: 4\n",
            "Target: ~exp Occurrences: 13 Projects: 2\n",
            "Target: -exp Occurrences: 38 Projects: 4\n",
            "Target: exp++ Occurrences: 4 Projects: 3\n",
            "Target: exp-- Occurrences: 4 Projects: 2\n",
            "Target: lexp != rexp Occurrences: 14 Projects: 4\n",
            "Target: lexp <= rexp Occurrences: 16 Projects: 3\n",
            "Target: lexp ^ rexp Occurrences: 6 Projects: 1\n",
            "Target: exp Occurrences: 1089 Projects: 5\n",
            "Target: lhs ^= rhs Occurrences: 1 Projects: 1\n",
            "Target: !exp Occurrences: 27 Projects: 4\n",
            "Target: lexp && rexp Occurrences: 13 Projects: 2\n",
            "Target: lexp >= rexp Occurrences: 26 Projects: 4\n"
          ],
          "name": "stdout"
        }
      ]
    },
    {
      "cell_type": "markdown",
      "metadata": {
        "id": "OZQ5QfBzEqfN"
      },
      "source": [
        "Identifying the reduction and effectiveness of our approach for each target"
      ]
    },
    {
      "cell_type": "code",
      "metadata": {
        "id": "n1PtK108Eria",
        "colab": {
          "base_uri": "https://localhost:8080/"
        },
        "outputId": "5d410f0b-c51b-4237-9fde-ad34fec2e2b7"
      },
      "source": [
        "def getReductionAndEffectivenessOurApproach(df):\n",
        "  mapOurApproachMinimal = {}\n",
        "  mapBaselineMinimal = {}\n",
        "  mapAllMutants = {}\n",
        "  for i in df.index: \n",
        "      line = df[df.index==i]\n",
        "      target = str(line['target'].values)\n",
        "      killed = getElements(line, \"killed\")\n",
        "      survive = getElements(line, \"survive\")\n",
        "      equivalent = getElements(line, \"equivalent\")\n",
        "      ourMinimal = getElements(line, \"minimal\")\n",
        "      baselineMinimal = ourMinimal.union(survive)-equivalent\n",
        "      allMutants = killed.union(survive)-equivalent\n",
        "      mapOurApproachMinimal[target] = mapOurApproachMinimal.get(target, 0) + len(ourMinimal)\n",
        "      mapBaselineMinimal[target] = mapBaselineMinimal.get(target, 0) + len(baselineMinimal)\n",
        "      mapAllMutants[target] = mapAllMutants.get(target, 0) + len(allMutants)\n",
        "  print(mapOurApproachMinimal)\n",
        "  print(mapBaselineMinimal)\n",
        "  print(mapAllMutants)  \n",
        "  keys = mapOurApproachMinimal.keys()\n",
        "  effectiveness = 0\n",
        "  reduction = 0\n",
        "  for k in keys:\n",
        "    effectiveness = mapOurApproachMinimal.get(k, 0)/mapBaselineMinimal.get(k, 0)\n",
        "    reduction = mapOurApproachMinimal.get(k, 0)/mapAllMutants.get(k, 0)\n",
        "    print(\"Target: \"+str(k)+\" Reduction: \"+str(1-reduction)+\" Effectiveness: \"+str(effectiveness))\n",
        "\n",
        "getReductionAndEffectivenessOurApproach(df)"
      ],
      "execution_count": null,
      "outputs": [
        {
          "output_type": "stream",
          "text": [
            "{\"['exp']\": 1089, \"['lexp > rexp']\": 57, \"['lexp || rexp']\": 100, \"['lexp >= rexp']\": 78, \"['!exp']\": 27, \"['lexp != rexp']\": 42, \"['-exp']\": 38, \"['lexp == rexp']\": 102, \"['lexp < rexp']\": 105, \"['lexp && rexp']\": 52, \"['lexp <= rexp']\": 48, \"['exp++']\": 4, \"['lexp ^ rexp']\": 6, \"['~exp']\": 13, \"['exp--']\": 4, \"['lexp & rexp']\": 66, \"['lexp | rexp']\": 18, \"['lhs ^= rhs']\": 1}\n",
            "{\"['exp']\": 2307, \"['lexp > rexp']\": 57, \"['lexp || rexp']\": 100, \"['lexp >= rexp']\": 78, \"['!exp']\": 27, \"['lexp != rexp']\": 42, \"['-exp']\": 41, \"['lexp == rexp']\": 102, \"['lexp < rexp']\": 105, \"['lexp && rexp']\": 52, \"['lexp <= rexp']\": 48, \"['exp++']\": 4, \"['lexp ^ rexp']\": 6, \"['~exp']\": 13, \"['exp--']\": 6, \"['lexp & rexp']\": 66, \"['lexp | rexp']\": 18, \"['lhs ^= rhs']\": 2}\n",
            "{\"['exp']\": 4501, \"['lexp > rexp']\": 152, \"['lexp || rexp']\": 225, \"['lexp >= rexp']\": 208, \"['!exp']\": 54, \"['lexp != rexp']\": 112, \"['-exp']\": 92, \"['lexp == rexp']\": 272, \"['lexp < rexp']\": 280, \"['lexp && rexp']\": 117, \"['lexp <= rexp']\": 127, \"['exp++']\": 14, \"['lexp ^ rexp']\": 36, \"['~exp']\": 31, \"['exp--']\": 24, \"['lexp & rexp']\": 185, \"['lexp | rexp']\": 30, \"['lhs ^= rhs']\": 3}\n",
            "Target: ['exp'] Reduction: 0.7580537658298157 Effectiveness: 0.4720416124837451\n",
            "Target: ['lexp > rexp'] Reduction: 0.625 Effectiveness: 1.0\n",
            "Target: ['lexp || rexp'] Reduction: 0.5555555555555556 Effectiveness: 1.0\n",
            "Target: ['lexp >= rexp'] Reduction: 0.625 Effectiveness: 1.0\n",
            "Target: ['!exp'] Reduction: 0.5 Effectiveness: 1.0\n",
            "Target: ['lexp != rexp'] Reduction: 0.625 Effectiveness: 1.0\n",
            "Target: ['-exp'] Reduction: 0.5869565217391304 Effectiveness: 0.926829268292683\n",
            "Target: ['lexp == rexp'] Reduction: 0.625 Effectiveness: 1.0\n",
            "Target: ['lexp < rexp'] Reduction: 0.625 Effectiveness: 1.0\n",
            "Target: ['lexp && rexp'] Reduction: 0.5555555555555556 Effectiveness: 1.0\n",
            "Target: ['lexp <= rexp'] Reduction: 0.6220472440944882 Effectiveness: 1.0\n",
            "Target: ['exp++'] Reduction: 0.7142857142857143 Effectiveness: 1.0\n",
            "Target: ['lexp ^ rexp'] Reduction: 0.8333333333333334 Effectiveness: 1.0\n",
            "Target: ['~exp'] Reduction: 0.5806451612903225 Effectiveness: 1.0\n",
            "Target: ['exp--'] Reduction: 0.8333333333333334 Effectiveness: 0.6666666666666666\n",
            "Target: ['lexp & rexp'] Reduction: 0.6432432432432432 Effectiveness: 1.0\n",
            "Target: ['lexp | rexp'] Reduction: 0.4 Effectiveness: 1.0\n",
            "Target: ['lhs ^= rhs'] Reduction: 0.6666666666666667 Effectiveness: 0.5\n"
          ],
          "name": "stdout"
        }
      ]
    },
    {
      "cell_type": "markdown",
      "metadata": {
        "id": "FL5pr-NUFEw4"
      },
      "source": [
        "### **Comparison with random sampling**"
      ]
    },
    {
      "cell_type": "markdown",
      "metadata": {
        "id": "oh3-Ea8TFMsI"
      },
      "source": [
        "Defining some functions to calculate the effectiveness of the random sampling approach"
      ]
    },
    {
      "cell_type": "code",
      "metadata": {
        "id": "Sbrj2suWFIzw"
      },
      "source": [
        "# Defining some constants\n",
        "MEAN = 0\n",
        "MEDIAN = 1\n",
        "\n",
        "def generateRandomList(quantity, interval):\n",
        "  randomList = []\n",
        "  counter = 0\n",
        "  while counter < quantity:\n",
        "    value = rd.randint(1, interval)\n",
        "    if(value in randomList):\n",
        "      continue\n",
        "    else:\n",
        "      randomList.append(value)\n",
        "      counter = counter + 1\n",
        "  return randomList\n",
        "\n",
        "def calculateSuccessOfRandom(baseline, random):\n",
        "  counter = 0\n",
        "  for elem in random:\n",
        "    if(elem in baseline):\n",
        "      counter = counter + 1\n",
        "  return counter\n",
        "\n",
        "def calculateEffectivenessOfRandom(quantityMutantsBaseline, quantityMutantsTotal, percentualRandom, iterations, measureType):  \n",
        "  # create a list with the baseline mutants\n",
        "  baseline = generateRandomList(quantityMutantsBaseline, quantityMutantsTotal)\n",
        "  quantityRandomElements = math.ceil(percentualRandom * quantityMutantsTotal) \n",
        "  successOfRandom = list()\n",
        "\n",
        "  for x in range(iterations):\n",
        "    randomList = generateRandomList(quantityRandomElements, quantityMutantsTotal)\n",
        "    currentSuccessOfRandom = calculateSuccessOfRandom(baseline, randomList)\n",
        "    successOfRandom.append(currentSuccessOfRandom)\n",
        "\n",
        "  if measureType == MEAN:\n",
        "    return sum(successOfRandom)/(quantityMutantsBaseline * iterations)\n",
        "  if measureType == MEDIAN:\n",
        "    successOfRandom.sort()\n",
        "    return successOfRandom[int(iterations/2)]/quantityMutantsBaseline\n",
        "\n",
        "def calculateEffectivenessOfRandomAll(df, percentualRandom, measureType, iterations):\n",
        "  counter = 0\n",
        "  successOfRandom = list()\n",
        "\n",
        "  # go through each line of the file\n",
        "  for i in df.index: \n",
        "      line = df[df.index==i]\n",
        "      killed = getElements(line, \"killed\")\n",
        "      survive = getElements(line, \"survive\")\n",
        "      equivalent = getElements(line, \"equivalent\")\n",
        "      minimal = getElements(line, \"minimal\")\n",
        "      baseline = minimal.union(survive)-equivalent\n",
        "      allMutants = killed.union(survive)-equivalent\n",
        "      currentSuccessOfRandom = calculateEffectivenessOfRandom(len(baseline), len(allMutants), percentualRandom, iterations, measureType)\n",
        "      successOfRandom.append(currentSuccessOfRandom)\n",
        "      counter = counter + 1\n",
        "\n",
        "  if measureType == MEAN:\n",
        "    return sum(successOfRandom)/counter\n",
        "  if measureType == MEDIAN:\n",
        "    successOfRandom.sort()\n",
        "    return successOfRandom[int(counter/2)]"
      ],
      "execution_count": null,
      "outputs": []
    },
    {
      "cell_type": "markdown",
      "metadata": {
        "id": "oIL2lrvcFXhq"
      },
      "source": [
        "Defining some functions to caculate the effectiveness of our approach"
      ]
    },
    {
      "cell_type": "code",
      "metadata": {
        "id": "MS49lrzHFYg-"
      },
      "source": [
        "def calculateSamplingRateSubsumptionRelations(df):\n",
        "  total = 0\n",
        "  minimalCount = 0\n",
        "  # go through each line of the file\n",
        "  for i in df.index: \n",
        "      line = df[df.index==i]\n",
        "      killed = getElements(line, \"killed\")\n",
        "      survive = getElements(line, \"survive\")\n",
        "      equivalent = getElements(line, \"equivalent\")\n",
        "      minimal = getElements(line, \"minimal\")\n",
        "      allMutants = killed.union(survive)-equivalent\n",
        "      minimalCount = minimalCount + len(minimal)\n",
        "      total = total + len(allMutants)\n",
        "  return minimalCount/total\n",
        "\n",
        "def calculateEffectivenessOfOurApproachAll(df):\n",
        "  counter = 0\n",
        "  successOfOurApproach = 0\n",
        "\n",
        "  # go through each line of the file\n",
        "  for i in df.index: \n",
        "      line = df[df.index==i]\n",
        "      killed = getElements(line, \"killed\")\n",
        "      survive = getElements(line, \"survive\")\n",
        "      equivalent = getElements(line, \"equivalent\")\n",
        "      minimal = getElements(line, \"minimal\")\n",
        "      baseline = minimal.union(survive)-equivalent\n",
        "      allMutants = killed.union(survive)-equivalent\n",
        "      currentSuccessOfOurApproach = len(minimal)/len(baseline)\n",
        "      successOfOurApproach = successOfOurApproach + currentSuccessOfOurApproach\n",
        "      counter = counter + 1\n",
        "\n",
        "  return successOfOurApproach/counter"
      ],
      "execution_count": null,
      "outputs": []
    },
    {
      "cell_type": "markdown",
      "metadata": {
        "id": "2GIrgqIaFgRo"
      },
      "source": [
        "Calculating the effectiveness of both approaches"
      ]
    },
    {
      "cell_type": "code",
      "metadata": {
        "id": "quKAoVKoFhNg",
        "colab": {
          "base_uri": "https://localhost:8080/"
        },
        "outputId": "02634c86-1ae7-4ea8-abfd-0a1c287dc64b"
      },
      "source": [
        "#measureType = MEAN # mean of success in the X iterations in each line\n",
        "measureType = MEDIAN # median of success in the X iterations in each line\n",
        "sample = 10 # number of considered sampling rates\n",
        "iterationsInEachLine = 100 # number of runnings in each line\n",
        "values = []\n",
        "x = []\n",
        "\n",
        "for i in range(sample):\n",
        "  xval = i/sample\n",
        "  x.append(xval)\n",
        "  effectiveness = calculateEffectivenessOfRandomAll(df, xval, measureType, iterationsInEachLine)\n",
        "  values.append(effectiveness)\n",
        "\n",
        "ourApproachEff = calculateEffectivenessOfOurApproachAll(df)\n",
        "ourApproachSamp = calculateSamplingRateSubsumptionRelations(df)\n",
        "print(\"Our approach has a sampling rate of \"+str(ourApproachSamp)+\n",
        "      \" and an effectiveness of \"+str(ourApproachEff))"
      ],
      "execution_count": null,
      "outputs": [
        {
          "output_type": "stream",
          "text": [
            "Our approach has a sampling rate of 0.28624477796688846 and an effectiveness of 0.759265858873844\n"
          ],
          "name": "stdout"
        }
      ]
    },
    {
      "cell_type": "markdown",
      "metadata": {
        "id": "iwAZluVxFn1B"
      },
      "source": [
        "Creating a figure to compare our approach to the random sampling approach"
      ]
    },
    {
      "cell_type": "code",
      "metadata": {
        "id": "QIAiBIBMFo9Y",
        "colab": {
          "base_uri": "https://localhost:8080/",
          "height": 279
        },
        "outputId": "9818c7e8-c12b-48ac-86ad-2cb3d61c25dc"
      },
      "source": [
        "plt.plot(x, values)\n",
        "plt.xlabel('random sampling')\n",
        "plt.ylabel('effectiveness')\n",
        "plt.plot(ourApproachSamp,ourApproachEff,'ro') \n",
        "plt.text(ourApproachSamp,ourApproachEff,'Our approach',horizontalalignment='right')\n",
        "plt.show()"
      ],
      "execution_count": null,
      "outputs": [
        {
          "output_type": "display_data",
          "data": {
            "image/png": "[encoded data removed]",
            "text/plain": [
              "<Figure size 432x288 with 1 Axes>"
            ]
          },
          "metadata": {
            "tags": [],
            "needs_background": "light"
          }
        }
      ]
    }
  ]
}